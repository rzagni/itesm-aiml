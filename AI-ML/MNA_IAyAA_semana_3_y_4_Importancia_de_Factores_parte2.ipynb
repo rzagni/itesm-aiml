{
 "cells": [
  {
   "cell_type": "markdown",
   "id": "2f694668",
   "metadata": {},
   "source": [
    "# **Maestría en Inteligencia Artificial Aplicada**\n",
    "## **Curso: Inteligencia Artificial y Aprendizaje Automático**\n",
    "### Tecnológico de Monterrey\n",
    "### Prof Luis Eduardo Falcón Morales\n",
    "\n",
    "### **Semanas 3 y 4**\n",
    "## **Importancia de Factores**"
   ]
  },
  {
   "cell_type": "code",
   "execution_count": 1,
   "id": "af9567b0",
   "metadata": {},
   "outputs": [],
   "source": [
    "import pandas as pd\n",
    "import numpy as np\n",
    "import matplotlib.pyplot as plt \n",
    "import seaborn as sns \n",
    "\n",
    "from sklearn.datasets import make_regression\n",
    "from sklearn.model_selection import train_test_split\n",
    "\n",
    "from sklearn.linear_model import LinearRegression\n",
    "\n",
    "from sklearn.metrics import confusion_matrix, classification_report"
   ]
  },
  {
   "cell_type": "code",
   "execution_count": 2,
   "id": "77ed11f1",
   "metadata": {},
   "outputs": [],
   "source": [
    "X, y, cs = make_regression(n_samples=1000,  # Se generan \"n\" registros \n",
    "                       n_features=12,       # Cantidad de variables generar (factores o variables no necesariamente independientes entre ellas).\n",
    "                       n_informative=6,     # Cantidad de factores independientes que generarán el modelo lineal de salida.\n",
    "                       n_targets=1,         # Cantidad de variables dependientes de salida.\n",
    "                       bias=0.,             # Valor constante del modelo lineal.\n",
    "                       noise=1,             # Desviación estándar del ruido gaussiano aplicado a los datos.\n",
    "                       coef=True,           # Para obtener los coeficientes del modelo usado para generar los datos.\n",
    "                       random_state=7       # semilla\n",
    "                      )"
   ]
  },
  {
   "cell_type": "code",
   "execution_count": 8,
   "id": "472886e4",
   "metadata": {},
   "outputs": [
    {
     "name": "stdout",
     "output_type": "stream",
     "text": [
      "Información de los datos generados:\n",
      "Datos de entrada X: (1000, 12)\n",
      "Variable de salida y: (1000,)\n",
      "Coeficientes del modelo generado:\n",
      " [ 0.         56.00888795  0.          0.          0.          0.\n",
      " 77.46180405  0.          9.95495581 98.65680847 82.0223797  28.17147424]\n"
     ]
    }
   ],
   "source": [
    "print('Información de los datos generados:')\n",
    "print('Datos de entrada X:', X.shape)\n",
    "print('Variable de salida y:', y.shape)\n",
    "print('Coeficientes del modelo generado:\\n', cs)"
   ]
  },
  {
   "cell_type": "code",
   "execution_count": 4,
   "id": "2cdd56af",
   "metadata": {},
   "outputs": [],
   "source": [
    "X_train, Xvt, y_train, yvt = train_test_split(X, y, train_size=0.60, random_state=0)\n",
    "X_val, X_test, y_val, y_test = train_test_split(X, y, test_size=0.50, random_state=1)"
   ]
  },
  {
   "cell_type": "code",
   "execution_count": 6,
   "id": "ef6cccd5",
   "metadata": {},
   "outputs": [
    {
     "name": "stdout",
     "output_type": "stream",
     "text": [
      "valor de R2-Train: 0.9999639219882277\n",
      "valor de R2-Validation: 0.9999576382208616\n"
     ]
    }
   ],
   "source": [
    "modelo = LinearRegression()\n",
    "\n",
    "modelo.fit(X_train, y_train)\n",
    "\n",
    "print('valor de R2-Train:', modelo.score(X_train, y_train))\n",
    "print('valor de R2-Validation:', modelo.score(X_val, y_val))"
   ]
  },
  {
   "cell_type": "code",
   "execution_count": 7,
   "id": "e30f9436",
   "metadata": {},
   "outputs": [
    {
     "name": "stdout",
     "output_type": "stream",
     "text": [
      "Diferencia entre los coeficientes reales y predichos: 0.500218652459822\n"
     ]
    }
   ],
   "source": [
    "print('Diferencia entre los coeficientes reales y predichos:', (np.abs(modelo.coef_ - cs).sum()))"
   ]
  },
  {
   "cell_type": "markdown",
   "id": "5eb71b98",
   "metadata": {},
   "source": [
    "Bastante aceptable la aproximación, es decir, generamos un modelo completamente lineal y este modelo lineal encontrado lo explica al 99.99% :)"
   ]
  },
  {
   "cell_type": "markdown",
   "id": "213882ce",
   "metadata": {},
   "source": [
    "# **Importancia de los Factores del modelo de regresión lineal en base a la magnitud de sus Coeficientes**\n",
    "\n",
    "Lo que queremos es identificar las variables o factores de mayor importancia o impacto en el comportamiento de la variable de salida \"y\".\n",
    "\n",
    "Ya comentamos en un ejercicio previo que una manera de medir la importancia de cada factor es con la magnitud de su coeficiente... y vemos que precisamente los coeficiente con un valor relativamente diferente de 0, coinciden con las variables independientes que se generaron al inicio. \n",
    "\n",
    "Sin embargo, volvemos a recordar que este método no es en general del todo válido, sobre todo cuando pueda haber también algunas relaciones no lineales entre algunos factores. Pero como hemos comentado, como una primera aproximación y habiendo escalado todos los factores al inicio, esta técnica podría empezar a darnos una buena idea muy rápido de cómo está participando cada factor en las predicciones del problema."
   ]
  },
  {
   "cell_type": "code",
   "execution_count": 9,
   "id": "8d54ebea",
   "metadata": {},
   "outputs": [
    {
     "name": "stdout",
     "output_type": "stream",
     "text": [
      "Factor: 0, Coef-modelo: 0.04036, Coef-verdadero: False\n",
      "Factor: 1, Coef-modelo: 56.00357, Coef-verdadero: True\n",
      "Factor: 2, Coef-modelo: 0.07124, Coef-verdadero: False\n",
      "Factor: 3, Coef-modelo: 0.04569, Coef-verdadero: False\n",
      "Factor: 4, Coef-modelo: 0.07386, Coef-verdadero: False\n",
      "Factor: 5, Coef-modelo: 0.04766, Coef-verdadero: False\n",
      "Factor: 6, Coef-modelo: 77.41312, Coef-verdadero: True\n",
      "Factor: 7, Coef-modelo: 0.01841, Coef-verdadero: False\n",
      "Factor: 8, Coef-modelo: 9.85973, Coef-verdadero: True\n",
      "Factor: 9, Coef-modelo: 98.70371, Coef-verdadero: True\n",
      "Factor: 10, Coef-modelo: 82.01802, Coef-verdadero: True\n",
      "Factor: 11, Coef-modelo: 28.16895, Coef-verdadero: True\n"
     ]
    }
   ],
   "source": [
    "importance = modelo.coef_\n",
    "\n",
    "for i,v in enumerate(importance):\n",
    " print('Factor: %0d, Coef-modelo: %.5f, Coef-verdadero: %s' % (i,v,cs[i]>0.))"
   ]
  },
  {
   "cell_type": "markdown",
   "id": "24b79296",
   "metadata": {},
   "source": [
    "Podemos visualizarlos de manera gráfica, para identificarlos mejor, sobre todo cuando son muchos:"
   ]
  },
  {
   "cell_type": "code",
   "execution_count": 10,
   "id": "0188a4ed",
   "metadata": {},
   "outputs": [
    {
     "data": {
      "image/png": "[encoded data removed]",
      "text/plain": [
       "<Figure size 640x480 with 1 Axes>"
      ]
     },
     "metadata": {},
     "output_type": "display_data"
    }
   ],
   "source": [
    "plt.barh([pd.DataFrame(X_train).columns[x] for x in range(len(importance))], importance)\n",
    "plt.show()"
   ]
  },
  {
   "cell_type": "markdown",
   "id": "8ea8960f",
   "metadata": {},
   "source": [
    "Identifica muy bien los 6 factores independientes y podríamos resaltar los factores 6, 9 y 10 como los que están en principio explicando mejor la variabilidad de la salida \"y\". "
   ]
  },
  {
   "cell_type": "markdown",
   "id": "3146e3b6",
   "metadata": {},
   "source": [
    "# **Importancia de los Factores del modelo de regresión lineal en base a la técnica llamada Importancia de Permutaciones (Permutation Importance)**\n",
    "\n",
    "Este método funciona como sigue: una vez obtenido el modelo de regresión buscado, se calcula algún tipo de error en el cunjunto de entrenamiento o de validación. Generalmente conviene usar el conjunto de validación, para tener una mejor idea de cómo generalizará el modelo en sus predicciones.\n",
    "\n",
    "En cuanto al error a calcular, para el caso de un modelo de regresión lineal podría ser $R^2$, MSE, RMSE, MAE, MAPE, etc. Y en un problema de clasificación se podría usar la exactitud (accuracy), la precisión (precision), la exhaustividad (recall), f1-score, etc. La elección del error estará también asociada a qué se quiere dar mayor importancia en las inferencias, en dado caso.\n",
    "\n",
    "A continuación, se elige una columna (variable independiente o factor) al azar y se revuelven aleatoriamente todos sus elementos (matemáticamente a esta acción de revolverlos o intercambiarlos de lugar sin quitar o agregar elementos nuevos se le llama Permutación). Una vez revueltos se vuelve a calcular el error elegido y se mide qué tanto se afectó el desempeño del modelo, con respecto al calculado con todos los factores en orden. Mientras mayor sea el cambio de dicho error, mayor \"importancia\" o \"calificación\" se le asigna a dicho factor. Menor menor sea el impacto o afectación en el error inicial, menor la \"importancia\" de ese factor.\n",
    "\n",
    "Este proceso se repite varias veces, promediando y ponderando el impacto que cada factor tuvo en el total de permutaciones realizadas.\n",
    "\n",
    "Como podemos inferir de esta técnica, nos da una idea más robusta de la participación de cada variable, aunque nuevamente podrían existir dependencias entre algunos factores que no refleje exactamente la imprtancia asignada.\n",
    "\n",
    "Por otro lado, esta técnica puede aplicarse a cualquier modelo lineal o no lineal, como las redes neuronales que estudiaremos más adelante. Por lo que para un mismo problema se podría aplicar el mismo proceso con diferentes modelos y observar las coincidencias o diferencias entre los diferentes factores y sus impactos."
   ]
  },
  {
   "cell_type": "code",
   "execution_count": 12,
   "id": "a4c23432",
   "metadata": {},
   "outputs": [
    {
     "data": {
      "text/html": [
       "<div>\n",
       "<style scoped>\n",
       "    .dataframe tbody tr th:only-of-type {\n",
       "        vertical-align: middle;\n",
       "    }\n",
       "\n",
       "    .dataframe tbody tr th {\n",
       "        vertical-align: top;\n",
       "    }\n",
       "\n",
       "    .dataframe thead th {\n",
       "        text-align: right;\n",
       "    }\n",
       "</style>\n",
       "<table border=\"1\" class=\"dataframe\">\n",
       "  <thead>\n",
       "    <tr style=\"text-align: right;\">\n",
       "      <th></th>\n",
       "      <th>0</th>\n",
       "      <th>1</th>\n",
       "      <th>2</th>\n",
       "      <th>3</th>\n",
       "      <th>4</th>\n",
       "      <th>5</th>\n",
       "      <th>6</th>\n",
       "      <th>7</th>\n",
       "      <th>8</th>\n",
       "      <th>9</th>\n",
       "      <th>10</th>\n",
       "      <th>11</th>\n",
       "    </tr>\n",
       "  </thead>\n",
       "  <tbody>\n",
       "    <tr>\n",
       "      <th>0</th>\n",
       "      <td>-1.075987</td>\n",
       "      <td>0.421996</td>\n",
       "      <td>2.123474</td>\n",
       "      <td>-0.261173</td>\n",
       "      <td>1.478673</td>\n",
       "      <td>-1.003978</td>\n",
       "      <td>-0.372826</td>\n",
       "      <td>0.160238</td>\n",
       "      <td>-1.329782</td>\n",
       "      <td>-0.616925</td>\n",
       "      <td>-2.269504</td>\n",
       "      <td>2.097126</td>\n",
       "    </tr>\n",
       "    <tr>\n",
       "      <th>1</th>\n",
       "      <td>-0.692416</td>\n",
       "      <td>-1.159568</td>\n",
       "      <td>0.431215</td>\n",
       "      <td>-0.564726</td>\n",
       "      <td>-0.893833</td>\n",
       "      <td>-1.593590</td>\n",
       "      <td>-0.492133</td>\n",
       "      <td>1.267810</td>\n",
       "      <td>0.177172</td>\n",
       "      <td>-0.027371</td>\n",
       "      <td>0.737565</td>\n",
       "      <td>-1.038402</td>\n",
       "    </tr>\n",
       "    <tr>\n",
       "      <th>2</th>\n",
       "      <td>-0.299828</td>\n",
       "      <td>0.300114</td>\n",
       "      <td>-1.137137</td>\n",
       "      <td>0.593128</td>\n",
       "      <td>-0.573274</td>\n",
       "      <td>0.475460</td>\n",
       "      <td>-0.443644</td>\n",
       "      <td>-0.316865</td>\n",
       "      <td>-0.172183</td>\n",
       "      <td>0.788505</td>\n",
       "      <td>-0.361668</td>\n",
       "      <td>0.810768</td>\n",
       "    </tr>\n",
       "    <tr>\n",
       "      <th>3</th>\n",
       "      <td>-0.453332</td>\n",
       "      <td>-0.801854</td>\n",
       "      <td>-1.323850</td>\n",
       "      <td>0.687394</td>\n",
       "      <td>-0.206466</td>\n",
       "      <td>0.683647</td>\n",
       "      <td>-0.079398</td>\n",
       "      <td>0.733162</td>\n",
       "      <td>0.808715</td>\n",
       "      <td>0.737808</td>\n",
       "      <td>-0.665344</td>\n",
       "      <td>2.357206</td>\n",
       "    </tr>\n",
       "    <tr>\n",
       "      <th>4</th>\n",
       "      <td>0.463156</td>\n",
       "      <td>0.132676</td>\n",
       "      <td>-0.939153</td>\n",
       "      <td>0.079820</td>\n",
       "      <td>-0.858953</td>\n",
       "      <td>-2.101339</td>\n",
       "      <td>-0.225635</td>\n",
       "      <td>-0.154308</td>\n",
       "      <td>-0.501418</td>\n",
       "      <td>-0.294588</td>\n",
       "      <td>-0.644191</td>\n",
       "      <td>0.791908</td>\n",
       "    </tr>\n",
       "    <tr>\n",
       "      <th>...</th>\n",
       "      <td>...</td>\n",
       "      <td>...</td>\n",
       "      <td>...</td>\n",
       "      <td>...</td>\n",
       "      <td>...</td>\n",
       "      <td>...</td>\n",
       "      <td>...</td>\n",
       "      <td>...</td>\n",
       "      <td>...</td>\n",
       "      <td>...</td>\n",
       "      <td>...</td>\n",
       "      <td>...</td>\n",
       "    </tr>\n",
       "    <tr>\n",
       "      <th>595</th>\n",
       "      <td>0.972737</td>\n",
       "      <td>-1.250412</td>\n",
       "      <td>-0.333982</td>\n",
       "      <td>-0.181690</td>\n",
       "      <td>0.134652</td>\n",
       "      <td>0.948211</td>\n",
       "      <td>-0.611231</td>\n",
       "      <td>-1.480404</td>\n",
       "      <td>-0.053254</td>\n",
       "      <td>-1.834470</td>\n",
       "      <td>-1.159282</td>\n",
       "      <td>-0.985846</td>\n",
       "    </tr>\n",
       "    <tr>\n",
       "      <th>596</th>\n",
       "      <td>0.496125</td>\n",
       "      <td>-1.077985</td>\n",
       "      <td>-1.951978</td>\n",
       "      <td>-0.711053</td>\n",
       "      <td>-1.121962</td>\n",
       "      <td>-0.530854</td>\n",
       "      <td>0.088155</td>\n",
       "      <td>0.373331</td>\n",
       "      <td>-1.336521</td>\n",
       "      <td>0.209722</td>\n",
       "      <td>-0.520972</td>\n",
       "      <td>-1.832426</td>\n",
       "    </tr>\n",
       "    <tr>\n",
       "      <th>597</th>\n",
       "      <td>-2.312774</td>\n",
       "      <td>-1.182564</td>\n",
       "      <td>0.515740</td>\n",
       "      <td>0.755812</td>\n",
       "      <td>-1.191139</td>\n",
       "      <td>0.865565</td>\n",
       "      <td>0.826329</td>\n",
       "      <td>0.345456</td>\n",
       "      <td>-1.494837</td>\n",
       "      <td>-0.270035</td>\n",
       "      <td>-0.843163</td>\n",
       "      <td>0.103693</td>\n",
       "    </tr>\n",
       "    <tr>\n",
       "      <th>598</th>\n",
       "      <td>-0.386272</td>\n",
       "      <td>0.610834</td>\n",
       "      <td>0.110579</td>\n",
       "      <td>-2.156091</td>\n",
       "      <td>1.482407</td>\n",
       "      <td>0.330836</td>\n",
       "      <td>0.528477</td>\n",
       "      <td>0.368360</td>\n",
       "      <td>0.036465</td>\n",
       "      <td>-0.621144</td>\n",
       "      <td>-0.806215</td>\n",
       "      <td>-0.377902</td>\n",
       "    </tr>\n",
       "    <tr>\n",
       "      <th>599</th>\n",
       "      <td>-1.407512</td>\n",
       "      <td>-1.814345</td>\n",
       "      <td>1.300303</td>\n",
       "      <td>-0.166690</td>\n",
       "      <td>2.018393</td>\n",
       "      <td>-0.367168</td>\n",
       "      <td>0.586501</td>\n",
       "      <td>1.510368</td>\n",
       "      <td>1.369919</td>\n",
       "      <td>-0.503606</td>\n",
       "      <td>-1.375331</td>\n",
       "      <td>0.943028</td>\n",
       "    </tr>\n",
       "  </tbody>\n",
       "</table>\n",
       "<p>600 rows × 12 columns</p>\n",
       "</div>"
      ],
      "text/plain": [
       "           0         1         2         3         4         5         6    \n",
       "0   -1.075987  0.421996  2.123474 -0.261173  1.478673 -1.003978 -0.372826  \\\n",
       "1   -0.692416 -1.159568  0.431215 -0.564726 -0.893833 -1.593590 -0.492133   \n",
       "2   -0.299828  0.300114 -1.137137  0.593128 -0.573274  0.475460 -0.443644   \n",
       "3   -0.453332 -0.801854 -1.323850  0.687394 -0.206466  0.683647 -0.079398   \n",
       "4    0.463156  0.132676 -0.939153  0.079820 -0.858953 -2.101339 -0.225635   \n",
       "..        ...       ...       ...       ...       ...       ...       ...   \n",
       "595  0.972737 -1.250412 -0.333982 -0.181690  0.134652  0.948211 -0.611231   \n",
       "596  0.496125 -1.077985 -1.951978 -0.711053 -1.121962 -0.530854  0.088155   \n",
       "597 -2.312774 -1.182564  0.515740  0.755812 -1.191139  0.865565  0.826329   \n",
       "598 -0.386272  0.610834  0.110579 -2.156091  1.482407  0.330836  0.528477   \n",
       "599 -1.407512 -1.814345  1.300303 -0.166690  2.018393 -0.367168  0.586501   \n",
       "\n",
       "           7         8         9         10        11  \n",
       "0    0.160238 -1.329782 -0.616925 -2.269504  2.097126  \n",
       "1    1.267810  0.177172 -0.027371  0.737565 -1.038402  \n",
       "2   -0.316865 -0.172183  0.788505 -0.361668  0.810768  \n",
       "3    0.733162  0.808715  0.737808 -0.665344  2.357206  \n",
       "4   -0.154308 -0.501418 -0.294588 -0.644191  0.791908  \n",
       "..        ...       ...       ...       ...       ...  \n",
       "595 -1.480404 -0.053254 -1.834470 -1.159282 -0.985846  \n",
       "596  0.373331 -1.336521  0.209722 -0.520972 -1.832426  \n",
       "597  0.345456 -1.494837 -0.270035 -0.843163  0.103693  \n",
       "598  0.368360  0.036465 -0.621144 -0.806215 -0.377902  \n",
       "599  1.510368  1.369919 -0.503606 -1.375331  0.943028  \n",
       "\n",
       "[600 rows x 12 columns]"
      ]
     },
     "execution_count": 12,
     "metadata": {},
     "output_type": "execute_result"
    }
   ],
   "source": [
    "pd.DataFrame(X_train)"
   ]
  },
  {
   "cell_type": "code",
   "execution_count": 13,
   "id": "fa6b0b1f",
   "metadata": {},
   "outputs": [],
   "source": [
    "from sklearn.inspection import permutation_importance"
   ]
  },
  {
   "cell_type": "code",
   "execution_count": 14,
   "id": "dca8cc7f",
   "metadata": {},
   "outputs": [
    {
     "name": "stdout",
     "output_type": "stream",
     "text": [
      "Factor: 0, Coef-modelo: 0.00290, Coef-verdadero: False\n",
      "Factor: 1, Coef-modelo: 5598.97582, Coef-verdadero: True\n",
      "Factor: 2, Coef-modelo: 0.00859, Coef-verdadero: False\n",
      "Factor: 3, Coef-modelo: 0.00356, Coef-verdadero: False\n",
      "Factor: 4, Coef-modelo: -0.00174, Coef-verdadero: False\n",
      "Factor: 5, Coef-modelo: 0.00522, Coef-verdadero: False\n",
      "Factor: 6, Coef-modelo: 11351.12825, Coef-verdadero: True\n",
      "Factor: 7, Coef-modelo: 0.00055, Coef-verdadero: False\n",
      "Factor: 8, Coef-modelo: 188.05340, Coef-verdadero: True\n",
      "Factor: 9, Coef-modelo: 17630.66979, Coef-verdadero: True\n",
      "Factor: 10, Coef-modelo: 12394.79445, Coef-verdadero: True\n",
      "Factor: 11, Coef-modelo: 1477.17860, Coef-verdadero: True\n"
     ]
    }
   ],
   "source": [
    "\n",
    "resultados = permutation_importance(modelo, X_val, y_val, scoring='neg_mean_squared_error')\n",
    "\n",
    "importance = resultados.importances_mean\n",
    "\n",
    "for i,v in enumerate(importance):\n",
    " print('Factor: %0d, Coef-modelo: %.5f, Coef-verdadero: %s' % (i,v,cs[i]>0.))"
   ]
  },
  {
   "cell_type": "code",
   "execution_count": 15,
   "id": "119019a1",
   "metadata": {},
   "outputs": [
    {
     "data": {
      "image/png": "[encoded data removed]",
      "text/plain": [
       "<Figure size 640x480 with 1 Axes>"
      ]
     },
     "metadata": {},
     "output_type": "display_data"
    }
   ],
   "source": [
    "plt.barh([pd.DataFrame(X_train).columns[x] for x in range(len(importance))], importance)\n",
    "plt.show()"
   ]
  },
  {
   "cell_type": "markdown",
   "id": "7c6c03fe",
   "metadata": {},
   "source": [
    "Observa que la magnitud del impacto ahora se reslata más en las 3 o 4 de mayor magnitud y en este caso los factores 8 y 11, disminuyen bastante la calificación de su influencia en la variable de salida."
   ]
  },
  {
   "cell_type": "markdown",
   "id": "3b81c2c2",
   "metadata": {},
   "source": [
    "# Select Factors from Model"
   ]
  },
  {
   "cell_type": "code",
   "execution_count": 16,
   "id": "74c4ad63",
   "metadata": {},
   "outputs": [],
   "source": [
    "from sklearn.feature_selection import SelectFromModel"
   ]
  },
  {
   "cell_type": "code",
   "execution_count": 22,
   "id": "a0233d88",
   "metadata": {},
   "outputs": [],
   "source": [
    "max_f = 3\n",
    "\n",
    "# Indicamos el modelo que se usará para evaluar la importancia de los factores\n",
    "# y la cantidad de ellos que se desean extraer:\n",
    "fs = SelectFromModel(estimator=LinearRegression(), max_features=max_f)\n",
    "# ajustamos con  los datos de entrenamiento para determinar cuáles se consideran los más relevantes:\n",
    "fs.fit(X_train, np.ravel(y_train))\n",
    "# y ahora obtenemos los factores\n",
    "factor_select = fs.get_support()   "
   ]
  },
  {
   "cell_type": "code",
   "execution_count": 23,
   "id": "6cbcbc1b",
   "metadata": {},
   "outputs": [],
   "source": [
    "Xtrain_fs = pd.DataFrame(X_train)[pd.DataFrame(X_train).columns[factor_select]]\n",
    "Xval_fs = pd.DataFrame(X_val)[pd.DataFrame(X_val).columns[factor_select]]\n",
    "Xtest_fs = pd.DataFrame(X_test)[pd.DataFrame(X_test).columns[factor_select]]"
   ]
  },
  {
   "cell_type": "code",
   "execution_count": 24,
   "id": "24218cde",
   "metadata": {},
   "outputs": [
    {
     "data": {
      "text/html": [
       "<div>\n",
       "<style scoped>\n",
       "    .dataframe tbody tr th:only-of-type {\n",
       "        vertical-align: middle;\n",
       "    }\n",
       "\n",
       "    .dataframe tbody tr th {\n",
       "        vertical-align: top;\n",
       "    }\n",
       "\n",
       "    .dataframe thead th {\n",
       "        text-align: right;\n",
       "    }\n",
       "</style>\n",
       "<table border=\"1\" class=\"dataframe\">\n",
       "  <thead>\n",
       "    <tr style=\"text-align: right;\">\n",
       "      <th></th>\n",
       "      <th>6</th>\n",
       "      <th>9</th>\n",
       "      <th>10</th>\n",
       "    </tr>\n",
       "  </thead>\n",
       "  <tbody>\n",
       "    <tr>\n",
       "      <th>0</th>\n",
       "      <td>-0.372826</td>\n",
       "      <td>-0.616925</td>\n",
       "      <td>-2.269504</td>\n",
       "    </tr>\n",
       "    <tr>\n",
       "      <th>1</th>\n",
       "      <td>-0.492133</td>\n",
       "      <td>-0.027371</td>\n",
       "      <td>0.737565</td>\n",
       "    </tr>\n",
       "    <tr>\n",
       "      <th>2</th>\n",
       "      <td>-0.443644</td>\n",
       "      <td>0.788505</td>\n",
       "      <td>-0.361668</td>\n",
       "    </tr>\n",
       "    <tr>\n",
       "      <th>3</th>\n",
       "      <td>-0.079398</td>\n",
       "      <td>0.737808</td>\n",
       "      <td>-0.665344</td>\n",
       "    </tr>\n",
       "    <tr>\n",
       "      <th>4</th>\n",
       "      <td>-0.225635</td>\n",
       "      <td>-0.294588</td>\n",
       "      <td>-0.644191</td>\n",
       "    </tr>\n",
       "  </tbody>\n",
       "</table>\n",
       "</div>"
      ],
      "text/plain": [
       "         6         9         10\n",
       "0 -0.372826 -0.616925 -2.269504\n",
       "1 -0.492133 -0.027371  0.737565\n",
       "2 -0.443644  0.788505 -0.361668\n",
       "3 -0.079398  0.737808 -0.665344\n",
       "4 -0.225635 -0.294588 -0.644191"
      ]
     },
     "execution_count": 24,
     "metadata": {},
     "output_type": "execute_result"
    }
   ],
   "source": [
    "Xtrain_fs.head()"
   ]
  },
  {
   "cell_type": "code",
   "execution_count": 25,
   "id": "63a427f4",
   "metadata": {},
   "outputs": [
    {
     "data": {
      "text/html": [
       "<div>\n",
       "<style scoped>\n",
       "    .dataframe tbody tr th:only-of-type {\n",
       "        vertical-align: middle;\n",
       "    }\n",
       "\n",
       "    .dataframe tbody tr th {\n",
       "        vertical-align: top;\n",
       "    }\n",
       "\n",
       "    .dataframe thead th {\n",
       "        text-align: right;\n",
       "    }\n",
       "</style>\n",
       "<table border=\"1\" class=\"dataframe\">\n",
       "  <thead>\n",
       "    <tr style=\"text-align: right;\">\n",
       "      <th></th>\n",
       "      <th>0</th>\n",
       "      <th>1</th>\n",
       "      <th>2</th>\n",
       "      <th>3</th>\n",
       "      <th>4</th>\n",
       "      <th>5</th>\n",
       "      <th>6</th>\n",
       "      <th>7</th>\n",
       "      <th>8</th>\n",
       "      <th>9</th>\n",
       "      <th>10</th>\n",
       "      <th>11</th>\n",
       "    </tr>\n",
       "  </thead>\n",
       "  <tbody>\n",
       "    <tr>\n",
       "      <th>0</th>\n",
       "      <td>-1.075987</td>\n",
       "      <td>0.421996</td>\n",
       "      <td>2.123474</td>\n",
       "      <td>-0.261173</td>\n",
       "      <td>1.478673</td>\n",
       "      <td>-1.003978</td>\n",
       "      <td>-0.372826</td>\n",
       "      <td>0.160238</td>\n",
       "      <td>-1.329782</td>\n",
       "      <td>-0.616925</td>\n",
       "      <td>-2.269504</td>\n",
       "      <td>2.097126</td>\n",
       "    </tr>\n",
       "    <tr>\n",
       "      <th>1</th>\n",
       "      <td>-0.692416</td>\n",
       "      <td>-1.159568</td>\n",
       "      <td>0.431215</td>\n",
       "      <td>-0.564726</td>\n",
       "      <td>-0.893833</td>\n",
       "      <td>-1.593590</td>\n",
       "      <td>-0.492133</td>\n",
       "      <td>1.267810</td>\n",
       "      <td>0.177172</td>\n",
       "      <td>-0.027371</td>\n",
       "      <td>0.737565</td>\n",
       "      <td>-1.038402</td>\n",
       "    </tr>\n",
       "    <tr>\n",
       "      <th>2</th>\n",
       "      <td>-0.299828</td>\n",
       "      <td>0.300114</td>\n",
       "      <td>-1.137137</td>\n",
       "      <td>0.593128</td>\n",
       "      <td>-0.573274</td>\n",
       "      <td>0.475460</td>\n",
       "      <td>-0.443644</td>\n",
       "      <td>-0.316865</td>\n",
       "      <td>-0.172183</td>\n",
       "      <td>0.788505</td>\n",
       "      <td>-0.361668</td>\n",
       "      <td>0.810768</td>\n",
       "    </tr>\n",
       "    <tr>\n",
       "      <th>3</th>\n",
       "      <td>-0.453332</td>\n",
       "      <td>-0.801854</td>\n",
       "      <td>-1.323850</td>\n",
       "      <td>0.687394</td>\n",
       "      <td>-0.206466</td>\n",
       "      <td>0.683647</td>\n",
       "      <td>-0.079398</td>\n",
       "      <td>0.733162</td>\n",
       "      <td>0.808715</td>\n",
       "      <td>0.737808</td>\n",
       "      <td>-0.665344</td>\n",
       "      <td>2.357206</td>\n",
       "    </tr>\n",
       "    <tr>\n",
       "      <th>4</th>\n",
       "      <td>0.463156</td>\n",
       "      <td>0.132676</td>\n",
       "      <td>-0.939153</td>\n",
       "      <td>0.079820</td>\n",
       "      <td>-0.858953</td>\n",
       "      <td>-2.101339</td>\n",
       "      <td>-0.225635</td>\n",
       "      <td>-0.154308</td>\n",
       "      <td>-0.501418</td>\n",
       "      <td>-0.294588</td>\n",
       "      <td>-0.644191</td>\n",
       "      <td>0.791908</td>\n",
       "    </tr>\n",
       "  </tbody>\n",
       "</table>\n",
       "</div>"
      ],
      "text/plain": [
       "         0         1         2         3         4         5         6    \n",
       "0 -1.075987  0.421996  2.123474 -0.261173  1.478673 -1.003978 -0.372826  \\\n",
       "1 -0.692416 -1.159568  0.431215 -0.564726 -0.893833 -1.593590 -0.492133   \n",
       "2 -0.299828  0.300114 -1.137137  0.593128 -0.573274  0.475460 -0.443644   \n",
       "3 -0.453332 -0.801854 -1.323850  0.687394 -0.206466  0.683647 -0.079398   \n",
       "4  0.463156  0.132676 -0.939153  0.079820 -0.858953 -2.101339 -0.225635   \n",
       "\n",
       "         7         8         9         10        11  \n",
       "0  0.160238 -1.329782 -0.616925 -2.269504  2.097126  \n",
       "1  1.267810  0.177172 -0.027371  0.737565 -1.038402  \n",
       "2 -0.316865 -0.172183  0.788505 -0.361668  0.810768  \n",
       "3  0.733162  0.808715  0.737808 -0.665344  2.357206  \n",
       "4 -0.154308 -0.501418 -0.294588 -0.644191  0.791908  "
      ]
     },
     "execution_count": 25,
     "metadata": {},
     "output_type": "execute_result"
    }
   ],
   "source": [
    "pd.DataFrame(X_train).head()"
   ]
  },
  {
   "cell_type": "code",
   "execution_count": 26,
   "id": "06af2520",
   "metadata": {},
   "outputs": [
    {
     "name": "stdout",
     "output_type": "stream",
     "text": [
      "R2-Train: 85.50\n",
      "R2-Val: 84.92\n",
      "R2-Test: 85.16\n"
     ]
    }
   ],
   "source": [
    "model = LinearRegression()\n",
    "model.fit(Xtrain_fs, pd.DataFrame(y_train))\n",
    "\n",
    "# evaluate the model\n",
    "#ytrainhat = model.predict(Xtrain_fs)\n",
    "#yvalhat = model.predict(Xval_fs)\n",
    "#ytesthat = model.predict(Xtest_fs)\n",
    "\n",
    "# evaluate predictions\n",
    "R2train = model.score(Xtrain_fs, y_train)\n",
    "R2val = model.score(Xval_fs, y_val)\n",
    "R2test = model.score(Xtest_fs, y_test)\n",
    "\n",
    "print('R2-Train: %.2f' % (R2train*100))\n",
    "print('R2-Val: %.2f' % (R2val*100))\n",
    "print('R2-Test: %.2f' % (R2test*100))\n"
   ]
  },
  {
   "cell_type": "markdown",
   "id": "8e840b2a",
   "metadata": {},
   "source": [
    "Bastante bien, con 4 factores se obtiene un 96.6% aprox del $R^2$ y usando solo los 3 factores de mayor impacto obtenemos un 85%, aprox."
   ]
  },
  {
   "cell_type": "markdown",
   "id": "ace38985",
   "metadata": {},
   "source": [
    "# Correlaciones"
   ]
  },
  {
   "cell_type": "code",
   "execution_count": 27,
   "id": "e039ca46",
   "metadata": {},
   "outputs": [
    {
     "data": {
      "image/png": "[encoded data removed]",
      "text/plain": [
       "<Figure size 900x900 with 1 Axes>"
      ]
     },
     "metadata": {},
     "output_type": "display_data"
    }
   ],
   "source": [
    "correlations = pd.concat([pd.DataFrame(y_train), pd.DataFrame(X_train)], axis=1).corr(numeric_only=True)\n",
    "f, ax = plt.subplots(figsize = (9,9))\n",
    "sns.heatmap(correlations, annot=True, cbar=False);"
   ]
  },
  {
   "cell_type": "markdown",
   "id": "244061ae",
   "metadata": {},
   "source": [
    "Observa que las de mayor correlación con la variable de salida son nuevamente los mismos factores y con el mismo orden de importancia."
   ]
  },
  {
   "cell_type": "markdown",
   "id": "148c52af",
   "metadata": {},
   "source": [
    "# Importancia de los factores mediante el Factor de Inflación de la Varianza\n",
    "\n",
    "# VIF (Variance Inflation Factor) o el problema de la multicolinealidad"
   ]
  },
  {
   "cell_type": "markdown",
   "id": "449724dd",
   "metadata": {},
   "source": [
    "La multicolinealidad es un problema en modelos como la regresión lineal, el hace que los coeficientes obtenidos se comporten de manera inestable, lo cual se refleja en coeficientes de magnitud muy grande (aún cuando se hayan escalado los factores de entrada). \n",
    "\n",
    "De manera simple, podemos decir que la multicolinealidad refleja la dependencia que puedan tener entre sí algunas de las variables independientes de un problema, afectando en la interpretación y efecto que pueda tener cada una de manera individual en la variable de salida.\n",
    "\n",
    "Matemáticamente se define el Factor de Inflación de la Varianza, VIF, para cada varaible o factor $k$ de la manera siguiente:\n",
    "\n",
    "###     $VIF_k = \\frac{1}{1-R^2_k}$\n",
    "\n",
    "donde $R^2_k$ es el coeficiente de correlación del factor $k$ con respecto al resto de las demás variables independientes.\n",
    "\n",
    "Recordemos que mientras mayor sea la relación lineal de una variable de salida con respecto a sus variables de entrada, más cercano el valor de $R^2$ a 1. Y mientras menos exista esta dependencia lineal, más cercano a 0. De aquí que, de manera general, podamos decir que cuando el valor de $VIF_k$ \"crezca mucho\" en alguno de los factores $k$, entonces dicho factor $k$ tiene una dependencia muy alta con respecto a uno o más del resto de los factores. Y esto puede utilizarse en ocasiones para eliminir dicho factor del modelo. \n",
    "\n",
    "Decir que el valor de $VIF_k$ es muy grande para algún factor es relativo y depende en general del problema en cuestión, sin embargo es común utilizar dicho umbral como mayor a 10 unidades. Sin embargo varios autores también consideran el valor de 5 como dicho umbral. Nosotros en el curso usaremos el valor de 10, salvo que se diga lo contrario.\n",
    "\n",
    "La diferencia de usar por ejemplo la matriz de correlación para identificar la dependencia entre variables independientes, es que esta relaciones son por parejas solamente y el índice $VIF$ puede encintrar dependencias con grupos de más de 2 variables independientes.\n",
    "\n",
    "En resumen, la manera de proceder para la detección de la multicolinealidad es calcular dicho índice para todos los factores de entrada y eliminar el de mayor magnitud arriba de 10, en caso de existir. Posteriormente se vuelve a calcular dicho índice para todos los factores restantes y nuevamente se eimina el de mayor magnitud arriba de 10. Y así se procede hasta que todos los índices $VIF$ de los factores que quedan sean menores a 10.\n",
    "\n",
    "Existen varias librerías que calculan dicho índice $VIF$, nosotros nos apoyaremos en la librería \"statsmodels\", cuyo método variance_inflation_factor$(X,k)$ nos devuelve el índice $VIF_k$ del factor $k$ con respecto al resto de los factores de un conjunto de factores de entrada $X$. \n",
    "\n",
    "### Por cierto, toma en cuenta que esta técnica aplica solamente a factores de tipo numérico.\n",
    "\n",
    "Puedes consultar más al respecto en la documentación correspondiente:\n",
    "\n",
    "https://www.statsmodels.org/stable/generated/statsmodels.stats.outliers_influence.variance_inflation_factor.html\n",
    "\n",
    "Veámoslo con el mismo ejemplo que teníamos previamente, en el cual se generó un modelo lineal de 12 factores de entrada, de los solo la mitad, 6, son los independientes."
   ]
  },
  {
   "cell_type": "code",
   "execution_count": 28,
   "id": "67750a13",
   "metadata": {},
   "outputs": [],
   "source": [
    "from statsmodels.stats.outliers_influence import variance_inflation_factor"
   ]
  },
  {
   "cell_type": "code",
   "execution_count": 29,
   "id": "ef2eeb60",
   "metadata": {},
   "outputs": [],
   "source": [
    "# Definamos una función para estar evaluando el índice VIF:\n",
    "\n",
    "\n",
    "def indice_vif(X):\n",
    "    \n",
    "    X = pd.DataFrame(X)  # nos aseguramos que las variable de entrada están en un DataFrame de Pandas.\n",
    "    vif = pd.DataFrame()   # inicializamos el DataFRame de vif\n",
    "    vif[\"factores\"] = X.columns   # recuperamos todos los factores de nuestro conjunto de entrada\n",
    "    vif[\"VIF\"] = [variance_inflation_factor(X.values, i) for i in range(X.shape[1])]  # FOR sobre las columnas/factores de X.\n",
    "\n",
    "    return(vif)"
   ]
  },
  {
   "cell_type": "code",
   "execution_count": 30,
   "id": "afe64c8d",
   "metadata": {},
   "outputs": [],
   "source": [
    "df = pd.DataFrame()\n",
    "\n",
    "df['x1'] = [-3, 2, 3, 4, 5]\n",
    "df['x2'] = [9, 4, 9, 16, 25]\n",
    "df['x1+x2'] = [6.1, 4.2, 12.3, 19.8, 29.4]\n",
    "df['otro'] =[1,1,0,1,1]"
   ]
  },
  {
   "cell_type": "code",
   "execution_count": 31,
   "id": "a8f26702",
   "metadata": {},
   "outputs": [
    {
     "data": {
      "text/html": [
       "<div>\n",
       "<style scoped>\n",
       "    .dataframe tbody tr th:only-of-type {\n",
       "        vertical-align: middle;\n",
       "    }\n",
       "\n",
       "    .dataframe tbody tr th {\n",
       "        vertical-align: top;\n",
       "    }\n",
       "\n",
       "    .dataframe thead th {\n",
       "        text-align: right;\n",
       "    }\n",
       "</style>\n",
       "<table border=\"1\" class=\"dataframe\">\n",
       "  <thead>\n",
       "    <tr style=\"text-align: right;\">\n",
       "      <th></th>\n",
       "      <th>x1</th>\n",
       "      <th>x2</th>\n",
       "      <th>x1+x2</th>\n",
       "      <th>otro</th>\n",
       "    </tr>\n",
       "  </thead>\n",
       "  <tbody>\n",
       "    <tr>\n",
       "      <th>0</th>\n",
       "      <td>-3</td>\n",
       "      <td>9</td>\n",
       "      <td>6.1</td>\n",
       "      <td>1</td>\n",
       "    </tr>\n",
       "    <tr>\n",
       "      <th>1</th>\n",
       "      <td>2</td>\n",
       "      <td>4</td>\n",
       "      <td>4.2</td>\n",
       "      <td>1</td>\n",
       "    </tr>\n",
       "    <tr>\n",
       "      <th>2</th>\n",
       "      <td>3</td>\n",
       "      <td>9</td>\n",
       "      <td>12.3</td>\n",
       "      <td>0</td>\n",
       "    </tr>\n",
       "    <tr>\n",
       "      <th>3</th>\n",
       "      <td>4</td>\n",
       "      <td>16</td>\n",
       "      <td>19.8</td>\n",
       "      <td>1</td>\n",
       "    </tr>\n",
       "    <tr>\n",
       "      <th>4</th>\n",
       "      <td>5</td>\n",
       "      <td>25</td>\n",
       "      <td>29.4</td>\n",
       "      <td>1</td>\n",
       "    </tr>\n",
       "  </tbody>\n",
       "</table>\n",
       "</div>"
      ],
      "text/plain": [
       "   x1  x2  x1+x2  otro\n",
       "0  -3   9    6.1     1\n",
       "1   2   4    4.2     1\n",
       "2   3   9   12.3     0\n",
       "3   4  16   19.8     1\n",
       "4   5  25   29.4     1"
      ]
     },
     "execution_count": 31,
     "metadata": {},
     "output_type": "execute_result"
    }
   ],
   "source": [
    "df"
   ]
  },
  {
   "cell_type": "code",
   "execution_count": 32,
   "id": "4a774394",
   "metadata": {},
   "outputs": [
    {
     "data": {
      "text/html": [
       "<div>\n",
       "<style scoped>\n",
       "    .dataframe tbody tr th:only-of-type {\n",
       "        vertical-align: middle;\n",
       "    }\n",
       "\n",
       "    .dataframe tbody tr th {\n",
       "        vertical-align: top;\n",
       "    }\n",
       "\n",
       "    .dataframe thead th {\n",
       "        text-align: right;\n",
       "    }\n",
       "</style>\n",
       "<table border=\"1\" class=\"dataframe\">\n",
       "  <thead>\n",
       "    <tr style=\"text-align: right;\">\n",
       "      <th></th>\n",
       "      <th>factores</th>\n",
       "      <th>VIF</th>\n",
       "    </tr>\n",
       "  </thead>\n",
       "  <tbody>\n",
       "    <tr>\n",
       "      <th>0</th>\n",
       "      <td>x1</td>\n",
       "      <td>62.158212</td>\n",
       "    </tr>\n",
       "    <tr>\n",
       "      <th>1</th>\n",
       "      <td>x2</td>\n",
       "      <td>1967.424262</td>\n",
       "    </tr>\n",
       "    <tr>\n",
       "      <th>2</th>\n",
       "      <td>x1+x2</td>\n",
       "      <td>2258.072377</td>\n",
       "    </tr>\n",
       "    <tr>\n",
       "      <th>3</th>\n",
       "      <td>otro</td>\n",
       "      <td>17.063729</td>\n",
       "    </tr>\n",
       "  </tbody>\n",
       "</table>\n",
       "</div>"
      ],
      "text/plain": [
       "  factores          VIF\n",
       "0       x1    62.158212\n",
       "1       x2  1967.424262\n",
       "2    x1+x2  2258.072377\n",
       "3     otro    17.063729"
      ]
     },
     "execution_count": 32,
     "metadata": {},
     "output_type": "execute_result"
    }
   ],
   "source": [
    "indice_vif(df)"
   ]
  },
  {
   "cell_type": "code",
   "execution_count": 33,
   "id": "7e2f39e3",
   "metadata": {},
   "outputs": [
    {
     "data": {
      "text/html": [
       "<div>\n",
       "<style scoped>\n",
       "    .dataframe tbody tr th:only-of-type {\n",
       "        vertical-align: middle;\n",
       "    }\n",
       "\n",
       "    .dataframe tbody tr th {\n",
       "        vertical-align: top;\n",
       "    }\n",
       "\n",
       "    .dataframe thead th {\n",
       "        text-align: right;\n",
       "    }\n",
       "</style>\n",
       "<table border=\"1\" class=\"dataframe\">\n",
       "  <thead>\n",
       "    <tr style=\"text-align: right;\">\n",
       "      <th></th>\n",
       "      <th>factores</th>\n",
       "      <th>VIF</th>\n",
       "    </tr>\n",
       "  </thead>\n",
       "  <tbody>\n",
       "    <tr>\n",
       "      <th>0</th>\n",
       "      <td>x1</td>\n",
       "      <td>2.739491</td>\n",
       "    </tr>\n",
       "    <tr>\n",
       "      <th>1</th>\n",
       "      <td>x2</td>\n",
       "      <td>6.558572</td>\n",
       "    </tr>\n",
       "    <tr>\n",
       "      <th>2</th>\n",
       "      <td>otro</td>\n",
       "      <td>3.677428</td>\n",
       "    </tr>\n",
       "  </tbody>\n",
       "</table>\n",
       "</div>"
      ],
      "text/plain": [
       "  factores       VIF\n",
       "0       x1  2.739491\n",
       "1       x2  6.558572\n",
       "2     otro  3.677428"
      ]
     },
     "execution_count": 33,
     "metadata": {},
     "output_type": "execute_result"
    }
   ],
   "source": [
    "X2 = df.drop(['x1+x2'],axis=1)\n",
    "\n",
    "indice_vif(X2)"
   ]
  },
  {
   "cell_type": "code",
   "execution_count": null,
   "id": "16e9a768",
   "metadata": {},
   "outputs": [],
   "source": []
  }
 ],
 "metadata": {
  "kernelspec": {
   "display_name": "Python 3 (ipykernel)",
   "language": "python",
   "name": "python3"
  },
  "language_info": {
   "codemirror_mode": {
    "name": "ipython",
    "version": 3
   },
   "file_extension": ".py",
   "mimetype": "text/x-python",
   "name": "python",
   "nbconvert_exporter": "python",
   "pygments_lexer": "ipython3",
   "version": "3.9.13"
  }
 },
 "nbformat": 4,
 "nbformat_minor": 5
}
