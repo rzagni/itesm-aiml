{
  "cells": [
    {
      "cell_type": "markdown",
      "metadata": {
        "id": "h7XWZ3IhsXYU"
      },
      "source": [
        "#**Maestría en Inteligencia Artificial Aplicada**\n",
        "##**Curso: Advanced Machine Learning Methods**\n",
        "###**Tecnológico de Monterrey**\n",
        "###**Prof José Antonio Cantoral Ceballos**\n",
        "\n",
        "\n",
        "###**Activity 1b: Implementing a Fully Connected Network for Kaggle ASL Dataset**\n",
        "\n",
        "#### **Team 56:**\n",
        "\n",
        "* Daniel Ruiz Gutiérrez A01100513\n",
        "* José Manuel GarcÍa Ogarrio A01795147\n",
        "* Miriam Bönsch A01330346\n",
        "* Raul Eduardo Gomez Godinez A01795214\n",
        "* Renzo Zagni A01795457\n",
        "* Roger Alexei Urrutia ParKer A01362405\n"
      ]
    },
    {
      "cell_type": "markdown",
      "metadata": {
        "id": "AqOKd92G1l2q"
      },
      "source": [
        "# TC 5033\n",
        "## Deep Learning\n",
        "## Fully Connected Deep Neural Networks\n",
        "\n",
        "#### Activity 1b: Implementing a Fully Connected Network for Kaggle ASL Dataset\n",
        "\n",
        "- Objective\n",
        "\n",
        "The aim of this part of the activity is to apply your understanding of Fully Connected Networks by implementing a multilayer network for the [Kaggle ASL (American Sign Language) dataset](https://www.kaggle.com/datasets/grassknoted/asl-alphabet). While you have been provided with a complete solution for a Fully Connected Network using Numpy for the MNIST dataset, you are encouraged to try to come up with the solution.\n",
        "\n",
        "- Instructions\n",
        "\n",
        "    This activity requires submission in teams of 3 or 4 members. Submissions from smaller or larger teams will not be accepted unless prior approval has been granted (only due to exceptional circumstances). While teamwork is encouraged, each member is expected to contribute individually to the assignment. The final submission should feature the best arguments and solutions from each team member. Only one person per team needs to submit the completed work, but it is imperative that the names of all team members are listed in a Markdown cell at the very beginning of the notebook (either the first or second cell). Failure to include all team member names will result in the grade being awarded solely to the individual who submitted the assignment, with zero points given to other team members (no exceptions will be made to this rule).\n",
        "\n",
        "    Load and Preprocess Data: You are provided a starter code to load the data. Be sure to understand the code.\n",
        "\n",
        "    Review MNIST Notebook (Optional): Before diving into this activity, you have the option to revisit the MNIST example to refresh your understanding of how to build a Fully Connected Network using Numpy.\n",
        "\n",
        "    Start Fresh: Although you can refer to the MNIST solution at any point, try to implement the network for the ASL dataset on your own. This will reinforce your learning and understanding of the architecture and mathematics involved.\n",
        "\n",
        "    Implement Forward and Backward Pass: Write the code to perform the forward and backward passes, keeping in mind the specific challenges and characteristics of the ASL dataset.\n",
        "    \n",
        "     Design the Network: Create the architecture of the Fully Connected Network tailored for the ASL dataset. Choose the number of hidden layers, neurons, and hyperparameters judiciously.\n",
        "\n",
        "    Train the Model: Execute the training loop, ensuring to track performance metrics such as loss and accuracy.\n",
        "\n",
        "    Analyze and Document: Use Markdown cells to document in detail the choices you made in terms of architecture and hyperparameters, you may use figures, equations, etc to aid in your explanations. Include any metrics that help justify these choices and discuss the model's performance.  \n",
        "\n",
        "- Evaluation Criteria\n",
        "\n",
        "    - Code Readability and Comments\n",
        "    - Appropriateness of chosen architecture and hyperparameters for the ASL dataset\n",
        "    - Performance of the model on the ASL dataset (at least 70% acc)\n",
        "    - Quality of Markdown documentation\n",
        "\n",
        "- Submission\n",
        "\n",
        "Submit this Jupyter Notebook in canvas with your complete solution, ensuring your code is well-commented and includes Markdown cells that explain your design choices, results, and any challenges you encountered.\n"
      ]
    },
    {
      "cell_type": "code",
      "execution_count": 1,
      "metadata": {
        "id": "siB8R25B1l2t"
      },
      "outputs": [],
      "source": [
        "import numpy as np\n",
        "import string\n",
        "import pandas as pd\n",
        "import matplotlib.pyplot as plt\n",
        "import cv2 as cv\n",
        "import os\n",
        "import math\n",
        "\n",
        "%load_ext autoreload\n",
        "%autoreload 2\n",
        "#################################\n",
        "%matplotlib inline\n"
      ]
    },
    {
      "cell_type": "code",
      "execution_count": 2,
      "metadata": {
        "colab": {
          "base_uri": "https://localhost:8080/"
        },
        "id": "ixAlzqf61rBK",
        "outputId": "6306be7c-9ddf-432f-d644-3cc83b11e1d2"
      },
      "outputs": [
        {
          "output_type": "stream",
          "name": "stdout",
          "text": [
            "Mounted at /content/drive\n"
          ]
        }
      ],
      "source": [
        "from google.colab import drive\n",
        "drive.mount('/content/drive')\n",
        "DIR = \"/content/drive/MyDrive/MNA/Advanced ML/Module 1. Introduction to Deep Learning and Fully Connected Networks/Actividad 1 (Equipo)/asl_data/\"\n",
        "os.chdir(DIR)"
      ]
    },
    {
      "cell_type": "code",
      "execution_count": 3,
      "metadata": {
        "id": "A6x0JA901l2v"
      },
      "outputs": [],
      "source": [
        "# DATA_PATH = '/media/pepe/DataUbuntu/Databases/asl_data/'\n",
        "DATA_PATH = '/content/drive/MyDrive/MNA/Advanced ML/Module 1. Introduction to Deep Learning and Fully Connected Networks/Actividad 1 (Equipo)/asl_data/'\n",
        "train_df = pd.read_csv(os.path.join(DATA_PATH, 'sign_mnist_train.csv'))\n",
        "valid_df = pd.read_csv(os.path.join(DATA_PATH, 'sign_mnist_valid.csv'))"
      ]
    },
    {
      "cell_type": "code",
      "execution_count": 4,
      "metadata": {
        "colab": {
          "base_uri": "https://localhost:8080/"
        },
        "id": "_oIV1XDrxryA",
        "outputId": "30f0b254-f01d-4f51-fb77-c9457481c0d4"
      },
      "outputs": [
        {
          "output_type": "execute_result",
          "data": {
            "text/plain": [
              "(27455, 785)"
            ]
          },
          "metadata": {},
          "execution_count": 4
        }
      ],
      "source": [
        "train_df.shape"
      ]
    },
    {
      "cell_type": "code",
      "execution_count": 5,
      "metadata": {
        "colab": {
          "base_uri": "https://localhost:8080/",
          "height": 255
        },
        "id": "_jN4x5yEYhHs",
        "outputId": "29f8a870-c8a4-4f3e-c23a-c6d108a3d7cf"
      },
      "outputs": [
        {
          "output_type": "execute_result",
          "data": {
            "text/plain": [
              "   label  pixel1  pixel2  pixel3  pixel4  pixel5  pixel6  pixel7  pixel8  \\\n",
              "0      3     107     118     127     134     139     143     146     150   \n",
              "1      6     155     157     156     156     156     157     156     158   \n",
              "2      2     187     188     188     187     187     186     187     188   \n",
              "3      2     211     211     212     212     211     210     211     210   \n",
              "4     12     164     167     170     172     176     179     180     184   \n",
              "\n",
              "   pixel9  ...  pixel775  pixel776  pixel777  pixel778  pixel779  pixel780  \\\n",
              "0     153  ...       207       207       207       207       206       206   \n",
              "1     158  ...        69       149       128        87        94       163   \n",
              "2     187  ...       202       201       200       199       198       199   \n",
              "3     210  ...       235       234       233       231       230       226   \n",
              "4     185  ...        92       105       105       108       133       163   \n",
              "\n",
              "   pixel781  pixel782  pixel783  pixel784  \n",
              "0       206       204       203       202  \n",
              "1       175       103       135       149  \n",
              "2       198       195       194       195  \n",
              "3       225       222       229       163  \n",
              "4       157       163       164       179  \n",
              "\n",
              "[5 rows x 785 columns]"
            ],
            "text/html": [
              "\n",
              "  <div id=\"df-7b5bc63d-5ccf-40d8-8d1c-bd0a81e809d4\" class=\"colab-df-container\">\n",
              "    <div>\n",
              "<style scoped>\n",
              "    .dataframe tbody tr th:only-of-type {\n",
              "        vertical-align: middle;\n",
              "    }\n",
              "\n",
              "    .dataframe tbody tr th {\n",
              "        vertical-align: top;\n",
              "    }\n",
              "\n",
              "    .dataframe thead th {\n",
              "        text-align: right;\n",
              "    }\n",
              "</style>\n",
              "<table border=\"1\" class=\"dataframe\">\n",
              "  <thead>\n",
              "    <tr style=\"text-align: right;\">\n",
              "      <th></th>\n",
              "      <th>label</th>\n",
              "      <th>pixel1</th>\n",
              "      <th>pixel2</th>\n",
              "      <th>pixel3</th>\n",
              "      <th>pixel4</th>\n",
              "      <th>pixel5</th>\n",
              "      <th>pixel6</th>\n",
              "      <th>pixel7</th>\n",
              "      <th>pixel8</th>\n",
              "      <th>pixel9</th>\n",
              "      <th>...</th>\n",
              "      <th>pixel775</th>\n",
              "      <th>pixel776</th>\n",
              "      <th>pixel777</th>\n",
              "      <th>pixel778</th>\n",
              "      <th>pixel779</th>\n",
              "      <th>pixel780</th>\n",
              "      <th>pixel781</th>\n",
              "      <th>pixel782</th>\n",
              "      <th>pixel783</th>\n",
              "      <th>pixel784</th>\n",
              "    </tr>\n",
              "  </thead>\n",
              "  <tbody>\n",
              "    <tr>\n",
              "      <th>0</th>\n",
              "      <td>3</td>\n",
              "      <td>107</td>\n",
              "      <td>118</td>\n",
              "      <td>127</td>\n",
              "      <td>134</td>\n",
              "      <td>139</td>\n",
              "      <td>143</td>\n",
              "      <td>146</td>\n",
              "      <td>150</td>\n",
              "      <td>153</td>\n",
              "      <td>...</td>\n",
              "      <td>207</td>\n",
              "      <td>207</td>\n",
              "      <td>207</td>\n",
              "      <td>207</td>\n",
              "      <td>206</td>\n",
              "      <td>206</td>\n",
              "      <td>206</td>\n",
              "      <td>204</td>\n",
              "      <td>203</td>\n",
              "      <td>202</td>\n",
              "    </tr>\n",
              "    <tr>\n",
              "      <th>1</th>\n",
              "      <td>6</td>\n",
              "      <td>155</td>\n",
              "      <td>157</td>\n",
              "      <td>156</td>\n",
              "      <td>156</td>\n",
              "      <td>156</td>\n",
              "      <td>157</td>\n",
              "      <td>156</td>\n",
              "      <td>158</td>\n",
              "      <td>158</td>\n",
              "      <td>...</td>\n",
              "      <td>69</td>\n",
              "      <td>149</td>\n",
              "      <td>128</td>\n",
              "      <td>87</td>\n",
              "      <td>94</td>\n",
              "      <td>163</td>\n",
              "      <td>175</td>\n",
              "      <td>103</td>\n",
              "      <td>135</td>\n",
              "      <td>149</td>\n",
              "    </tr>\n",
              "    <tr>\n",
              "      <th>2</th>\n",
              "      <td>2</td>\n",
              "      <td>187</td>\n",
              "      <td>188</td>\n",
              "      <td>188</td>\n",
              "      <td>187</td>\n",
              "      <td>187</td>\n",
              "      <td>186</td>\n",
              "      <td>187</td>\n",
              "      <td>188</td>\n",
              "      <td>187</td>\n",
              "      <td>...</td>\n",
              "      <td>202</td>\n",
              "      <td>201</td>\n",
              "      <td>200</td>\n",
              "      <td>199</td>\n",
              "      <td>198</td>\n",
              "      <td>199</td>\n",
              "      <td>198</td>\n",
              "      <td>195</td>\n",
              "      <td>194</td>\n",
              "      <td>195</td>\n",
              "    </tr>\n",
              "    <tr>\n",
              "      <th>3</th>\n",
              "      <td>2</td>\n",
              "      <td>211</td>\n",
              "      <td>211</td>\n",
              "      <td>212</td>\n",
              "      <td>212</td>\n",
              "      <td>211</td>\n",
              "      <td>210</td>\n",
              "      <td>211</td>\n",
              "      <td>210</td>\n",
              "      <td>210</td>\n",
              "      <td>...</td>\n",
              "      <td>235</td>\n",
              "      <td>234</td>\n",
              "      <td>233</td>\n",
              "      <td>231</td>\n",
              "      <td>230</td>\n",
              "      <td>226</td>\n",
              "      <td>225</td>\n",
              "      <td>222</td>\n",
              "      <td>229</td>\n",
              "      <td>163</td>\n",
              "    </tr>\n",
              "    <tr>\n",
              "      <th>4</th>\n",
              "      <td>12</td>\n",
              "      <td>164</td>\n",
              "      <td>167</td>\n",
              "      <td>170</td>\n",
              "      <td>172</td>\n",
              "      <td>176</td>\n",
              "      <td>179</td>\n",
              "      <td>180</td>\n",
              "      <td>184</td>\n",
              "      <td>185</td>\n",
              "      <td>...</td>\n",
              "      <td>92</td>\n",
              "      <td>105</td>\n",
              "      <td>105</td>\n",
              "      <td>108</td>\n",
              "      <td>133</td>\n",
              "      <td>163</td>\n",
              "      <td>157</td>\n",
              "      <td>163</td>\n",
              "      <td>164</td>\n",
              "      <td>179</td>\n",
              "    </tr>\n",
              "  </tbody>\n",
              "</table>\n",
              "<p>5 rows × 785 columns</p>\n",
              "</div>\n",
              "    <div class=\"colab-df-buttons\">\n",
              "\n",
              "  <div class=\"colab-df-container\">\n",
              "    <button class=\"colab-df-convert\" onclick=\"convertToInteractive('df-7b5bc63d-5ccf-40d8-8d1c-bd0a81e809d4')\"\n",
              "            title=\"Convert this dataframe to an interactive table.\"\n",
              "            style=\"display:none;\">\n",
              "\n",
              "  <svg xmlns=\"http://www.w3.org/2000/svg\" height=\"24px\" viewBox=\"0 -960 960 960\">\n",
              "    <path d=\"M120-120v-720h720v720H120Zm60-500h600v-160H180v160Zm220 220h160v-160H400v160Zm0 220h160v-160H400v160ZM180-400h160v-160H180v160Zm440 0h160v-160H620v160ZM180-180h160v-160H180v160Zm440 0h160v-160H620v160Z\"/>\n",
              "  </svg>\n",
              "    </button>\n",
              "\n",
              "  <style>\n",
              "    .colab-df-container {\n",
              "      display:flex;\n",
              "      gap: 12px;\n",
              "    }\n",
              "\n",
              "    .colab-df-convert {\n",
              "      background-color: #E8F0FE;\n",
              "      border: none;\n",
              "      border-radius: 50%;\n",
              "      cursor: pointer;\n",
              "      display: none;\n",
              "      fill: #1967D2;\n",
              "      height: 32px;\n",
              "      padding: 0 0 0 0;\n",
              "      width: 32px;\n",
              "    }\n",
              "\n",
              "    .colab-df-convert:hover {\n",
              "      background-color: #E2EBFA;\n",
              "      box-shadow: 0px 1px 2px rgba(60, 64, 67, 0.3), 0px 1px 3px 1px rgba(60, 64, 67, 0.15);\n",
              "      fill: #174EA6;\n",
              "    }\n",
              "\n",
              "    .colab-df-buttons div {\n",
              "      margin-bottom: 4px;\n",
              "    }\n",
              "\n",
              "    [theme=dark] .colab-df-convert {\n",
              "      background-color: #3B4455;\n",
              "      fill: #D2E3FC;\n",
              "    }\n",
              "\n",
              "    [theme=dark] .colab-df-convert:hover {\n",
              "      background-color: #434B5C;\n",
              "      box-shadow: 0px 1px 3px 1px rgba(0, 0, 0, 0.15);\n",
              "      filter: drop-shadow(0px 1px 2px rgba(0, 0, 0, 0.3));\n",
              "      fill: #FFFFFF;\n",
              "    }\n",
              "  </style>\n",
              "\n",
              "    <script>\n",
              "      const buttonEl =\n",
              "        document.querySelector('#df-7b5bc63d-5ccf-40d8-8d1c-bd0a81e809d4 button.colab-df-convert');\n",
              "      buttonEl.style.display =\n",
              "        google.colab.kernel.accessAllowed ? 'block' : 'none';\n",
              "\n",
              "      async function convertToInteractive(key) {\n",
              "        const element = document.querySelector('#df-7b5bc63d-5ccf-40d8-8d1c-bd0a81e809d4');\n",
              "        const dataTable =\n",
              "          await google.colab.kernel.invokeFunction('convertToInteractive',\n",
              "                                                    [key], {});\n",
              "        if (!dataTable) return;\n",
              "\n",
              "        const docLinkHtml = 'Like what you see? Visit the ' +\n",
              "          '<a target=\"_blank\" href=https://colab.research.google.com/notebooks/data_table.ipynb>data table notebook</a>'\n",
              "          + ' to learn more about interactive tables.';\n",
              "        element.innerHTML = '';\n",
              "        dataTable['output_type'] = 'display_data';\n",
              "        await google.colab.output.renderOutput(dataTable, element);\n",
              "        const docLink = document.createElement('div');\n",
              "        docLink.innerHTML = docLinkHtml;\n",
              "        element.appendChild(docLink);\n",
              "      }\n",
              "    </script>\n",
              "  </div>\n",
              "\n",
              "\n",
              "<div id=\"df-c35ff134-1a8f-498a-84c5-84aa350f2edb\">\n",
              "  <button class=\"colab-df-quickchart\" onclick=\"quickchart('df-c35ff134-1a8f-498a-84c5-84aa350f2edb')\"\n",
              "            title=\"Suggest charts\"\n",
              "            style=\"display:none;\">\n",
              "\n",
              "<svg xmlns=\"http://www.w3.org/2000/svg\" height=\"24px\"viewBox=\"0 0 24 24\"\n",
              "     width=\"24px\">\n",
              "    <g>\n",
              "        <path d=\"M19 3H5c-1.1 0-2 .9-2 2v14c0 1.1.9 2 2 2h14c1.1 0 2-.9 2-2V5c0-1.1-.9-2-2-2zM9 17H7v-7h2v7zm4 0h-2V7h2v10zm4 0h-2v-4h2v4z\"/>\n",
              "    </g>\n",
              "</svg>\n",
              "  </button>\n",
              "\n",
              "<style>\n",
              "  .colab-df-quickchart {\n",
              "      --bg-color: #E8F0FE;\n",
              "      --fill-color: #1967D2;\n",
              "      --hover-bg-color: #E2EBFA;\n",
              "      --hover-fill-color: #174EA6;\n",
              "      --disabled-fill-color: #AAA;\n",
              "      --disabled-bg-color: #DDD;\n",
              "  }\n",
              "\n",
              "  [theme=dark] .colab-df-quickchart {\n",
              "      --bg-color: #3B4455;\n",
              "      --fill-color: #D2E3FC;\n",
              "      --hover-bg-color: #434B5C;\n",
              "      --hover-fill-color: #FFFFFF;\n",
              "      --disabled-bg-color: #3B4455;\n",
              "      --disabled-fill-color: #666;\n",
              "  }\n",
              "\n",
              "  .colab-df-quickchart {\n",
              "    background-color: var(--bg-color);\n",
              "    border: none;\n",
              "    border-radius: 50%;\n",
              "    cursor: pointer;\n",
              "    display: none;\n",
              "    fill: var(--fill-color);\n",
              "    height: 32px;\n",
              "    padding: 0;\n",
              "    width: 32px;\n",
              "  }\n",
              "\n",
              "  .colab-df-quickchart:hover {\n",
              "    background-color: var(--hover-bg-color);\n",
              "    box-shadow: 0 1px 2px rgba(60, 64, 67, 0.3), 0 1px 3px 1px rgba(60, 64, 67, 0.15);\n",
              "    fill: var(--button-hover-fill-color);\n",
              "  }\n",
              "\n",
              "  .colab-df-quickchart-complete:disabled,\n",
              "  .colab-df-quickchart-complete:disabled:hover {\n",
              "    background-color: var(--disabled-bg-color);\n",
              "    fill: var(--disabled-fill-color);\n",
              "    box-shadow: none;\n",
              "  }\n",
              "\n",
              "  .colab-df-spinner {\n",
              "    border: 2px solid var(--fill-color);\n",
              "    border-color: transparent;\n",
              "    border-bottom-color: var(--fill-color);\n",
              "    animation:\n",
              "      spin 1s steps(1) infinite;\n",
              "  }\n",
              "\n",
              "  @keyframes spin {\n",
              "    0% {\n",
              "      border-color: transparent;\n",
              "      border-bottom-color: var(--fill-color);\n",
              "      border-left-color: var(--fill-color);\n",
              "    }\n",
              "    20% {\n",
              "      border-color: transparent;\n",
              "      border-left-color: var(--fill-color);\n",
              "      border-top-color: var(--fill-color);\n",
              "    }\n",
              "    30% {\n",
              "      border-color: transparent;\n",
              "      border-left-color: var(--fill-color);\n",
              "      border-top-color: var(--fill-color);\n",
              "      border-right-color: var(--fill-color);\n",
              "    }\n",
              "    40% {\n",
              "      border-color: transparent;\n",
              "      border-right-color: var(--fill-color);\n",
              "      border-top-color: var(--fill-color);\n",
              "    }\n",
              "    60% {\n",
              "      border-color: transparent;\n",
              "      border-right-color: var(--fill-color);\n",
              "    }\n",
              "    80% {\n",
              "      border-color: transparent;\n",
              "      border-right-color: var(--fill-color);\n",
              "      border-bottom-color: var(--fill-color);\n",
              "    }\n",
              "    90% {\n",
              "      border-color: transparent;\n",
              "      border-bottom-color: var(--fill-color);\n",
              "    }\n",
              "  }\n",
              "</style>\n",
              "\n",
              "  <script>\n",
              "    async function quickchart(key) {\n",
              "      const quickchartButtonEl =\n",
              "        document.querySelector('#' + key + ' button');\n",
              "      quickchartButtonEl.disabled = true;  // To prevent multiple clicks.\n",
              "      quickchartButtonEl.classList.add('colab-df-spinner');\n",
              "      try {\n",
              "        const charts = await google.colab.kernel.invokeFunction(\n",
              "            'suggestCharts', [key], {});\n",
              "      } catch (error) {\n",
              "        console.error('Error during call to suggestCharts:', error);\n",
              "      }\n",
              "      quickchartButtonEl.classList.remove('colab-df-spinner');\n",
              "      quickchartButtonEl.classList.add('colab-df-quickchart-complete');\n",
              "    }\n",
              "    (() => {\n",
              "      let quickchartButtonEl =\n",
              "        document.querySelector('#df-c35ff134-1a8f-498a-84c5-84aa350f2edb button');\n",
              "      quickchartButtonEl.style.display =\n",
              "        google.colab.kernel.accessAllowed ? 'block' : 'none';\n",
              "    })();\n",
              "  </script>\n",
              "</div>\n",
              "\n",
              "    </div>\n",
              "  </div>\n"
            ],
            "application/vnd.google.colaboratory.intrinsic+json": {
              "type": "dataframe",
              "variable_name": "train_df"
            }
          },
          "metadata": {},
          "execution_count": 5
        }
      ],
      "source": [
        "train_df.head()"
      ]
    },
    {
      "cell_type": "code",
      "execution_count": 6,
      "metadata": {
        "colab": {
          "base_uri": "https://localhost:8080/"
        },
        "id": "mirZFNG7MXit",
        "outputId": "dee3ab1a-f65d-45e9-89e7-a43b5e18786e"
      },
      "outputs": [
        {
          "output_type": "stream",
          "name": "stdout",
          "text": [
            "% Training: 0.7928783896959021, % Validation: 0.20712161030409795\n",
            "Labels: [ 0  1  2  3  4  5  6  7  8  9 10 11 12 13 14 15 16 17 18 19 20 21 22 23] \n",
            "No of Labels: 24\n"
          ]
        }
      ],
      "source": [
        "#\n",
        "# Calculate the % split between test and validation data and analise labels\n",
        "tot = train_df.shape[0] + valid_df.shape[0]\n",
        "perc_valid = valid_df.shape[0]/tot\n",
        "perc_train = train_df.shape[0] /tot\n",
        "print(f'% Training: {perc_train}, % Validation: {perc_valid}')\n",
        "print(f\"Labels: {train_df['label'].sort_values().unique()} \\nNo of Labels: {len(train_df['label'].unique())}\")"
      ]
    },
    {
      "cell_type": "markdown",
      "metadata": {
        "id": "lAfD6nAW1l2v"
      },
      "source": [
        "### Importar Images"
      ]
    },
    {
      "cell_type": "code",
      "execution_count": 7,
      "metadata": {
        "id": "g5hoOFVb1l2w"
      },
      "outputs": [],
      "source": [
        "#\n",
        "# Separate x and y data in separate datasets\n",
        "y_train = np.array(train_df['label'])\n",
        "y_val = np.array(valid_df['label'])\n",
        "del train_df['label']\n",
        "del valid_df['label']\n",
        "x_train = train_df.values.astype(np.float32)\n",
        "x_val = valid_df.values.astype(np.float32)"
      ]
    },
    {
      "cell_type": "code",
      "execution_count": 8,
      "metadata": {
        "id": "JnoCyIJr1l2w"
      },
      "outputs": [],
      "source": [
        "def split_val_test(x, y, pct=0.5, shuffle=True):\n",
        "    \"\"\"\n",
        "    Splits the validation data into two parts: validation and test sets.\n",
        "\n",
        "    Args:\n",
        "        x (np.array): The dataset features.\n",
        "        y (np.array): The dataset labels.\n",
        "        pct (float): The percentage to use for the test set.\n",
        "        shuffle (bool): Whether to shuffle the data before splitting.\n",
        "\n",
        "    Returns:\n",
        "        x_val (np.array): Validation set features.\n",
        "        y_val (np.array): Validation set labels.\n",
        "        x_test (np.array): Test set features.\n",
        "        y_test (np.array): Test set labels.\n",
        "    \"\"\"\n",
        "    if shuffle:\n",
        "      #\n",
        "      # Find the total number of rows in the training set and create a list 0 to n\n",
        "      idx = list(range(len(x)))\n",
        "      #\n",
        "      # Shuffles the list\n",
        "      np.random.shuffle(idx)\n",
        "      #\n",
        "      # Use the shuffled indexes to shuffle the data in the datasets\n",
        "      x = x[idx]\n",
        "      y = y[idx]\n",
        "    assert pct > 0 and pct < 1, 'Error in percentage split'\n",
        "    #\n",
        "    # If pct != 0.5 the amount will apply to the test dataset while the\n",
        "    # difference ex: pct - 1 will apply to the validation dataset\n",
        "    thresh = math.floor(len(x) * pct)\n",
        "    x_test = x[:thresh]\n",
        "    x_val = x[thresh:]\n",
        "    y_test = y[:thresh]\n",
        "    y_val = y[thresh:]\n",
        "\n",
        "    return x_val, y_val, x_test, y_test"
      ]
    },
    {
      "cell_type": "code",
      "execution_count": 9,
      "metadata": {
        "id": "NlJ578jJ1l2w"
      },
      "outputs": [],
      "source": [
        "#\n",
        "# Create validation and test partitioning the original test dataset by 50%\n",
        "# and shuffle the data\n",
        "x_val, y_val, x_test, y_test = split_val_test(x_val, y_val, pct=0.5 , shuffle=True)"
      ]
    },
    {
      "cell_type": "code",
      "execution_count": 10,
      "metadata": {
        "colab": {
          "base_uri": "https://localhost:8080/"
        },
        "id": "-XjZGYpNd_55",
        "outputId": "309508d0-72f5-4e16-d34b-1ef740edd568"
      },
      "outputs": [
        {
          "output_type": "stream",
          "name": "stdout",
          "text": [
            "x_train shape: (27455, 784)\n",
            "y_train.shape: (27455,)\n",
            "x_test shape: (3586, 784)\n",
            "y_test.shape: (3586,)\n",
            "x_val shape: (3586, 784)\n",
            "y_val.shape: (3586,)\n"
          ]
        }
      ],
      "source": [
        "#\n",
        "# Validate shapes\n",
        "print(f'x_train shape: {x_train.shape}')\n",
        "print(f'y_train.shape: {y_train.shape}')\n",
        "print(f'x_test shape: {x_test.shape}')\n",
        "print(f'y_test.shape: {y_test.shape}')\n",
        "print(f'x_val shape: {x_val.shape}')\n",
        "print(f'y_val.shape: {y_val.shape}')"
      ]
    },
    {
      "cell_type": "code",
      "execution_count": 11,
      "metadata": {
        "colab": {
          "base_uri": "https://localhost:8080/"
        },
        "id": "gn_EIsxX1l2x",
        "outputId": "99f9e80a-a5f6-4462-c05c-5e582fc7c823"
      },
      "outputs": [
        {
          "output_type": "stream",
          "name": "stdout",
          "text": [
            "24\n",
            "['a', 'b', 'c', 'd', 'e', 'f', 'g', 'h', 'i', 'k', 'l', 'm', 'n', 'o', 'p', 'q', 'r', 's', 't', 'u', 'v', 'w', 'x', 'y']\n"
          ]
        }
      ],
      "source": [
        "# ### The following\n",
        "\n",
        "alphabet=list(string.ascii_lowercase)\n",
        "alphabet.remove('j')\n",
        "alphabet.remove('z')\n",
        "print(len(alphabet))\n",
        "print(alphabet)"
      ]
    },
    {
      "cell_type": "markdown",
      "metadata": {
        "id": "Bxy7ZBp_1l2x"
      },
      "source": [
        "### Normalise"
      ]
    },
    {
      "cell_type": "code",
      "execution_count": 12,
      "metadata": {
        "id": "wWLnIFa1Xoa5"
      },
      "outputs": [],
      "source": [
        "def standarization(xtrain, xtest, x_validation):\n",
        "    '''\n",
        "    Standardizes the input data (train, test, and validation) using the mean and standard deviation of the training data to avoid data leakage.\n",
        "\n",
        "    Parameters:\n",
        "        xtrain       : The training dataset\n",
        "        xtest        : The test dataset\n",
        "        x_validation : The validation dataset .\n",
        "\n",
        "    Ret:\n",
        "        xtrain_norm : The standardized training dataset.\n",
        "        xtest_norm  : The standardized test dataset.\n",
        "        xval_norm   : The standardized validation dataset.\n",
        "    '''\n",
        "    # Define mean and standard deviation using training data to avoid data leakage\n",
        "    x_mean = xtrain.mean()\n",
        "    x_std  = xtrain.std()\n",
        "\n",
        "    # Standardization of train, test, and validation datasets\n",
        "    xtrain_norm = (xtrain - x_mean)/x_std\n",
        "    xtest_norm  = (xtest - x_mean)/x_std\n",
        "    xval_norm   = (x_validation - x_mean)/x_std\n",
        "\n",
        "    return xtrain_norm, xtest_norm, xval_norm\n",
        "\n",
        "\n",
        "x_train, x_test, x_val = standarization(x_train, x_test, x_val)"
      ]
    },
    {
      "cell_type": "code",
      "execution_count": 13,
      "metadata": {
        "colab": {
          "base_uri": "https://localhost:8080/"
        },
        "id": "UE3ZpT14c6BZ",
        "outputId": "4b36fc33-f316-409f-be0d-977509ab249a"
      },
      "outputs": [
        {
          "output_type": "stream",
          "name": "stdout",
          "text": [
            "Training Mean: 0.00\tTraining Std Dev: 1.00\n",
            "Test Mean: 0.03 \tTest Std Dev: 1.00\n",
            "Validation Mean: 0.03 \tValidation Std Dev: 1.01\n"
          ]
        }
      ],
      "source": [
        "print(f'Training Mean: {x_train.mean():.2f}\\tTraining Std Dev: {x_train.std():.2f}')\n",
        "print(f'Test Mean: {x_test.mean():.2f} \\tTest Std Dev: {x_test.std():.2f}')\n",
        "print(f'Validation Mean: {x_val.mean():.2f} \\tValidation Std Dev: {x_val.std():.2f}')"
      ]
    },
    {
      "cell_type": "markdown",
      "metadata": {
        "id": "GMmgqlrF1l2x"
      },
      "source": [
        "### Graficar muestras"
      ]
    },
    {
      "cell_type": "code",
      "execution_count": 14,
      "metadata": {
        "id": "NUAmkyjWa-kh"
      },
      "outputs": [],
      "source": [
        "def plot_number(image):\n",
        "    plt.figure(figsize=(5,5))\n",
        "    plt.imshow(image.squeeze(), cmap=plt.get_cmap('bone'))\n",
        "    plt.axis('off')\n",
        "    plt.show()"
      ]
    },
    {
      "cell_type": "code",
      "execution_count": 15,
      "metadata": {
        "colab": {
          "base_uri": "https://localhost:8080/",
          "height": 439
        },
        "id": "XaxxL76gblDB",
        "outputId": "646e0c91-2f99-49c3-cd0e-dad6483dfa2b"
      },
      "outputs": [
        {
          "output_type": "stream",
          "name": "stdout",
          "text": [
            "La imagen muestreada representa la letra: e\n"
          ]
        },
        {
          "output_type": "display_data",
          "data": {
            "text/plain": [
              "<Figure size 500x500 with 1 Axes>"
            ],
            "image/png": "[encoded data removed]"
          },
          "metadata": {}
        }
      ],
      "source": [
        "rnd_idx = np.random.randint(len(y_test))\n",
        "print(f'La imagen muestreada representa la letra: {alphabet[y_test[rnd_idx]]}')\n",
        "plot_number(x_test[rnd_idx].reshape(28, 28))"
      ]
    },
    {
      "cell_type": "markdown",
      "metadata": {
        "id": "l27xMr261l2y"
      },
      "source": [
        "### Ecuaciones para nuestro modelo\n",
        "\n",
        "\n",
        "$$z^1 = W^1 X + b^1$$\n",
        "\n",
        "$$a^1 = ReLU(z^1) $$\n",
        "\n",
        "$$z^2 = W^2 a^1 + b^2$$\n",
        "\n",
        "$$\\hat{y} = \\frac{e^{z^{2_k}}}{\\sum_j{e^{z_j}}}$$\n",
        "\n",
        "\n",
        "$$ \\mathcal{L}(\\hat{y}^{i}, y^{i}) =  - y^{i}  \\ln(\\hat{y}^{i}) = -\\ln(\\hat{y}^i)$$\n",
        "\n",
        "\n",
        "$$ \\mathcal{J}(w, b) =  \\frac{1}{num\\_samples} \\sum_{i=1}^{num\\_samples}-\\ln(\\hat{y}^{i})$$"
      ]
    },
    {
      "cell_type": "markdown",
      "metadata": {
        "id": "xHn9c3YM1l2y"
      },
      "source": [
        "### Funciones adicionales"
      ]
    },
    {
      "cell_type": "code",
      "execution_count": 16,
      "metadata": {
        "id": "IbBDPzsOu_ex"
      },
      "outputs": [],
      "source": [
        "class np_tensor(np.ndarray):\n",
        "  \"\"\"\n",
        "  A custom tensor class that extends numpy's ndarray to store gradients.\n",
        "  \"\"\"\n",
        "  pass"
      ]
    },
    {
      "cell_type": "markdown",
      "metadata": {
        "id": "DYJEqHLj1l2y"
      },
      "source": [
        "#### Mini batches"
      ]
    },
    {
      "cell_type": "code",
      "execution_count": 17,
      "metadata": {
        "id": "0QDrbNUJ1l2y"
      },
      "outputs": [],
      "source": [
        "def minibatch(X,y, batch_size=32):\n",
        "\n",
        "  \"\"\"\n",
        "  A generator that yields minibatches of data.\n",
        "\n",
        "  Args:\n",
        "      X (np.array): The dataset features.\n",
        "      y (np.array): The dataset labels.\n",
        "      batch_size (int): The size of each minibatch.\n",
        "\n",
        "  Yields:\n",
        "      (np.array, np.array): A minibatch of data (features and labels).\n",
        "  \"\"\"\n",
        "  total_rows = X.shape[0]\n",
        "  #\n",
        "  # Randomize the order of the inputs (shuffle)\n",
        "  idxs = np.arange(total_rows)\n",
        "  np.random.shuffle(idxs)\n",
        "  for i in range( 0, total_rows, batch_size):\n",
        "    yield X[i: i + batch_size ], y[i: i + batch_size]\n"
      ]
    },
    {
      "cell_type": "markdown",
      "metadata": {
        "id": "mche6T0J1l2z"
      },
      "source": [
        "## Nuestra clase Linear, ReLU y Sequential"
      ]
    },
    {
      "cell_type": "markdown",
      "metadata": {
        "id": "DqVNrmad1l2z"
      },
      "source": [
        "###  Clase Linear"
      ]
    },
    {
      "cell_type": "code",
      "execution_count": 18,
      "metadata": {
        "id": "eRlcH84JzyRe"
      },
      "outputs": [],
      "source": [
        "class Linear:\n",
        "  \"\"\"\n",
        "  A fully connected linear layer that performs a linear transformation.\n",
        "\n",
        "  Attributes:\n",
        "    W (np_tensor): The weight matrix.\n",
        "    b (np_tensor): The bias vector.\n",
        "  \"\"\"\n",
        "\n",
        "  def __init__(self, input_size, neurons):\n",
        "    \"\"\"\n",
        "    Initializes the linear layer with randomly generated weights and biases.\n",
        "\n",
        "    Args:\n",
        "      input_size (int): The number of input features.\n",
        "      neurons (int): The number of neurons (outputs).\n",
        "    \"\"\"\n",
        "    self.W = (np.random.randn(neurons, input_size)/np.sqrt(input_size/2)).view(np_tensor)\n",
        "    self.b = np.zeros((neurons, 1)).view(np_tensor)\n",
        "\n",
        "  def __call__(self, X):\n",
        "    \"\"\"\n",
        "    Performs a forward pass of the linear layer.\n",
        "\n",
        "    Args:\n",
        "      X (np_tensor): The input data.\n",
        "\n",
        "    Returns:\n",
        "      Z (np_tensor): The result of the linear transformation.\n",
        "    \"\"\"\n",
        "\n",
        "    Z = np.dot(self.W, X) + self.b\n",
        "    return Z\n",
        "\n",
        "  def backward(self, X, Z):\n",
        "    \"\"\"\n",
        "    Backpropagates the gradient through the linear layer.\n",
        "\n",
        "    Args:\n",
        "      Z (np_tensor): The output of the layer (forward pass).\n",
        "      X (np_tensor): The input to the layer.\n",
        "    \"\"\"\n",
        "    X.grad = np.dot(self.W.T, Z.grad)\n",
        "    self.W.grad = np.dot(Z.grad,X.T)\n",
        "    self.b.grad = np.sum(Z.grad, axis = 1, keepdims=True)\n",
        "\n"
      ]
    },
    {
      "cell_type": "markdown",
      "metadata": {
        "id": "JJbb1yDP1l2z"
      },
      "source": [
        "### Clase ReLU"
      ]
    },
    {
      "cell_type": "code",
      "execution_count": 19,
      "metadata": {
        "id": "b7CwKMq0LDok"
      },
      "outputs": [],
      "source": [
        "class ReLU():\n",
        "  \"\"\"\n",
        "  Implements the ReLU (Rectified Linear Unit) activation function and its gradient for backpropagation.\n",
        "\n",
        "  ReLU is defined as:\n",
        "  ReLU(x) = max(0, x)\n",
        "\n",
        "  Attributes:\n",
        "    None\n",
        "  \"\"\"\n",
        "\n",
        "  def __call__(self, input):\n",
        "    \"\"\"\n",
        "    Applies the ReLU activation function on the input.\n",
        "\n",
        "    Args:\n",
        "      input (np_tensor): The input array on which to apply ReLU.\n",
        "\n",
        "    Returns:\n",
        "      np_tensor: The result of applying ReLU, where all negative values are set to zero.\n",
        "    \"\"\"\n",
        "    return np.maximum(0, input)\n",
        "\n",
        "  def backward(self, Z, A):\n",
        "    \"\"\"\n",
        "    Backpropagates the gradient through the ReLU activation function.\n",
        "\n",
        "    Args:\n",
        "      Z (np_tensor): The input to the ReLU during the forward pass.\n",
        "      A (np_tensor): The output from the next layer in the network (during backward pass).\n",
        "\n",
        "    Modifies:\n",
        "      Z.grad (np_tensor): The gradient of the input Z, where all negative entries in Z\n",
        "                          during the forward pass have zero gradient.\n",
        "    \"\"\"\n",
        "    Z.grad = A.grad.copy()\n",
        "    Z.grad[Z <= 0] = 0\n"
      ]
    },
    {
      "cell_type": "markdown",
      "metadata": {
        "id": "Dyupjgs71l20"
      },
      "source": [
        "### Clase Sequential"
      ]
    },
    {
      "cell_type": "code",
      "execution_count": 20,
      "metadata": {
        "id": "1rBkc1-BQQ-4"
      },
      "outputs": [],
      "source": [
        "class Sequential():\n",
        "\n",
        "  \"\"\"\n",
        "  A container for stacking layers in a neural network.\n",
        "\n",
        "  Attributes:\n",
        "    layers (list): A list of layers to stack.\n",
        "    layer_out (dict): A dictionary to store the output of each layer.\n",
        "  \"\"\"\n",
        "  def __init__(self, layers):\n",
        "    \"\"\"\n",
        "    Initializes the neural network with the provided layers.\n",
        "\n",
        "    Args:\n",
        "      layers (list): A list of layers to stack in the network.\n",
        "    \"\"\"\n",
        "    self.layers = layers\n",
        "    self.layer_out = {} # Keep track out outputs per layer\n",
        "\n",
        "  def __call__(self, X):\n",
        "    \"\"\"\n",
        "    Performs the forward pass for the entire network.\n",
        "\n",
        "    Args:\n",
        "      X (np_tensor): The input data.\n",
        "\n",
        "    Returns:\n",
        "      np_tensor: The output of the final layer.\n",
        "    \"\"\"\n",
        "    self.x = X\n",
        "    self.layer_out['layer0'] = self.x\n",
        "\n",
        "    for i, layer in enumerate(self.layers, 1):\n",
        "      self.x = layer(self.x)\n",
        "      self.layer_out['layer' + str(i) ] = self.x\n",
        "    return self.x\n",
        "\n",
        "  def backward(self):\n",
        "    \"\"\"\n",
        "      Performs backpropagation through the entire network.\n",
        "      Loops from output in reverse . Note we have one more output than layers hence i + 1\n",
        "      Example: For layer 3 layer_out params will be layer_out['l3'] and layer_out['l4']\n",
        "               For layer 0 layer_out['l0'] and layer_out['l1']\n",
        "    \"\"\"\n",
        "    for i in reversed(range(len(self.layers))):\n",
        "      self.layers[i].backward(self.layer_out['layer' + str(i)], self.layer_out['layer' + str(i + 1)])\n",
        "\n",
        "  def update(self , learning_rate=1e3):\n",
        "    \"\"\"\n",
        "    Updates the weights of all layers using the calculated gradients.\n",
        "\n",
        "    Args:\n",
        "      learning_rate (float): The learning rate for gradient descent.\n",
        "    \"\"\"\n",
        "    for layer in self.layers:\n",
        "      if isinstance(layer, Linear):\n",
        "        layer.W = layer.W - learning_rate * layer.W.grad\n",
        "        layer.b = layer.b - learning_rate * layer.b.grad\n",
        "\n",
        "  def predict(self, X):\n",
        "    \"\"\"\n",
        "    Generates predictions from the network.\n",
        "\n",
        "    Args:\n",
        "      X (np.array): The input data.\n",
        "\n",
        "    Returns:\n",
        "      int: The predicted class labels.\n",
        "    \"\"\"\n",
        "    r = np.argmax(self.__call__(X))\n",
        "    return np.argmax(self.__call__(X))"
      ]
    },
    {
      "cell_type": "markdown",
      "metadata": {
        "id": "PmNxgWVf1l20"
      },
      "source": [
        "### Cost Function"
      ]
    },
    {
      "cell_type": "code",
      "execution_count": 21,
      "metadata": {
        "id": "q8c0dzOUgEre"
      },
      "outputs": [],
      "source": [
        "def softmaxXEntropy(x, y):\n",
        "  \"\"\"\n",
        "  Computes the softmax activation and cross-entropy loss.\n",
        "\n",
        "  Args:\n",
        "    x (np_tensor): The input scores (logits).\n",
        "    y (np.array): The true labels.\n",
        "\n",
        "  Returns:\n",
        "    (np_tensor, float): The predicted probabilities and the cost (loss).\n",
        "  \"\"\"\n",
        "  batch_size = x.shape[1]\n",
        "  exp_scores = np.exp(x)\n",
        "  probs = exp_scores / exp_scores.sum(axis = 0)\n",
        "  preds = probs.copy()\n",
        "  y_hat = probs[y.squeeze(), np.arange(batch_size)]\n",
        "  cost = np.sum(-np.log(y_hat)) / batch_size\n",
        "  probs[y.squeeze(), np.arange(batch_size)] -= 1\n",
        "  x.grad = probs.copy()\n",
        "  return preds, cost"
      ]
    },
    {
      "cell_type": "markdown",
      "metadata": {
        "id": "Y3RYxe_k1l21"
      },
      "source": [
        "### Loop de entrenamiento"
      ]
    },
    {
      "cell_type": "markdown",
      "metadata": {
        "id": "WRpDzc5J1l21"
      },
      "source": [
        "### Create your model and train it"
      ]
    },
    {
      "cell_type": "code",
      "execution_count": 22,
      "metadata": {
        "id": "AAd4fqme1l21"
      },
      "outputs": [],
      "source": [
        "def train(model, epochs, batch_size=32, learning_rate = 1e-3):\n",
        "  \"\"\"\n",
        "  Trains the model using minibatch & gradient descent.\n",
        "\n",
        "  Args:\n",
        "    model (Sequential): The neural network model.\n",
        "    epochs (int): The number of epochs to train for.\n",
        "    batch_size (int): The size of each minibatch.\n",
        "    learning_rate (float): The learning rate for gradient descent.\n",
        "  \"\"\"\n",
        "  for epoch in range(epochs):\n",
        "      for i, (x, y) in enumerate(minibatch(x_train, y_train, batch_size)):\n",
        "          scores = model(x.T.view(np_tensor))\n",
        "          _, cost = softmaxXEntropy(scores, y)\n",
        "          model.backward()\n",
        "          model.update(learning_rate)\n",
        "      accur = accuracy(x_val, y_val, model, batch_size)\n",
        "      print(f'epoch: {epoch + 1} -> cost: {cost}, accuracy: {accur}')\n"
      ]
    },
    {
      "cell_type": "code",
      "execution_count": 23,
      "metadata": {
        "id": "iadHOkBSiY84"
      },
      "outputs": [],
      "source": [
        "def accuracy(x, y, model, batch_size=32):\n",
        "  \"\"\"\n",
        "  Computes the accuracy of the model.\n",
        "\n",
        "  Args:\n",
        "      x (np.array): The dataset features.\n",
        "      y (np.array): The true labels.\n",
        "      model (Sequential): The neural network model.\n",
        "      batch_size (int): The size of each minibatch\n",
        "  \"\"\"\n",
        "  correct = 0\n",
        "  total = 0\n",
        "  for i, (x, y) in enumerate(minibatch(x, y, batch_size)):\n",
        "      y_hat = model(x.T.view(np_tensor))\n",
        "      correct += np.sum(np.argmax(y_hat, axis=0) == y.squeeze())\n",
        "      total += y_hat.shape[1]\n",
        "  return correct/total"
      ]
    },
    {
      "cell_type": "code",
      "execution_count": 24,
      "metadata": {
        "id": "iHdLOTejK6tN"
      },
      "outputs": [],
      "source": [
        "#\n",
        "# Instatiante the model class. Set the hyperparmeters for model object and train method\n",
        "model = Sequential([Linear(784, 300), ReLU(), Linear(300, 300), ReLU(), Linear(300, 24)])\n",
        "batch_size = 64\n",
        "learning_rate = 4e-3\n",
        "epochs = 40"
      ]
    },
    {
      "cell_type": "code",
      "execution_count": 25,
      "metadata": {
        "colab": {
          "base_uri": "https://localhost:8080/"
        },
        "id": "hGXUjfpwK7jN",
        "outputId": "4367a9d3-dccd-4a0c-db08-5e6d786e9518"
      },
      "outputs": [
        {
          "output_type": "stream",
          "name": "stdout",
          "text": [
            "epoch: 1 -> cost: 0.005707940075152039, accuracy: 0.7939208031232571\n",
            "epoch: 2 -> cost: 0.0020424444940623184, accuracy: 0.8020078081427775\n",
            "epoch: 3 -> cost: 0.0012042950717861113, accuracy: 0.8078639152258784\n",
            "epoch: 4 -> cost: 0.0008456497151411318, accuracy: 0.8092582264361405\n",
            "epoch: 5 -> cost: 0.0006450095345350928, accuracy: 0.8098159509202454\n",
            "epoch: 6 -> cost: 0.0005182447528464323, accuracy: 0.8092582264361405\n",
            "epoch: 7 -> cost: 0.00043166789073421387, accuracy: 0.8098159509202454\n",
            "epoch: 8 -> cost: 0.0003692453109280718, accuracy: 0.8098159509202454\n",
            "epoch: 9 -> cost: 0.00032171967953425806, accuracy: 0.809537088678193\n",
            "epoch: 10 -> cost: 0.0002844388462079387, accuracy: 0.8092582264361405\n",
            "epoch: 11 -> cost: 0.0002544674113532397, accuracy: 0.8089793641940881\n",
            "epoch: 12 -> cost: 0.00022993398808587745, accuracy: 0.8078639152258784\n",
            "epoch: 13 -> cost: 0.00020961207338531955, accuracy: 0.8081427774679308\n",
            "epoch: 14 -> cost: 0.0001925531559372651, accuracy: 0.8089793641940881\n",
            "epoch: 15 -> cost: 0.00017783234498239104, accuracy: 0.8100948131622978\n",
            "epoch: 16 -> cost: 0.00016506029301806738, accuracy: 0.8098159509202454\n",
            "epoch: 17 -> cost: 0.00015396735577086044, accuracy: 0.8103736754043502\n",
            "epoch: 18 -> cost: 0.0001441211078182869, accuracy: 0.8100948131622978\n",
            "epoch: 19 -> cost: 0.00013549104809515593, accuracy: 0.8098159509202454\n",
            "epoch: 20 -> cost: 0.00012768744132323707, accuracy: 0.8098159509202454\n",
            "epoch: 21 -> cost: 0.00012074254444604511, accuracy: 0.8098159509202454\n",
            "epoch: 22 -> cost: 0.00011454053348644253, accuracy: 0.809537088678193\n",
            "epoch: 23 -> cost: 0.00010892559016626737, accuracy: 0.8098159509202454\n",
            "epoch: 24 -> cost: 0.00010378754465493549, accuracy: 0.809537088678193\n",
            "epoch: 25 -> cost: 9.906416387896095e-05, accuracy: 0.809537088678193\n",
            "epoch: 26 -> cost: 9.469886568409043e-05, accuracy: 0.8098159509202454\n",
            "epoch: 27 -> cost: 9.06930253867222e-05, accuracy: 0.8098159509202454\n",
            "epoch: 28 -> cost: 8.699395098147118e-05, accuracy: 0.8098159509202454\n",
            "epoch: 29 -> cost: 8.355751656572317e-05, accuracy: 0.8098159509202454\n",
            "epoch: 30 -> cost: 8.038211632358769e-05, accuracy: 0.809537088678193\n",
            "epoch: 31 -> cost: 7.745779262891789e-05, accuracy: 0.809537088678193\n",
            "epoch: 32 -> cost: 7.471108655158354e-05, accuracy: 0.809537088678193\n",
            "epoch: 33 -> cost: 7.214315487038833e-05, accuracy: 0.809537088678193\n",
            "epoch: 34 -> cost: 6.97181225753365e-05, accuracy: 0.809537088678193\n",
            "epoch: 35 -> cost: 6.745259548226444e-05, accuracy: 0.809537088678193\n",
            "epoch: 36 -> cost: 6.529977753588961e-05, accuracy: 0.8098159509202454\n",
            "epoch: 37 -> cost: 6.328676591412114e-05, accuracy: 0.8098159509202454\n",
            "epoch: 38 -> cost: 6.137516872220743e-05, accuracy: 0.809537088678193\n",
            "epoch: 39 -> cost: 5.95807828722435e-05, accuracy: 0.809537088678193\n",
            "epoch: 40 -> cost: 5.78701957695759e-05, accuracy: 0.809537088678193\n"
          ]
        }
      ],
      "source": [
        "train(model, epochs, batch_size, learning_rate)"
      ]
    },
    {
      "cell_type": "markdown",
      "metadata": {
        "id": "Gbt8fTr21l21"
      },
      "source": [
        "### Test your model on Random data from your test set"
      ]
    },
    {
      "cell_type": "code",
      "execution_count": 26,
      "metadata": {
        "colab": {
          "base_uri": "https://localhost:8080/",
          "height": 439
        },
        "id": "0iC4zj-q1l21",
        "outputId": "5da6ba1d-d1a1-4d1f-b804-045614c82d5b"
      },
      "outputs": [
        {
          "output_type": "display_data",
          "data": {
            "text/plain": [
              "<Figure size 500x500 with 1 Axes>"
            ],
            "image/png": "[encoded data removed]"
          },
          "metadata": {}
        },
        {
          "output_type": "stream",
          "name": "stdout",
          "text": [
            "el valor predicho es: l el valor real es: l\n"
          ]
        }
      ],
      "source": [
        "#\n",
        "# Validate our model\n",
        "\n",
        "idx = np.random.randint(len(y_test))\n",
        "plot_number(x_test[idx].reshape(28,28))\n",
        "pred = model.predict(x_test[idx].reshape(-1, 1))\n",
        "print(f'el valor predicho es: {alphabet[pred]} el valor real es: {alphabet[y_test[idx]]}')"
      ]
    },
    {
      "cell_type": "markdown",
      "metadata": {
        "id": "OX97yvxq0yJC"
      },
      "source": [
        "Conclusion:\n",
        "\n",
        "As part of this interesting project, we deepened our understanding of the steps involved in building and training neural networks. This knowledge clarified the various components of a neural network and highlighted the importance of the mathematics underpinning each of them. Understanding each stage of the training process is essential, as these stages form the foundation for deep learning (DL) and more advanced machine learning (ML) algorithms. By understanding how neurons function and learn from data, we are better equipped to tackle complex problems and innovate across various industries.\n",
        "\n",
        "In this project, we used the Kaggle ASL dataset to train a multi-layer perceptron (MLP) to identify low-resolution hand images representing letters. We divided the dataset into training, validation, and test sets; normalized the data; implemented a function to partition the data into mini-batches; and wrote code for the activation functions, including the `Linear` class, `ReLU`, and `Sequential` class. We then calculated the cost function and built and trained the model.\n",
        "\n",
        "During the training phase, we experimented with different sets of hyperparameters, such as increasing the number of neurons per layer, adding hidden layers (from 1 to 3), and adjusting the learning rate.\n",
        "\n",
        "Interestingly, we found that the model performed best with a relatively simple configuration: a single hidden layer with 300 neurons in the last two layers. This result was initially counterintuitive, as we expected better accuracy with more neurons and additional hidden layers. However, we concluded that the added complexity led to overfitting.\n",
        "\n",
        "It is also worth noticing that the maximum accuracy was achieved before the final epoch, regardless of the total number of epochs. At this point, the cost had become extremely low, and further reductions after each epoch were minimal. This allowed us to optimize the number of epochs and reduce resource utilization.\n",
        "\n",
        "In conclusion, deep learning models are powerful tools for image classification, but their success depends on careful tuning of various factors. These include the quality and structure of the data, the size of the batches in which the data is processed, the number of epochs used to refine the learning process, and the learning rate, which determines how quickly or gradually the model adjusts its weights.\n",
        "\n"
      ]
    },
    {
      "cell_type": "code",
      "source": [],
      "metadata": {
        "id": "DbtUDUY8m7wM"
      },
      "execution_count": null,
      "outputs": []
    }
  ],
  "metadata": {
    "colab": {
      "provenance": []
    },
    "kernelspec": {
      "display_name": "Python 3 (ipykernel)",
      "language": "python",
      "name": "python3"
    },
    "language_info": {
      "codemirror_mode": {
        "name": "ipython",
        "version": 3
      },
      "file_extension": ".py",
      "mimetype": "text/x-python",
      "name": "python",
      "nbconvert_exporter": "python",
      "pygments_lexer": "ipython3",
      "version": "3.9.0"
    },
    "toc": {
      "base_numbering": 1,
      "nav_menu": {},
      "number_sections": true,
      "sideBar": true,
      "skip_h1_title": false,
      "title_cell": "Table of Contents",
      "title_sidebar": "Contents",
      "toc_cell": false,
      "toc_position": {},
      "toc_section_display": true,
      "toc_window_display": false
    },
    "varInspector": {
      "cols": {
        "lenName": 16,
        "lenType": 16,
        "lenVar": 40
      },
      "kernels_config": {
        "python": {
          "delete_cmd_postfix": "",
          "delete_cmd_prefix": "del ",
          "library": "var_list.py",
          "varRefreshCmd": "print(var_dic_list())"
        },
        "r": {
          "delete_cmd_postfix": ") ",
          "delete_cmd_prefix": "rm(",
          "library": "var_list.r",
          "varRefreshCmd": "cat(var_dic_list()) "
        }
      },
      "types_to_exclude": [
        "module",
        "function",
        "builtin_function_or_method",
        "instance",
        "_Feature"
      ],
      "window_display": false
    }
  },
  "nbformat": 4,
  "nbformat_minor": 0
}