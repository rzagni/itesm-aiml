{
  "cells": [
    {
      "cell_type": "markdown",
      "metadata": {
        "id": "E6vz9OCug9dp"
      },
      "source": [
        "#**Maestría en Inteligencia Artificial Aplicada**\n",
        "##**Curso: Procesamiento de Lenguaje Natural (NLP)**\n",
        "###Tecnológico de Monterrey\n",
        "###Prof Luis Eduardo Falcón Morales\n",
        "\n",
        "## ** Actividad Semana 10**\n",
        "\n",
        "###**Modelos LLM y IA en tu lugar de trabajo.**\n",
        "\n",
        "#### **Nombres y matrículas de los integrantes del equipo:**\n",
        "\n",
        "*   Renzo Zagni A01795457\n",
        "*   Angel Iván Ahumada Arguelles A00398508\n",
        "*   Karina Zafra Vallejo A01793979\n",
        "*   Ernesto Zapata Garza A00915255"
      ]
    },
    {
      "cell_type": "markdown",
      "metadata": {
        "id": "TMLbyyX-hXUs"
      },
      "source": [
        "\n",
        "\n",
        "# Seleccion de Modelo LLM\n",
        "Para esta asignacion seleccionamos el LLM de **OpenAI: gpt-3.5-turbo-16k version:3.5**\n",
        "\n",
        "\n",
        "# Información de la empresa y su principal giro comercial\n",
        "\n",
        "El Instituto Gemológico de América, conocido por sus siglas en inglés GIA, es una empresa sin fines de lucro dedicada a la evaluación de la calidad de las piedras preciosas, especialmente los diamantes.  Fundada en 1920, se considera la autoridad mundial en gemología [1]. Con una tradición de más de 100 años, el instituto ha mantenido una sólida posición en el mercado y niveles muy altos de reputación en la industria.\n",
        "\n",
        "En los últimos años, el GIA se ha enfrentado a desafíos tecnológicos que amenazan su rentabilidad y existencia. La competencia de productos y servicios altamente automatizados, así como la aparición de diamantes sintéticos, mucho más económicos e indistinguibles de los naturales, han complicado su posición en el mercado.\n",
        "\n",
        "El ecosistema digital de la empresa no ha cambiado significativamente a través de los últimos 20 años. Si bien esta ha hecho grandes inversiones en el ámbito de la digitalización, estas tecnologías ya muestran síntomas de obsolescencia y requieren involucramiento de personal que conlleva a actividades altamente manuales las que ha su vez están caracterizadas por su lentitud y un gran número de empleados.\n",
        "\n",
        "A continuación presentamos los retos resultados de la obsolescencia digital de la institución:\n",
        "\n",
        "<u>Obsolescencia del Software</u>\n",
        "\n",
        "Muchos de los equipos utilizados en la evaluación de los diamantes utilizan software que fue creado por terceros hace más de 15 años y que no cuenta con ningún tipo de soporte ni actualizaciones. Esto no solo imposibilita a la institución a integrar estos equipos con sistemas más modernos, como por ejemplo soluciones en la nube, sino que además generan un riesgo a nivel de seguridad que los exponen a ciberataques como malware y ransomware que serían fatales para la institución.\n",
        "\n",
        "<u>Intervención Manual</u>\n",
        "\n",
        "El 80% del personal de la empresa realiza actividades de bajo valor que involucra el traslado de los diamantes a través de los diferentes puestos de trabajo y el posicionamiento de estos en los equipos para su análisis. Esta es la fuente más alta de costos y factor decisivo en los tiempos de procesamiento.\n",
        "\n",
        "<u>Competencia en el Mercado</u>\n",
        "\n",
        "Los competidores tradicionales con De Beers [2] y el Instituto Internacional de Gemología (IGI) [3] han dado pasos acertados en el campo de la transformación digital y han logrado reducir costos y tiempos de procesamiento lo que es una amenaza para la cuota de mercado de GIA.\n",
        "\n",
        "Por otro lado avances en el campo de la robótica y la inteligencia artificial han reducido de las barreras de entrada al mercado y han dado paso a la aparición de nuevos competidores , como Sarine Tech [4], HDR Antwerp [5] y OGI Systems LTD [6] que cuentan con conocimientos y capacidades digitales sumamente altas y que han sido disruptivos en el mercado de certificación de diamantes.\n",
        "\n",
        "<u>Perdida de Oportunidades</u>\n",
        "\n",
        "La pérdida de oportunidades es probablemente el reto y la amenaza más grande a la que se enfrenta la institución. Las metodologías y conocimiento que han sido factores claves en el éxito de la empresa durante sus primeros 100 años ya son del dominio público y han dejado de ser diferenciadores en \\el mercado. La falta de digitalización y la alta prominencia de procesos manuales son impedimentos a la exploración nuevos mercados, productos y servicios.*\n",
        "\n",
        "# Area o departamento a la cual pertenece el proyecto/actividad seleccionada.\n",
        "\n",
        "Las areas/problemas seleccionados son:\n",
        "\n",
        "1. Identificacion de Diamantes: Este proceso implica determinar si el diamante en cuestion ya ha sido analizado y categorizado anteriormente. Este proceso es importante para evitar procesos duplicados o casos de diamantes perdidos o hurtados.\n",
        "\n",
        "2. Mejoras del desempeño del procesos de analisis y categorizacion de los diamantes naturales: Cualquier mejora en los procesos que resulte en menor costo o menor tiempo de procesamiento tendria un impacto positivo en cuanto a las ganancias de la empresa y satisfacion del cliente.\n",
        "\n",
        "Estos dos problemas tienen un impacto significativo y son considerados problema críticos de la empresa. Dada su magnitud, estos pertenece principalmente al área de R&D. A continuación, se detalla cómo la implementación de IA en R&D impactará otras áreas clave de la organización:\n",
        "\n",
        "<u>Operaciones</u>: La integración de IA en R&D permitirá el desarrollo de herramientas avanzadas para la evaluación de diamantes, que pueden ser implementadas en las operaciones diarias. Esto resultará en procesos más eficientes y precisos, reduciendo la necesidad de intervenciones manuales y mejorando la productividad.\n",
        "\n",
        "<u>Desarrollo de Negocios (Business Development)</u>:  Las innovaciones generadas en R&D a través de la IA abrirán nuevas oportunidades de mercado y productos. Estas innovaciones permitirán al departamento de Desarrollo de Negocios explorar y capturar nuevos segmentos de mercado, ofreciendo servicios diferenciados basados en tecnología de punta.\n",
        "\n",
        "<u>Marketing</u>: Los avances en R&D impulsados por la IA proporcionarán datos y análisis más precisos sobre la calidad y características de los diamantes. Esto permitirá al departamento de Marketing crear campañas más efectivas y personalizadas, destacando la precisión y confiabilidad de los servicios del GIA.\n",
        "\n",
        "<u>Tecnología de la Información (TI)</u>:  La colaboración entre R&D y TI será crucial para la implementación de soluciones de IA. TI deberá proporcionar la infraestructura necesaria para soportar estos sistemas avanzados, asegurando que las innovaciones desarrolladas en R&D puedan ser implementadas de manera segura y eficiente.\n",
        "\n",
        "# Descripción de actividades de la empresa\n",
        "\n",
        "\n",
        "GIA es una institución sin fines de lucro que ofrece investigación, servicios de laboratorio, educación, biblioteca y equipos para gemología.\n",
        "\n",
        "<u>R&D</u>: GIA desarrolla métodos para identificar y caracterizar gemas, especialmente para detectar diamantes tratados y sintéticos así como el diseño de equipos categorizar, identificar y analizar diamantes y gemas de colores\n",
        "\n",
        "<u>Servicios de Laboratorio</u>:  GIA roporciona informes de analisis y categorizacion de diamantes y gemas de color, detallando color, claridad, corte, peso y tratamientos.\n",
        "\n",
        "<u>Educación</u>:  GIA  cursos en línea y en campus sobre gemología, joyería y diseño, con acreditaciones reconocidas internacionalmente.\n",
        "\n",
        "<u>Biblioteca y Centro de Información</u>: GIA cuenta con una amplia colección de libros y recursos sobre gemología, disponibles para el público y la industria.\n",
        "\n",
        "<u>Instrumentos</u>:  GIA fabrica equipos para categorizar, identificar y analizar diamantes y gemas de colores.\n",
        "\n",
        "Para el propósito de este estudio nos enfocaremos en los servicios de laboratorio, específicamente el análisis y categorización de diamantes naturales.\n",
        "\n",
        "El proceso del análisis y categorización de los diamantes naturales es un proceso altamente manual y complejo. Este esta dividido en 5 categorías principales: recepción, pesos y medidas, análisis y clasificación, control de inventario y retorno. Cada una de estas categorías implica el uso de uno o mas dispositivos que requieren que el diamante sea colocado manualmente en el instrumento y este configurado y activado por un operador.\n",
        "\n",
        "El traslado del diamante se realiza de forma manual . En general el proceso es altamente manual y si bien esto no introduce errores , si es causante de altos tiempos y costos de procesamiento.\n",
        "<figure>\n",
        "<center>\n",
        "<img src=https://drive.google.com/uc?export=view&id=1RAkPQaAA2-VD54ENMaU7uxPLl-6Kt_9r width=\"650\" >\n",
        "<figcaption>Proceso de Analisis y Categorizacion de Diamantes</figcaption></center>\n",
        "</figure>\n",
        "<figure>\n",
        "<center>\n",
        "<img src=https://drive.google.com/uc?export=view&id=1LDIz3TpWN9sSzHPYiATUVFxBWPe_AXdA width=\"650\">\n",
        "<figcaption>Instrumentors de Analisis y Categorizacion de Diamantes</figcaption></center>\n",
        "</figure>\n",
        "\n",
        "# Otras áreas de la empresa te relacionas o interactúas generalmente.\n",
        "\n",
        "Si bien el rol está principalmente enfocado en TI, los aspectos innovativos de TI y de transformación digital nos sitúan en una posición estratégica para colaborar con los departamentos de R&D y Operaciones. Estos departamentos, como se mencionó anteriormente, son los encargados de diseñar y proveer productos y servicios que generan el 95% de los ingresos del instituto. La colaboración con R&D permite el desarrollo de nuevas tecnologías y métodos de evaluación de gemas, mejorando la precisión y eficiencia.\n",
        "\n",
        "Al trabajar con Operaciones, podemos implementar soluciones automatizadas que optimicen los procesos de producción y reduzcan costos operativos. Esta sinergia entre TI, R&D y Operaciones no solo impulsa la innovación, sino que ayuda a garantizar que el instituto mantenga su posición de liderazgo en la industria gemológica.\n",
        "\n",
        "<pre>\n",
        "Referencias\n",
        "\n",
        "[1]   Wikipedia contributors. (2024, 3 abril). Gemological Institute of America. Wikipedia. https://en.wikipedia.org/wiki/Gemological_Institute_of_America\n",
        "[2]   Diamond Grading. (s. f.). De Beers Institute Of Diamonds. Recuperado 3 de mayo de 2024, de https://institute.debeers.com/en-gb/grading\n",
        "[3]   International Gemological Institute. (s. f.). IGI. Recuperado 3 de mayo de 2024, de https://www.igi.org/reports/\n",
        "[4]   Sarine Tech - innovative solutions in the diamond industry. (2024, 16 abril). Sarine. https://sarine.com/\n",
        "[5]   Diamond Grading Reports – HRD Antwerp | hrdantwerp.com. (s. f.). HRD Antwerp. Recuperado 3 de mayo de 2024, de https://hrdantwerp.com/diamond-grading-reports/\n",
        "[6]   OGI Systems. (2020, 18 agosto). OGI Systems Group. Recuperado 3 de mayo de 2024, de https://www.ogisystems.com/\n",
        "</pre>"
      ]
    },
    {
      "cell_type": "markdown",
      "metadata": {
        "id": "vtZJFlMwuhU5"
      },
      "source": [
        "Usar la técnica de ingeniería de instrucciones (prompt engineering) con el LLM seleccionado para obtener ideas de cómo aplicar la Inteligencia Artificial en tu trabajo diario.\n",
        "\n",
        "El objetivo es obtener una primera guía sobre cómo encontrar no solamente áreas de oportunidad de la IA en las empresas, sino también una descripción detallada de los pasos que debes seguir para llevar a cabo dicha tarea. No dudes en hacer todas las preguntas que creas necesarias para obtener y mejorar la información que vas obteniendo.\n",
        "\n",
        "El objetivo no es llevar a cabo la implementación de las ideas, sino tomar esta actividad como una lluvia de ideas aunque algo detalladas de qué tipo de proyectos y cómo llevarlos a cabo dentro de tu trabajo, que te ayuden en el futuro empezar a implementar alguna de ellas."
      ]
    },
    {
      "cell_type": "code",
      "execution_count": 1,
      "metadata": {
        "colab": {
          "base_uri": "https://localhost:8080/",
          "height": 0
        },
        "id": "TrMJ16ilI6XN",
        "outputId": "9e24e1e2-720b-4d56-ac41-90fe17a7df71"
      },
      "outputs": [
        {
          "name": "stdout",
          "output_type": "stream",
          "text": [
            "Collecting openai\n",
            "  Downloading openai-1.35.3-py3-none-any.whl (327 kB)\n",
            "\u001b[2K     \u001b[90m━━━━━━━━━━━━━━━━━━━━━━━━━━━━━━━━━━━━━━━━\u001b[0m \u001b[32m327.4/327.4 kB\u001b[0m \u001b[31m4.8 MB/s\u001b[0m eta \u001b[36m0:00:00\u001b[0m\n",
            "\u001b[?25hRequirement already satisfied: anyio<5,>=3.5.0 in /usr/local/lib/python3.10/dist-packages (from openai) (3.7.1)\n",
            "Requirement already satisfied: distro<2,>=1.7.0 in /usr/lib/python3/dist-packages (from openai) (1.7.0)\n",
            "Collecting httpx<1,>=0.23.0 (from openai)\n",
            "  Downloading httpx-0.27.0-py3-none-any.whl (75 kB)\n",
            "\u001b[2K     \u001b[90m━━━━━━━━━━━━━━━━━━━━━━━━━━━━━━━━━━━━━━━━\u001b[0m \u001b[32m75.6/75.6 kB\u001b[0m \u001b[31m5.6 MB/s\u001b[0m eta \u001b[36m0:00:00\u001b[0m\n",
            "\u001b[?25hRequirement already satisfied: pydantic<3,>=1.9.0 in /usr/local/lib/python3.10/dist-packages (from openai) (2.7.4)\n",
            "Requirement already satisfied: sniffio in /usr/local/lib/python3.10/dist-packages (from openai) (1.3.1)\n",
            "Requirement already satisfied: tqdm>4 in /usr/local/lib/python3.10/dist-packages (from openai) (4.66.4)\n",
            "Requirement already satisfied: typing-extensions<5,>=4.7 in /usr/local/lib/python3.10/dist-packages (from openai) (4.12.2)\n",
            "Requirement already satisfied: idna>=2.8 in /usr/local/lib/python3.10/dist-packages (from anyio<5,>=3.5.0->openai) (3.7)\n",
            "Requirement already satisfied: exceptiongroup in /usr/local/lib/python3.10/dist-packages (from anyio<5,>=3.5.0->openai) (1.2.1)\n",
            "Requirement already satisfied: certifi in /usr/local/lib/python3.10/dist-packages (from httpx<1,>=0.23.0->openai) (2024.6.2)\n",
            "Collecting httpcore==1.* (from httpx<1,>=0.23.0->openai)\n",
            "  Downloading httpcore-1.0.5-py3-none-any.whl (77 kB)\n",
            "\u001b[2K     \u001b[90m━━━━━━━━━━━━━━━━━━━━━━━━━━━━━━━━━━━━━━━━\u001b[0m \u001b[32m77.9/77.9 kB\u001b[0m \u001b[31m5.3 MB/s\u001b[0m eta \u001b[36m0:00:00\u001b[0m\n",
            "\u001b[?25hCollecting h11<0.15,>=0.13 (from httpcore==1.*->httpx<1,>=0.23.0->openai)\n",
            "  Downloading h11-0.14.0-py3-none-any.whl (58 kB)\n",
            "\u001b[2K     \u001b[90m━━━━━━━━━━━━━━━━━━━━━━━━━━━━━━━━━━━━━━━━\u001b[0m \u001b[32m58.3/58.3 kB\u001b[0m \u001b[31m5.5 MB/s\u001b[0m eta \u001b[36m0:00:00\u001b[0m\n",
            "\u001b[?25hRequirement already satisfied: annotated-types>=0.4.0 in /usr/local/lib/python3.10/dist-packages (from pydantic<3,>=1.9.0->openai) (0.7.0)\n",
            "Requirement already satisfied: pydantic-core==2.18.4 in /usr/local/lib/python3.10/dist-packages (from pydantic<3,>=1.9.0->openai) (2.18.4)\n",
            "Installing collected packages: h11, httpcore, httpx, openai\n",
            "Successfully installed h11-0.14.0 httpcore-1.0.5 httpx-0.27.0 openai-1.35.3\n"
          ]
        }
      ],
      "source": [
        "!pip install openai"
      ]
    },
    {
      "cell_type": "code",
      "execution_count": 64,
      "metadata": {
        "id": "liDoper9S-wq"
      },
      "outputs": [],
      "source": [
        "from IPython.core.display import HTML"
      ]
    },
    {
      "cell_type": "code",
      "execution_count": 3,
      "metadata": {
        "id": "7OUugsCTGlnX"
      },
      "outputs": [],
      "source": [
        "import os\n",
        "import openai\n",
        "from openai import OpenAI\n",
        "from IPython.core.display import HTML\n",
        "\n",
        "#model = \"gpt-3.5-turbo-16k\"\n",
        "model = \"gpt-4o\"\n",
        "def get_completion(prompt, model=model, temperature=0):\n",
        "  response = client.chat.completions.create(\n",
        "  model=model,\n",
        "  messages=prompt,\n",
        "  temperature=temperature,\n",
        "  )\n",
        "  return response.choices[0].message.content"
      ]
    },
    {
      "cell_type": "code",
      "execution_count": 4,
      "metadata": {
        "id": "saHlyVYKJQJR"
      },
      "outputs": [],
      "source": [
        "company_details = f\"\"\"\n",
        "El Instituto Gemológico de América, conocido por sus siglas en inglés GIA, es una empresa sin fines de lucro dedicada a la evaluación de la calidad de las piedras preciosas, especialmente los diamantes.  Fundada en 1920, se considera la autoridad mundial en gemología [1]. Con una tradición de más de 100 años, el instituto ha mantenido una sólida posición en el mercado y niveles muy altos de reputación en la industria.\n",
        "En los últimos años, el GIA se ha enfrentado a desafíos tecnológicos que amenazan su rentabilidad y existencia. La competencia de productos y servicios altamente automatizados, así como la aparición de diamantes sintéticos, mucho más económicos e indistinguibles de los naturales, han complicado su posición en el mercado.\n",
        "El ecosistema digital de la empresa no ha cambiado significativamente a través de los últimos 20 años. Si bien esta ha hecho grandes inversiones en el ámbito de la digitalización, estas tecnologías ya muestran síntomas de obsolescencia y requieren involucramiento de personal que conlleva a actividades altamente manuales las que ha su vez están caracterizadas por su lentitud y un gran número de empleados.\n",
        "A continuación presentamos los retos resultados de la obsolescencia digital de la institución:\n",
        "Obsolescencia del Software: Muchos de los equipos utilizados en la evaluación de los diamantes utilizan software que fue creado por terceros hace más de 15 años y que no cuenta con ningún tipo de soporte ni actualizaciones. Esto no solo imposibilita a la institución a integrar estos equipos con sistemas más modernos, como por ejemplo soluciones en la nube, sino que además generan un riesgo a nivel de seguridad que los exponen a ciberataques como malware y ransomware que serían fatales para la institución.\n",
        "Intervención Manual:El 80% del personal de la empresa realiza actividades de bajo valor que involucra el traslado de los diamantes a través de los diferentes puestos de trabajo y el posicionamiento de estos en los equipos para su análisis. Esta es la fuente más alta de costos y factor decisivo en los tiempos de procesamiento.\n",
        "Competencia en el Mercado:Los competidores tradicionales con De Beers [2] y el Instituto Internacional de Gemología (IGI) [3] han dado pasos acertados en el campo de la transformación digital y han logrado reducir costos y tiempos de procesamiento lo que es una amenaza para la cuota de mercado de GIA.\n",
        "Por otro lado avances en el campo de la robótica y la inteligencia artificial han reducido de las barreras de entrada al mercado y han dado paso a la aparición de nuevos competidores , como Sarine Tech [4], HDR Antwerp [5] y OGI Systems LTD [6] que cuentan con conocimientos y capacidades digitales sumamente altas y que han sido disruptivos en el mercado de certificación de diamantes.\n",
        "Perdida de Oportunidades:La pérdida de oportunidades es probablemente el reto y la amenaza más grande a la que se enfrenta la institución. Las metodologías y conocimiento que han sido factores claves en el éxito de la empresa durante sus primeros 100 años ya son del dominio público y han dejado de ser diferenciadores en el mercado. La falta de digitalización y la alta prominencia de procesos manuales son impedimentos a la exploración nuevos mercados, productos y servicios.\n",
        "\"\"\""
      ]
    },
    {
      "cell_type": "code",
      "execution_count": 47,
      "metadata": {
        "colab": {
          "base_uri": "https://localhost:8080/",
          "height": 0
        },
        "id": "_2c0EnagJTdl",
        "outputId": "c9696a0e-d1a0-4fcb-913e-d662bd66ddc2"
      },
      "outputs": [
        {
          "name": "stdout",
          "output_type": "stream",
          "text": [
            "respuesta 1\n",
            "\n",
            "idea 1: Implementación de un Sistema de Reconocimiento de Imágenes Basado en IA\n",
            "Desarrollar un sistema de reconocimiento de imágenes utilizando técnicas avanzadas de procesamiento computarizado de imágenes y aprendizaje profundo. Este sistema puede identificar y clasificar diamantes previamente analizados y categorizados, reduciendo la necesidad de intervención manual y mejorando la precisión y velocidad del proceso. La base de datos de imágenes de diamantes puede ser utilizada para entrenar modelos de IA que reconozcan patrones y características únicas de cada diamante.\n",
            "\n",
            "idea 2: Integración de un Sistema de Gestión de Datos en la Nube\n",
            "Actualizar el ecosistema digital de la empresa mediante la integración de un sistema de gestión de datos en la nube. Esto permitirá un acceso más rápido y seguro a la información de los diamantes, facilitando la colaboración entre diferentes departamentos y mejorando la eficiencia operativa. Además, la nube ofrece escalabilidad y flexibilidad, permitiendo a la empresa adaptarse rápidamente a las demandas del mercado.\n",
            "\n",
            "idea 3: Automatización del Proceso de Análisis y Categorización\n",
            "Implementar robots y sistemas automatizados para el traslado y posicionamiento de los diamantes en los equipos de análisis. Utilizando técnicas de aprendizaje automático, estos sistemas pueden ser entrenados para realizar tareas repetitivas con alta precisión, reduciendo los costos operativos y el tiempo de procesamiento. La automatización también minimiza el riesgo de errores humanos y mejora la consistencia en la evaluación de los diamantes.\n",
            "\n",
            "idea 4: Desarrollo de un Asistente Virtual Basado en NLP\n",
            "Crear un asistente virtual utilizando técnicas de procesamiento de lenguaje natural (NLP) para asistir a los gemólogos en el proceso de análisis y categorización de diamantes. Este asistente puede proporcionar recomendaciones basadas en datos históricos y tendencias del mercado, ayudando a los expertos a tomar decisiones más informadas y precisas. Además, el asistente puede responder preguntas frecuentes y proporcionar soporte técnico, mejorando la eficiencia del personal.\n",
            "\n",
            "idea 5: Implementación de un Sistema de Monitoreo y Mantenimiento Predictivo\n",
            "Desarrollar un sistema de monitoreo y mantenimiento predictivo utilizando técnicas de aprendizaje automático para los equipos de análisis de diamantes. Este sistema puede predecir fallos y necesidades de mantenimiento antes de que ocurran, reduciendo el tiempo de inactividad y mejorando la fiabilidad de los equipos. La implementación de este sistema también puede extender la vida útil de los equipos y reducir los costos asociados con reparaciones y reemplazos.\n"
          ]
        }
      ],
      "source": [
        "prompt = [{'role':'system', 'content':\"\"\"\n",
        "Eres un experto en aprendizaje automático, procesos del lenguaje natural, aprendizaje profundo, matemáticas y procesamiento computarizado de imágenes.\"\"\",\n",
        "           'role':'user', 'content':\"\"\" tu tarea es proporcionar 5 ideas para mejorar la calidad de los productos y servicios de la empresa en el contexto los siguientes problemas definidos como problema 1 y problema 2 utilizando tecnicas de inteligencia artificial, aprendizaje automatico, NLP , lenguaje profundo y procesamiento computarizado de imagenes.\n",
        "Problema 1: Identificacion de Diamantes utilizando procesamiento computarizado de imagenes y tecnicas de lenguaje profundo: Este proceso implica determinar si el diamante en cuestion ya ha sido analizado y categorizado anteriormente.\n",
        "Problema 2:   Mejoras el procesos de analisis y categorizacion de los diamantes naturales.\n",
        "La información de la empresa se proporciona  a continuación delimitado por ```.\n",
        " ```\"\"\" + company_details + \"\"\"```\n",
        "Presenta las ideas como idea n: texto donde n es el numero de la idea y texto es el donde explicas la idea\n",
        "No utilizes metacaracteres para darle formato al texto de tus respuestas\n",
        "\n",
        "A tu respuesta la llamaremos respuesta 1 \"\"\"}]\n",
        "response = get_completion(prompt)\n",
        "print(response)"
      ]
    },
    {
      "cell_type": "code",
      "execution_count": 68,
      "metadata": {
        "colab": {
          "base_uri": "https://localhost:8080/",
          "height": 0
        },
        "id": "i9-I4ujkWwKB",
        "outputId": "621e4071-994b-4f36-f22a-645aeb0b80a3"
      },
      "outputs": [
        {
          "name": "stdout",
          "output_type": "stream",
          "text": [
            "Respuesta 2\n",
            "\n",
            "Idea 1: Implementación de un Sistema de Reconocimiento de Imágenes Basado en IA\n",
            "\n",
            "Detalles:\n",
            "\n",
            "1. **Tecnología Utilizada**: Utilizar redes neuronales convolucionales (CNN) para el procesamiento de imágenes y técnicas de aprendizaje profundo para el reconocimiento y categorización de diamantes. Estas redes son altamente efectivas en la identificación de patrones y características específicas en imágenes.\n",
            "\n",
            "2. **Base de Datos de Imágenes**: Crear una base de datos extensa y etiquetada de imágenes de diamantes previamente analizados y categorizados. Esta base de datos servirá como conjunto de entrenamiento para el modelo de IA.\n",
            "\n",
            "3. **Entrenamiento del Modelo**: Entrenar el modelo de IA utilizando la base de datos de imágenes. El modelo aprenderá a identificar características específicas de los diamantes, como inclusiones, color, corte y claridad, que son cruciales para su categorización.\n",
            "\n",
            "4. **Integración con Sistemas Existentes**: Integrar el sistema de reconocimiento de imágenes con el software y hardware existente en GIA. Esto permitirá que el sistema de IA acceda a las imágenes de los diamantes en tiempo real y realice análisis automáticos.\n",
            "\n",
            "5. **Automatización del Proceso**: Automatizar el proceso de identificación y categorización de diamantes. Una vez que el sistema de IA haya analizado una imagen, podrá determinar si el diamante ya ha sido analizado anteriormente y proporcionar su categorización. Esto reducirá significativamente la intervención manual y los tiempos de procesamiento.\n",
            "\n",
            "6. **Validación y Mejora Continua**: Implementar un sistema de retroalimentación donde los gemólogos puedan validar y corregir las categorizaciones realizadas por la IA. Esta retroalimentación se utilizará para mejorar continuamente la precisión del modelo.\n",
            "\n",
            "7. **Seguridad y Actualizaciones**: Asegurar que el sistema de IA esté protegido contra ciberataques mediante la implementación de medidas de seguridad robustas. Además, planificar actualizaciones periódicas del modelo de IA para mantener su precisión y relevancia a medida que se recopilan más datos.\n",
            "\n",
            "8. **Beneficios Esperados**: \n",
            "   - Reducción de costos operativos al disminuir la necesidad de intervención manual.\n",
            "   - Aumento en la velocidad y precisión del análisis y categorización de diamantes.\n",
            "   - Mejora en la competitividad de GIA frente a competidores que ya utilizan tecnologías avanzadas.\n",
            "   - Mayor capacidad para explorar nuevos mercados y servicios debido a la eficiencia mejorada.\n",
            "\n",
            "Implementar un sistema de reconocimiento de imágenes basado en IA no solo modernizará el proceso de análisis de diamantes en GIA, sino que también permitirá a la empresa mantenerse a la vanguardia en la industria gemológica.\n"
          ]
        }
      ],
      "source": [
        "#\n",
        "# En las proximas interacciones nos enfocamos en generar algunos detalles de la\n",
        "# Idea 1: Implementación de un Sistema de Reconocimiento de Imágenes Basado en IA\n",
        "#\n",
        "messages_idea1 =  prompt.copy()\n",
        "messages_idea1.append(\n",
        "{'role':'user', 'content':\"\"\"\n",
        "Dame mas detalles sobre la idea 1 Implementación de un Sistema de Reconocimiento de Imágenes Basado en IA de tu respuesta 1\n",
        "Esta respuesta la llamaremos Respuesta 2\n",
        "#\n",
        "# La repeticion de las respuestas anteriores parace ser o un bug o por diseño\n",
        "# https://community.openai.com/t/repetitive-responses-in-gpt-4o-chat-conversations/768755\n",
        "No repitas la respuesta 1 en tu respuesta 2\n",
        "\"\"\"})\n",
        "\n",
        "response = get_completion(messages_idea1)\n",
        "print(response)\n"
      ]
    },
    {
      "cell_type": "code",
      "execution_count": 69,
      "metadata": {
        "colab": {
          "base_uri": "https://localhost:8080/",
          "height": 0
        },
        "id": "7lQUp-JnpgUO",
        "outputId": "b5bcd3a6-c928-4e14-e2b5-1b2fc23a7808"
      },
      "outputs": [
        {
          "name": "stdout",
          "output_type": "stream",
          "text": [
            "Respuesta 3\n",
            "\n",
            "**Base de Datos de Imágenes**\n",
            "\n",
            "1. **Recolección de Imágenes**:\n",
            "   - **Fuentes Internas**: Utilizar imágenes de diamantes previamente analizados y categorizados por GIA.\n",
            "   - **Fuentes Externas**: Adquirir imágenes de diamantes de bases de datos públicas o de otras instituciones gemológicas.\n",
            "   - **Diversidad de Imágenes**: Asegurarse de que la base de datos incluya imágenes de diamantes en diferentes condiciones de luz, ángulos y resoluciones.\n",
            "\n",
            "2. **Etiquetado de Imágenes**:\n",
            "   - **Categorías**: Etiquetar las imágenes con información relevante como tipo de diamante, calidad, corte, color, claridad, y cualquier otra característica relevante.\n",
            "   - **Automatización del Etiquetado**: Utilizar herramientas de etiquetado automático para acelerar el proceso, aunque siempre con una revisión manual para asegurar la precisión.\n",
            "\n",
            "3. **Almacenamiento y Gestión**:\n",
            "   - **Base de Datos en la Nube**: Utilizar soluciones en la nube para almacenar y gestionar las imágenes, facilitando el acceso y la escalabilidad.\n",
            "   - **Seguridad**: Implementar medidas de seguridad para proteger la base de datos contra accesos no autorizados y ciberataques.\n",
            "\n",
            "**Entrenamiento del Modelo**\n",
            "\n",
            "1. **Preprocesamiento de Imágenes**:\n",
            "   - **Normalización**: Ajustar las imágenes a un tamaño y formato uniforme.\n",
            "   - **Aumento de Datos**: Aplicar técnicas de aumento de datos como rotación, escalado y cambio de brillo para aumentar la diversidad del conjunto de entrenamiento.\n",
            "\n",
            "2. **Selección del Modelo**:\n",
            "   - **Modelos Preentrenados**: Utilizar modelos de reconocimiento de imágenes preentrenados como ResNet, Inception o EfficientNet como punto de partida.\n",
            "   - **Ajuste Fino**: Realizar un ajuste fino del modelo preentrenado utilizando la base de datos específica de diamantes.\n",
            "\n",
            "3. **Entrenamiento del Modelo**:\n",
            "   - **División del Conjunto de Datos**: Dividir la base de datos en conjuntos de entrenamiento, validación y prueba.\n",
            "   - **Configuración de Hiperparámetros**: Ajustar hiperparámetros como la tasa de aprendizaje, el número de épocas y el tamaño del lote.\n",
            "   - **Entrenamiento**: Entrenar el modelo utilizando técnicas de aprendizaje supervisado, monitorizando la precisión y la pérdida en los conjuntos de validación.\n",
            "\n",
            "4. **Evaluación y Validación**:\n",
            "   - **Métricas de Evaluación**: Utilizar métricas como precisión, recall, F1-score y AUC-ROC para evaluar el rendimiento del modelo.\n",
            "   - **Validación Cruzada**: Implementar validación cruzada para asegurar que el modelo generaliza bien a datos no vistos.\n",
            "\n",
            "5. **Implementación y Monitoreo**:\n",
            "   - **Despliegue**: Implementar el modelo en un entorno de producción, integrándolo con los sistemas existentes de GIA.\n",
            "   - **Monitoreo Continuo**: Monitorear el rendimiento del modelo en tiempo real y realizar ajustes según sea necesario para mantener la precisión y eficiencia.\n",
            "\n",
            "Estos pasos proporcionan una guía detallada para la implementación de una base de datos de imágenes y el entrenamiento de un modelo de reconocimiento de imágenes basado en IA, específicamente adaptado a las necesidades del GIA en la identificación y categorización de diamantes.\n"
          ]
        }
      ],
      "source": [
        "messages_idea1.append(\n",
        "{'role':'user', 'content':\"\"\"\n",
        "Dame los pasos a seguir para implementar  la **Base de Datos de Imágenes**  y los detalles del **Entrenamiento del Modelo** de tu respuesta 2\n",
        "A esta respuesta la llamaremos repuesta 3\n",
        "No repitas las Respuesta 1 ni la Respuesta 2 en tu respuesta 3\n",
        "\"\"\"})\n",
        "\n",
        "response = get_completion(messages_idea1)\n",
        "print(response)"
      ]
    },
    {
      "cell_type": "code",
      "execution_count": 72,
      "metadata": {
        "colab": {
          "base_uri": "https://localhost:8080/",
          "height": 341
        },
        "id": "TQNtZ1zgUwNy",
        "outputId": "76341faf-a3ce-4a49-82d5-8af5874f82b9"
      },
      "outputs": [
        {
          "data": {
            "text/html": [
              "Aquí tienes una tabla comparativa en HTML que detalla los pros y los contras de ResNet, Inception y EfficientNet para la identificación de imágenes de diamantes:\n",
              "\n",
              "```html\n",
              "<table border=\"1\">\n",
              "  <tr>\n",
              "    <th>Modelo</th>\n",
              "    <th>Pros</th>\n",
              "    <th>Contras</th>\n",
              "  </tr>\n",
              "  <tr>\n",
              "    <td>ResNet</td>\n",
              "    <td>\n",
              "      <ul>\n",
              "        <li>Profundidad: Permite entrenar redes muy profundas sin problemas de degradación.</li>\n",
              "        <li>Rendimiento: Ha demostrado un rendimiento sólido en muchas tareas de visión por computadora.</li>\n",
              "        <li>Transferencia de Aprendizaje: Muy efectivo para transfer learning.</li>\n",
              "      </ul>\n",
              "    </td>\n",
              "    <td>\n",
              "      <ul>\n",
              "        <li>Complejidad: Puede ser más complejo de entrenar y ajustar.</li>\n",
              "        <li>Requiere más recursos computacionales en comparación con modelos más ligeros.</li>\n",
              "      </ul>\n",
              "    </td>\n",
              "  </tr>\n",
              "  <tr>\n",
              "    <td>Inception</td>\n",
              "    <td>\n",
              "      <ul>\n",
              "        <li>Arquitectura Eficiente: Utiliza convoluciones de diferentes tamaños en paralelo, lo que mejora la eficiencia.</li>\n",
              "        <li>Rendimiento: Ha demostrado un alto rendimiento en tareas de clasificación de imágenes.</li>\n",
              "        <li>Flexibilidad: Puede manejar imágenes de diferentes resoluciones y aspectos.</li>\n",
              "      </ul>\n",
              "    </td>\n",
              "    <td>\n",
              "      <ul>\n",
              "        <li>Complejidad Arquitectónica: La arquitectura es más compleja y puede ser más difícil de implementar y ajustar.</li>\n",
              "        <li>Requiere más memoria y recursos computacionales.</li>\n",
              "      </ul>\n",
              "    </td>\n",
              "  </tr>\n",
              "  <tr>\n",
              "    <td>EfficientNet</td>\n",
              "    <td>\n",
              "      <ul>\n",
              "        <li>Eficiencia: Optimizado para un equilibrio entre precisión y eficiencia computacional.</li>\n",
              "        <li>Escalabilidad: Puede escalar en profundidad, ancho y resolución de manera más eficiente.</li>\n",
              "        <li>Rendimiento: Ha demostrado un rendimiento superior en muchas tareas de clasificación de imágenes.</li>\n",
              "      </ul>\n",
              "    </td>\n",
              "    <td>\n",
              "      <ul>\n",
              "        <li>Complejidad de Implementación: Puede ser más difícil de implementar y ajustar debido a su arquitectura optimizada.</li>\n",
              "        <li>Requiere un conocimiento más profundo para ajustar los hiperparámetros de manera efectiva.</li>\n",
              "      </ul>\n",
              "    </td>\n",
              "  </tr>\n",
              "</table>\n",
              "```\n",
              "\n",
              "Esta tabla proporciona una visión general de las ventajas y desventajas de cada modelo en el contexto de la identificación de imágenes de diamantes."
            ],
            "text/plain": [
              "<IPython.core.display.HTML object>"
            ]
          },
          "execution_count": 72,
          "metadata": {},
          "output_type": "execute_result"
        }
      ],
      "source": [
        "messages_idea1.append(\n",
        "{'role':'user', 'content':\"\"\"\n",
        "Dame un tabla comparativa de los pros y los cons de  ResNet, Inception y EfficientNet para la identificacion de imagenes de diamantes?\n",
        "Presenta la tabla comparativa en una tabla HTML\n",
        "\"\"\"})\n",
        "\n",
        "response = get_completion(messages_idea1)\n",
        "HTML(response)"
      ]
    },
    {
      "cell_type": "code",
      "execution_count": 74,
      "metadata": {
        "colab": {
          "base_uri": "https://localhost:8080/",
          "height": 0
        },
        "id": "ahi6j3xxPcMp",
        "outputId": "bb5c5835-1aa7-4916-95b1-ff86aa4a6a19"
      },
      "outputs": [
        {
          "name": "stdout",
          "output_type": "stream",
          "text": [
            "Respuesta 4\n",
            "\n",
            "Aquí tienes un ejemplo de código en Python para implementar un modelo de reconocimiento de imágenes preentrenado utilizando ResNet. Este código utiliza la biblioteca `torchvision` de PyTorch para cargar el modelo ResNet preentrenado y realizar la inferencia en imágenes de diamantes.\n",
            "\n",
            "```python\n",
            "import torch\n",
            "import torchvision.transforms as transforms\n",
            "from torchvision import models\n",
            "from PIL import Image\n",
            "import requests\n",
            "from io import BytesIO\n",
            "\n",
            "# Definir las transformaciones para las imágenes de entrada\n",
            "transform = transforms.Compose([\n",
            "    transforms.Resize(256),\n",
            "    transforms.CenterCrop(224),\n",
            "    transforms.ToTensor(),\n",
            "    transforms.Normalize(mean=[0.485, 0.456, 0.406], std=[0.229, 0.224, 0.225]),\n",
            "])\n",
            "\n",
            "# Cargar el modelo ResNet preentrenado\n",
            "model = models.resnet50(pretrained=True)\n",
            "model.eval()  # Establecer el modelo en modo de evaluación\n",
            "\n",
            "# Función para predecir la clase de una imagen\n",
            "def predict_image(image_path):\n",
            "    # Cargar la imagen\n",
            "    if image_path.startswith('http'):\n",
            "        response = requests.get(image_path)\n",
            "        img = Image.open(BytesIO(response.content))\n",
            "    else:\n",
            "        img = Image.open(image_path)\n",
            "    \n",
            "    # Aplicar las transformaciones\n",
            "    img_t = transform(img)\n",
            "    batch_t = torch.unsqueeze(img_t, 0)\n",
            "    \n",
            "    # Realizar la inferencia\n",
            "    with torch.no_grad():\n",
            "        out = model(batch_t)\n",
            "    \n",
            "    # Obtener la clase con la mayor probabilidad\n",
            "    _, index = torch.max(out, 1)\n",
            "    \n",
            "    return index.item()\n",
            "\n",
            "# Ejemplo de uso\n",
            "image_path = 'https://example.com/path/to/diamond_image.jpg'  # Reemplaza con la ruta de tu imagen\n",
            "predicted_class = predict_image(image_path)\n",
            "print(f'Predicted class: {predicted_class}')\n",
            "```\n",
            "\n",
            "Este código realiza los siguientes pasos:\n",
            "\n",
            "1. Define las transformaciones necesarias para las imágenes de entrada, incluyendo el redimensionamiento, recorte central, conversión a tensor y normalización.\n",
            "2. Carga el modelo ResNet50 preentrenado y lo establece en modo de evaluación.\n",
            "3. Define una función `predict_image` que toma la ruta de una imagen, la carga, aplica las transformaciones, realiza la inferencia utilizando el modelo ResNet y devuelve la clase predicha.\n",
            "4. Proporciona un ejemplo de uso de la función `predict_image` con una imagen de diamante.\n",
            "\n",
            "Asegúrate de tener instaladas las bibliotecas necesarias (`torch`, `torchvision`, `PIL`, `requests`) antes de ejecutar el código. Puedes instalarlas utilizando `pip`:\n",
            "\n",
            "```sh\n",
            "pip install torch torchvision pillow requests\n",
            "```\n",
            "\n",
            "Este código es un punto de partida y puede ser adaptado y mejorado según las necesidades específicas de tu proyecto.\n"
          ]
        }
      ],
      "source": [
        "messages_idea1.append(\n",
        "{'role':'user', 'content':\"\"\"\n",
        "Dame un de codigo en python para implementar modelos de reconocimiento de imágenes preentrenados de tu respuesta 3 utilizando ResNet)\n",
        "A esta respuesta la llamaremos repuesta 4\n",
        "No repitas las Respuesta 1, ni la Respuesta 2 , ni la Respuesta 3 en tu respuesta 4\n",
        "\"\"\"})\n",
        "\n",
        "response = get_completion(messages_idea1)\n",
        "print(response)"
      ]
    },
    {
      "cell_type": "code",
      "execution_count": 78,
      "metadata": {
        "colab": {
          "base_uri": "https://localhost:8080/",
          "height": 0
        },
        "id": "aeA70G8ApFOP",
        "outputId": "499dff37-00a3-4ab4-8141-c311c11780dd"
      },
      "outputs": [
        {
          "name": "stdout",
          "output_type": "stream",
          "text": [
            "Aquí tienes el código en Java para implementar un modelo de reconocimiento de imágenes preentrenado utilizando ResNet. Para este propósito, utilizaremos la biblioteca DeepLearning4j (DL4J), que es una biblioteca de aprendizaje profundo para Java.\n",
            "\n",
            "```java\n",
            "import org.deeplearning4j.nn.graph.ComputationGraph;\n",
            "import org.deeplearning4j.nn.graph.ComputationGraphConfiguration;\n",
            "import org.deeplearning4j.nn.transferlearning.TransferLearning;\n",
            "import org.deeplearning4j.nn.transferlearning.TransferLearningHelper;\n",
            "import org.deeplearning4j.zoo.ModelZoo;\n",
            "import org.deeplearning4j.zoo.PretrainedType;\n",
            "import org.deeplearning4j.zoo.model.ResNet50;\n",
            "import org.nd4j.linalg.api.ndarray.INDArray;\n",
            "import org.nd4j.linalg.dataset.api.preprocessor.DataNormalization;\n",
            "import org.nd4j.linalg.dataset.api.preprocessor.VGG16ImagePreProcessor;\n",
            "import org.nd4j.linalg.factory.Nd4j;\n",
            "import org.nd4j.linalg.io.ClassPathResource;\n",
            "import org.nd4j.linalg.dataset.api.iterator.DataSetIterator;\n",
            "import org.nd4j.linalg.dataset.api.iterator.ImageRecordReader;\n",
            "import org.nd4j.linalg.dataset.api.preprocessor.ImagePreProcessingScaler;\n",
            "import org.datavec.api.io.labels.ParentPathLabelGenerator;\n",
            "import org.datavec.api.split.FileSplit;\n",
            "import org.datavec.image.loader.NativeImageLoader;\n",
            "import org.datavec.image.transform.FlipImageTransform;\n",
            "import org.datavec.image.transform.ImageTransform;\n",
            "import org.datavec.image.transform.MultiImageTransform;\n",
            "\n",
            "import java.io.File;\n",
            "import java.util.Arrays;\n",
            "import java.util.List;\n",
            "import java.util.Random;\n",
            "\n",
            "public class ResNetImageRecognition {\n",
            "\n",
            "    public static void main(String[] args) throws Exception {\n",
            "        // Load the pre-trained ResNet50 model\n",
            "        ComputationGraph resNet50 = (ComputationGraph) ResNet50.builder().build().initPretrained(PretrainedType.IMAGENET);\n",
            "\n",
            "        // Modify the model for transfer learning\n",
            "        ComputationGraphConfiguration.GraphBuilder graphBuilder = new TransferLearning.GraphBuilder(resNet50)\n",
            "                .fineTuneConfiguration(new FineTuneConfiguration.Builder()\n",
            "                        .updater(new Adam(1e-3))\n",
            "                        .seed(123)\n",
            "                        .build())\n",
            "                .setFeatureExtractor(\"fc1000\") // Specify the layer to freeze\n",
            "                .removeVertexAndConnections(\"fc1000\") // Remove the final layer\n",
            "                .addLayer(\"fc1000\", new OutputLayer.Builder(LossFunctions.LossFunction.NEGATIVELOGLIKELIHOOD)\n",
            "                        .nIn(2048).nOut(2) // Assuming binary classification\n",
            "                        .weightInit(WeightInit.XAVIER)\n",
            "                        .activation(Activation.SOFTMAX)\n",
            "                        .build(), \"flatten_1\");\n",
            "\n",
            "        ComputationGraph model = new ComputationGraph(graphBuilder.build());\n",
            "        model.init();\n",
            "\n",
            "        // Load and preprocess the image\n",
            "        int height = 224;\n",
            "        int width = 224;\n",
            "        int channels = 3;\n",
            "        NativeImageLoader loader = new NativeImageLoader(height, width, channels);\n",
            "        DataNormalization scaler = new VGG16ImagePreProcessor();\n",
            "\n",
            "        // Load a single image file\n",
            "        File file = new ClassPathResource(\"path/to/your/image.jpg\").getFile();\n",
            "        INDArray image = loader.asMatrix(file);\n",
            "        scaler.transform(image);\n",
            "\n",
            "        // Make a prediction\n",
            "        INDArray[] output = model.output(false, image);\n",
            "        System.out.println(\"Predicted class: \" + Nd4j.argMax(output[0], 1));\n",
            "    }\n",
            "}\n",
            "```\n",
            "\n",
            "### Explicación del Código\n",
            "\n",
            "1. **Carga del Modelo Preentrenado**:\n",
            "   - Utilizamos `ResNet50` de la biblioteca `ModelZoo` de DL4J para cargar un modelo preentrenado en el conjunto de datos ImageNet.\n",
            "\n",
            "2. **Transfer Learning**:\n",
            "   - Modificamos el modelo preentrenado para adaptarlo a nuestra tarea específica (por ejemplo, clasificación binaria). Esto se hace eliminando la última capa y añadiendo una nueva capa de salida con el número de clases deseado.\n",
            "\n",
            "3. **Preprocesamiento de Imágenes**:\n",
            "   - Utilizamos `NativeImageLoader` para cargar y redimensionar las imágenes a las dimensiones esperadas por ResNet50 (224x224x3).\n",
            "   - Aplicamos una normalización de imagen utilizando `VGG16ImagePreProcessor`.\n",
            "\n",
            "4. **Predicción**:\n",
            "   - Cargamos una imagen desde el sistema de archivos y la preprocesamos.\n",
            "   - Realizamos una predicción utilizando el modelo modificado y mostramos la clase predicha.\n",
            "\n",
            "### Requisitos\n",
            "\n",
            "- Asegúrate de tener las dependencias necesarias en tu archivo `pom.xml` si estás utilizando Maven:\n",
            "\n",
            "```xml\n",
            "<dependencies>\n",
            "    <dependency>\n",
            "        <groupId>org.deeplearning4j</groupId>\n",
            "        <artifactId>deeplearning4j-core</artifactId>\n",
            "        <version>1.0.0-beta7</version>\n",
            "    </dependency>\n",
            "    <dependency>\n",
            "        <groupId>org.nd4j</groupId>\n",
            "        <artifactId>nd4j-native-platform</artifactId>\n",
            "        <version>1.0.0-beta7</version>\n",
            "    </dependency>\n",
            "    <dependency>\n",
            "        <groupId>org.datavec</groupId>\n",
            "        <artifactId>datavec-api</artifactId>\n",
            "        <version>1.0.0-beta7</version>\n",
            "    </dependency>\n",
            "    <dependency>\n",
            "        <groupId>org.datavec</groupId>\n",
            "        <artifactId>datavec-data-image</artifactId>\n",
            "        <version>1.0.0-beta7</version>\n",
            "    </dependency>\n",
            "</dependencies>\n",
            "```\n",
            "\n",
            "Este código proporciona una base sólida para implementar un sistema de reconocimiento de imágenes utilizando ResNet en Java. Puedes expandirlo para incluir más funcionalidades como la carga de múltiples imágenes, la evaluación del modelo, y la integración con otros sistemas.\n"
          ]
        }
      ],
      "source": [
        "messages_idea1.append(\n",
        "{'role':'user', 'content':\"\"\"\n",
        "Convierte el codigo python de la respuesta 4 a codigo Java\"\"\"})\n",
        "\n",
        "response = get_completion(messages_idea1)\n",
        "print(response)"
      ]
    },
    {
      "cell_type": "code",
      "execution_count": 79,
      "metadata": {
        "colab": {
          "base_uri": "https://localhost:8080/",
          "height": 0
        },
        "id": "pxphLy3jtokn",
        "outputId": "558c7f33-7130-4bee-a2a7-b72fed495bd1"
      },
      "outputs": [
        {
          "name": "stdout",
          "output_type": "stream",
          "text": [
            "Idea 2: Integración de un Sistema de Gestión de Datos en la Nube\n",
            "\n",
            "La integración de un sistema de gestión de datos en la nube puede transformar significativamente la manera en que el GIA maneja y procesa la información relacionada con la evaluación de diamantes. Aquí se detallan los componentes y beneficios clave de esta idea:\n",
            "\n",
            "1. **Centralización y Accesibilidad de Datos**:\n",
            "   - **Centralización**: Al migrar los datos a la nube, toda la información sobre los diamantes, incluyendo imágenes, análisis previos, y categorizaciones, se centraliza en un único repositorio accesible desde cualquier lugar.\n",
            "   - **Accesibilidad**: Los empleados pueden acceder a los datos en tiempo real desde cualquier dispositivo autorizado, lo que facilita la colaboración y reduce los tiempos de espera asociados con la transferencia manual de información.\n",
            "\n",
            "2. **Seguridad y Respaldo de Datos**:\n",
            "   - **Seguridad**: Los proveedores de servicios en la nube ofrecen avanzadas medidas de seguridad, incluyendo cifrado de datos, autenticación multifactor y monitoreo continuo, lo que reduce significativamente el riesgo de ciberataques.\n",
            "   - **Respaldo y Recuperación**: La nube permite configuraciones automáticas de respaldo y recuperación de datos, asegurando que la información crítica esté protegida contra pérdidas accidentales o desastres.\n",
            "\n",
            "3. **Escalabilidad y Flexibilidad**:\n",
            "   - **Escalabilidad**: La infraestructura en la nube puede escalarse fácilmente para manejar grandes volúmenes de datos sin necesidad de inversiones significativas en hardware.\n",
            "   - **Flexibilidad**: La capacidad de ajustar los recursos según la demanda permite al GIA adaptarse rápidamente a cambios en el volumen de trabajo, optimizando costos y eficiencia.\n",
            "\n",
            "4. **Integración con Tecnologías Avanzadas**:\n",
            "   - **Inteligencia Artificial y Aprendizaje Automático**: La nube facilita la integración con servicios de IA y aprendizaje automático que pueden automatizar y mejorar los procesos de análisis y categorización de diamantes.\n",
            "   - **Procesamiento de Imágenes y NLP**: Las capacidades de procesamiento computarizado de imágenes y técnicas de lenguaje profundo pueden ser implementadas y gestionadas más eficientemente en un entorno en la nube, mejorando la precisión y velocidad del análisis.\n",
            "\n",
            "5. **Automatización de Procesos**:\n",
            "   - **Flujos de Trabajo Automatizados**: La nube permite la creación de flujos de trabajo automatizados que pueden reducir la intervención manual, como el traslado y posicionamiento de diamantes, mediante la integración con sistemas robóticos y de IA.\n",
            "   - **Monitoreo y Análisis en Tiempo Real**: Los sistemas en la nube pueden proporcionar análisis en tiempo real y monitoreo continuo de los procesos, permitiendo una rápida identificación y resolución de problemas.\n",
            "\n",
            "6. **Costos y Mantenimiento**:\n",
            "   - **Reducción de Costos**: Al eliminar la necesidad de mantener y actualizar infraestructura local, el GIA puede reducir costos operativos y de mantenimiento.\n",
            "   - **Actualizaciones Continuas**: Los proveedores de servicios en la nube ofrecen actualizaciones continuas y soporte, asegurando que el sistema esté siempre al día con las últimas tecnologías y estándares de seguridad.\n",
            "\n",
            "Implementar un sistema de gestión de datos en la nube no solo modernizaría la infraestructura tecnológica del GIA, sino que también proporcionaría una base sólida para futuras innovaciones y mejoras en la calidad de sus productos y servicios.\n"
          ]
        }
      ],
      "source": [
        "#\n",
        "# En las proximas interacciones nos enfocamos en generar algunos detalles de la\n",
        "# Idea 2: Integración de un Sistema de Gestión de Datos en la Nube\n",
        "# Para esto, reseteamos el prompt utilizando una variable diferente para evitar la mezcla de topicos y alguna alucinacion\n",
        "messages_idea2 =  prompt.copy()\n",
        "messages_idea2.append(\n",
        "{'role':'user', 'content':\"\"\"\n",
        "Dame mas detalles sobre la Idea 2: Integración de un Sistema de Gestión de Datos en la Nube  de tu respuesta 1\n",
        "Esta respuesta la llamaremos respuesta 2\n",
        "No repitas la respuesta 1 en tu respuesta 2\n",
        "\"\"\"})\n",
        "\n",
        "response = get_completion(messages_idea2)\n",
        "print(response)\n"
      ]
    },
    {
      "cell_type": "code",
      "execution_count": 80,
      "metadata": {
        "colab": {
          "base_uri": "https://localhost:8080/",
          "height": 0
        },
        "id": "tIuJxl5TIhbd",
        "outputId": "bd6eb51d-15aa-4d3d-bb84-7d4680b15c14"
      },
      "outputs": [
        {
          "name": "stdout",
          "output_type": "stream",
          "text": [
            "Para implementar la idea de integrar un Sistema de Gestión de Datos en la Nube, recomiendo considerar los siguientes proveedores de servicios en la nube:\n",
            "\n",
            "1. **Amazon Web Services (AWS)**: AWS es uno de los líderes en el mercado de servicios en la nube y ofrece una amplia gama de servicios que pueden ser útiles para la gestión de datos, incluyendo Amazon S3 para almacenamiento, Amazon RDS para bases de datos relacionales, y Amazon SageMaker para implementar modelos de aprendizaje automático.\n",
            "\n",
            "2. **Microsoft Azure**: Azure es otra opción robusta que ofrece servicios similares a AWS. Azure Blob Storage puede ser utilizado para almacenamiento de datos, mientras que Azure SQL Database puede manejar bases de datos relacionales. Además, Azure Machine Learning puede ser utilizado para desarrollar y desplegar modelos de inteligencia artificial.\n",
            "\n",
            "3. **Google Cloud Platform (GCP)**: GCP es conocido por su capacidad de manejar grandes volúmenes de datos y su fuerte enfoque en el aprendizaje automático. Google Cloud Storage es ideal para almacenamiento, Google BigQuery para análisis de grandes datos, y Google AI Platform para el desarrollo de modelos de aprendizaje automático.\n",
            "\n",
            "4. **IBM Cloud**: IBM Cloud ofrece soluciones específicas para la industria de gemología y puede ser una opción viable. IBM Cloud Object Storage es útil para almacenamiento, IBM Db2 on Cloud para bases de datos, y IBM Watson para capacidades avanzadas de inteligencia artificial y procesamiento de lenguaje natural.\n",
            "\n",
            "5. **Oracle Cloud**: Oracle Cloud es conocido por su fuerte enfoque en bases de datos y puede ser una opción adecuada para la gestión de datos. Oracle Cloud Infrastructure (OCI) Object Storage puede ser utilizado para almacenamiento, y Oracle Autonomous Database para bases de datos relacionales con capacidades de auto-gestión.\n",
            "\n",
            "Cada uno de estos proveedores tiene sus propias fortalezas y puede ofrecer soluciones personalizadas para satisfacer las necesidades específicas del Instituto Gemológico de América. La elección del proveedor dependerá de factores como el costo, la facilidad de integración con los sistemas existentes, y las capacidades específicas de inteligencia artificial y aprendizaje automático que se requieran.\n"
          ]
        }
      ],
      "source": [
        "messages_idea2.append(\n",
        "{'role':'user', 'content':\"\"\"\n",
        "Que provedores de servicios en la nube recomiendas para implementar la idea 2: Integración de un Sistema de Gestión de Datos en la Nube de tu respuesta 1 .\n",
        "A esta respuesta la llamaremos repuesta 3\n",
        "No repitas las respuestas 1, ni la respuesta 2  en tu respuesta 3\"\"\"})\n",
        "response = get_completion(messages_idea2)\n",
        "print(response)"
      ]
    },
    {
      "cell_type": "code",
      "execution_count": 81,
      "metadata": {
        "colab": {
          "base_uri": "https://localhost:8080/",
          "height": 0
        },
        "id": "5KfapGv6JFfH",
        "outputId": "2212f5ef-fa1c-408a-b05f-9ca21168609e"
      },
      "outputs": [
        {
          "name": "stdout",
          "output_type": "stream",
          "text": [
            "respuesta 4\n",
            "\n",
            "Aquí tienes un ejemplo de código en Terraform para implementar un sistema de gestión de datos en la nube en Amazon Web Services (AWS). Este ejemplo incluye la creación de una base de datos RDS, un bucket de S3 para almacenamiento de datos y una instancia de EC2 para procesamiento.\n",
            "\n",
            "```hcl\n",
            "# Configuración del proveedor de AWS\n",
            "provider \"aws\" {\n",
            "  region = \"us-west-2\"\n",
            "}\n",
            "\n",
            "# Creación de un bucket de S3 para almacenamiento de datos\n",
            "resource \"aws_s3_bucket\" \"data_bucket\" {\n",
            "  bucket = \"gia-data-bucket\"\n",
            "  acl    = \"private\"\n",
            "\n",
            "  tags = {\n",
            "    Name        = \"GIA Data Bucket\"\n",
            "    Environment = \"Production\"\n",
            "  }\n",
            "}\n",
            "\n",
            "# Creación de una instancia de RDS para la base de datos\n",
            "resource \"aws_db_instance\" \"default\" {\n",
            "  allocated_storage    = 20\n",
            "  storage_type         = \"gp2\"\n",
            "  engine               = \"mysql\"\n",
            "  engine_version       = \"8.0\"\n",
            "  instance_class       = \"db.t2.micro\"\n",
            "  name                 = \"gia_db\"\n",
            "  username             = \"admin\"\n",
            "  password             = \"password123\"\n",
            "  parameter_group_name = \"default.mysql8.0\"\n",
            "  skip_final_snapshot  = true\n",
            "\n",
            "  tags = {\n",
            "    Name        = \"GIA Database\"\n",
            "    Environment = \"Production\"\n",
            "  }\n",
            "}\n",
            "\n",
            "# Creación de una instancia de EC2 para procesamiento\n",
            "resource \"aws_instance\" \"app_server\" {\n",
            "  ami           = \"ami-0c55b159cbfafe1f0\" # Amazon Linux 2 AMI\n",
            "  instance_type = \"t2.micro\"\n",
            "\n",
            "  tags = {\n",
            "    Name        = \"GIA App Server\"\n",
            "    Environment = \"Production\"\n",
            "  }\n",
            "\n",
            "  # Conexión a la base de datos RDS\n",
            "  user_data = <<-EOF\n",
            "              #!/bin/bash\n",
            "              yum update -y\n",
            "              yum install -y mysql\n",
            "              EOF\n",
            "}\n",
            "\n",
            "# Salida de la URL del bucket de S3\n",
            "output \"s3_bucket_url\" {\n",
            "  value = aws_s3_bucket.data_bucket.bucket_domain_name\n",
            "}\n",
            "\n",
            "# Salida de la dirección de la base de datos RDS\n",
            "output \"rds_endpoint\" {\n",
            "  value = aws_db_instance.default.endpoint\n",
            "}\n",
            "\n",
            "# Salida de la dirección pública de la instancia de EC2\n",
            "output \"ec2_public_ip\" {\n",
            "  value = aws_instance.app_server.public_ip\n",
            "}\n",
            "```\n",
            "\n",
            "Este código hace lo siguiente:\n",
            "\n",
            "1. Configura el proveedor de AWS.\n",
            "2. Crea un bucket de S3 para almacenamiento de datos.\n",
            "3. Crea una instancia de RDS con MySQL como motor de base de datos.\n",
            "4. Crea una instancia de EC2 para procesamiento de datos.\n",
            "5. Proporciona salidas con la URL del bucket de S3, el endpoint de la base de datos RDS y la dirección IP pública de la instancia de EC2.\n",
            "\n",
            "Asegúrate de ajustar los valores de configuración según tus necesidades específicas, como la región de AWS, el tipo de instancia y las credenciales de la base de datos. Además, no olvides manejar las credenciales de manera segura, por ejemplo, utilizando AWS Secrets Manager o variables de entorno.\n"
          ]
        }
      ],
      "source": [
        "messages_idea2.append(\n",
        "{'role':'user', 'content':\"\"\"\n",
        "Dame el codigo en Terraform para implementar la idea 2: Integración de un Sistema de Gestión de Datos en la Nube de tu respuesta 1 en Amazon Web Services\n",
        "A esta respuesta la llamaremos repuesta 4\n",
        "No repitas las respuestas 1, ni la respuesta 2, ni la respuesta 3  en tu respuesta 4\"\"\"})\n",
        "response = get_completion(messages_idea2)\n",
        "print(response)"
      ]
    },
    {
      "cell_type": "code",
      "execution_count": 82,
      "metadata": {
        "colab": {
          "base_uri": "https://localhost:8080/",
          "height": 0
        },
        "id": "S1mxZup1JXpY",
        "outputId": "d3310afb-6495-4683-db90-4e7ac0ec4918"
      },
      "outputs": [
        {
          "name": "stdout",
          "output_type": "stream",
          "text": [
            "Aquí tienes el código en CloudFormation para implementar la idea de integración de un sistema de gestión de datos en la nube en Amazon Web Services (AWS):\n",
            "\n",
            "```yaml\n",
            "AWSTemplateFormatVersion: '2010-09-09'\n",
            "Description: Template to create an S3 bucket, RDS instance, and IAM roles for data management\n",
            "\n",
            "Resources:\n",
            "  S3Bucket:\n",
            "    Type: 'AWS::S3::Bucket'\n",
            "    Properties:\n",
            "      BucketName: 'gia-data-management-bucket'\n",
            "      VersioningConfiguration:\n",
            "        Status: 'Enabled'\n",
            "\n",
            "  RDSInstance:\n",
            "    Type: 'AWS::RDS::DBInstance'\n",
            "    Properties:\n",
            "      DBInstanceIdentifier: 'gia-database'\n",
            "      AllocatedStorage: '20'\n",
            "      DBInstanceClass: 'db.t2.micro'\n",
            "      Engine: 'mysql'\n",
            "      MasterUsername: 'admin'\n",
            "      MasterUserPassword: 'password'\n",
            "      DBName: 'giaDB'\n",
            "      BackupRetentionPeriod: 7\n",
            "      PubliclyAccessible: false\n",
            "\n",
            "  RDSSecurityGroup:\n",
            "    Type: 'AWS::EC2::SecurityGroup'\n",
            "    Properties:\n",
            "      GroupDescription: 'Enable access to RDS instance'\n",
            "      SecurityGroupIngress:\n",
            "        - IpProtocol: 'tcp'\n",
            "          FromPort: '3306'\n",
            "          ToPort: '3306'\n",
            "          CidrIp: '0.0.0.0/0'\n",
            "\n",
            "  RDSInstanceWithSecurityGroup:\n",
            "    Type: 'AWS::RDS::DBInstance'\n",
            "    Properties:\n",
            "      DBInstanceIdentifier: 'gia-database'\n",
            "      AllocatedStorage: '20'\n",
            "      DBInstanceClass: 'db.t2.micro'\n",
            "      Engine: 'mysql'\n",
            "      MasterUsername: 'admin'\n",
            "      MasterUserPassword: 'password'\n",
            "      DBName: 'giaDB'\n",
            "      VPCSecurityGroups:\n",
            "        - !GetAtt RDSSecurityGroup.GroupId\n",
            "      BackupRetentionPeriod: 7\n",
            "      PubliclyAccessible: false\n",
            "\n",
            "  IAMRole:\n",
            "    Type: 'AWS::IAM::Role'\n",
            "    Properties:\n",
            "      RoleName: 'GIADataManagementRole'\n",
            "      AssumeRolePolicyDocument:\n",
            "        Version: '2012-10-17'\n",
            "        Statement:\n",
            "          - Effect: 'Allow'\n",
            "            Principal:\n",
            "              Service: 'ec2.amazonaws.com'\n",
            "            Action: 'sts:AssumeRole'\n",
            "      Policies:\n",
            "        - PolicyName: 'GIADataManagementPolicy'\n",
            "          PolicyDocument:\n",
            "            Version: '2012-10-17'\n",
            "            Statement:\n",
            "              - Effect: 'Allow'\n",
            "                Action:\n",
            "                  - 's3:*'\n",
            "                Resource: '*'\n",
            "              - Effect: 'Allow'\n",
            "                Action:\n",
            "                  - 'rds:*'\n",
            "                Resource: '*'\n",
            "\n",
            "Outputs:\n",
            "  S3BucketName:\n",
            "    Description: 'Name of the S3 bucket'\n",
            "    Value: !Ref S3Bucket\n",
            "\n",
            "  RDSInstanceEndpoint:\n",
            "    Description: 'Endpoint of the RDS instance'\n",
            "    Value: !GetAtt RDSInstance.Endpoint.Address\n",
            "\n",
            "  IAMRoleName:\n",
            "    Description: 'Name of the IAM Role'\n",
            "    Value: !Ref IAMRole\n",
            "```\n",
            "\n",
            "Este código crea un bucket de S3 con versionado habilitado, una instancia de RDS MySQL con un grupo de seguridad asociado, y un rol de IAM con permisos para acceder a S3 y RDS. Asegúrate de ajustar los valores de las propiedades según tus necesidades específicas, como el nombre del bucket, las credenciales de la base de datos y las políticas de IAM.\n"
          ]
        }
      ],
      "source": [
        "messages_idea2.append(\n",
        "{'role':'user', 'content':\"\"\"\n",
        "Convierte el codigo en Terraform de la Respuesta 4 a codigo Cloud Formation\n",
        "\"\"\"})\n",
        "response = get_completion(messages_idea2)\n",
        "print(response)"
      ]
    },
    {
      "cell_type": "code",
      "execution_count": 83,
      "metadata": {
        "colab": {
          "base_uri": "https://localhost:8080/",
          "height": 387
        },
        "id": "sTMZQElsSoW2",
        "outputId": "8868ba31-7434-4299-89fa-459f80c7ebeb"
      },
      "outputs": [
        {
          "data": {
            "text/html": [
              "```html\n",
              "<table border=\"1\">\n",
              "  <tr>\n",
              "    <th>Aspecto</th>\n",
              "    <th>Terraform</th>\n",
              "    <th>CloudFormation</th>\n",
              "  </tr>\n",
              "  <tr>\n",
              "    <td>Compatibilidad</td>\n",
              "    <td>Multi-nube: Compatible con múltiples proveedores de nube como AWS, GCP, Azure, etc.</td>\n",
              "    <td>Específico de AWS: Solo compatible con servicios de Amazon Web Services.</td>\n",
              "  </tr>\n",
              "  <tr>\n",
              "    <td>Lenguaje de Configuración</td>\n",
              "    <td>HCL (HashiCorp Configuration Language): Más fácil de leer y escribir, especialmente para desarrolladores.</td>\n",
              "    <td>JSON/YAML: Puede ser más verboso y menos intuitivo para algunos usuarios.</td>\n",
              "  </tr>\n",
              "  <tr>\n",
              "    <td>Estado</td>\n",
              "    <td>Estado gestionado por el usuario: Requiere almacenamiento y gestión del estado, lo que puede ser un desafío pero también ofrece flexibilidad.</td>\n",
              "    <td>Estado gestionado por AWS: AWS gestiona el estado, lo que simplifica la gestión pero puede ser menos flexible.</td>\n",
              "  </tr>\n",
              "  <tr>\n",
              "    <td>Modularidad</td>\n",
              "    <td>Altamente modular: Soporta módulos reutilizables que facilitan la organización y reutilización del código.</td>\n",
              "    <td>Menos modular: Aunque soporta plantillas anidadas, no es tan flexible como los módulos de Terraform.</td>\n",
              "  </tr>\n",
              "  <tr>\n",
              "    <td>Comunidad y Ecosistema</td>\n",
              "    <td>Amplia comunidad: Gran cantidad de módulos y recursos disponibles creados por la comunidad.</td>\n",
              "    <td>Comunidad más pequeña: Menos recursos y módulos disponibles en comparación con Terraform.</td>\n",
              "  </tr>\n",
              "  <tr>\n",
              "    <td>Actualizaciones y Soporte</td>\n",
              "    <td>Actualizaciones frecuentes: HashiCorp lanza actualizaciones y nuevas características regularmente.</td>\n",
              "    <td>Actualizaciones dependientes de AWS: Las nuevas características y servicios de AWS se integran rápidamente.</td>\n",
              "  </tr>\n",
              "  <tr>\n",
              "    <td>Curva de Aprendizaje</td>\n",
              "    <td>Curva de aprendizaje moderada: HCL es fácil de aprender, pero la gestión del estado puede ser compleja.</td>\n",
              "    <td>Curva de aprendizaje empinada: JSON/YAML puede ser más difícil de manejar, pero la gestión del estado es más sencilla.</td>\n",
              "  </tr>\n",
              "  <tr>\n",
              "    <td>Coste</td>\n",
              "    <td>Gratuito: Terraform es de código abierto, pero puede haber costes asociados con el almacenamiento del estado.</td>\n",
              "    <td>Gratuito: CloudFormation es gratuito, pero se incurre en costes por los recursos de AWS utilizados.</td>\n",
              "  </tr>\n",
              "</table>\n",
              "```"
            ],
            "text/plain": [
              "<IPython.core.display.HTML object>"
            ]
          },
          "execution_count": 83,
          "metadata": {},
          "output_type": "execute_result"
        }
      ],
      "source": [
        "messages_idea2.append(\n",
        "{'role':'user', 'content':\"\"\"\n",
        "Cuales son las ventajas y desventajas entre Terraform y CloudFormation\n",
        "Dame tu respuesta en una tabla en codigo HTML\n",
        "\"\"\"})\n",
        "response = get_completion(messages_idea2)\n",
        "HTML(response)"
      ]
    },
    {
      "cell_type": "code",
      "execution_count": 94,
      "metadata": {
        "colab": {
          "base_uri": "https://localhost:8080/",
          "height": 193
        },
        "id": "-vSeOo0JXgL4",
        "outputId": "a037b1ae-75ad-43d8-b452-a6af8290700e"
      },
      "outputs": [
        {
          "data": {
            "text/html": [
              "<!DOCTYPE html>\n",
              "<html lang=\"es\">\n",
              "<head>\n",
              "    <meta charset=\"UTF-8\">\n",
              "    <title>Conclusion Automatica Generada por el Modelo gpt-3.5-turbo-16k de OpenAI</title>\n",
              "</head>\n",
              "<body>\n",
              "    <h1>Conclusion Automatica Generada por el Modelo gpt-3.5-turbo-16k de OpenAI</h1>\n",
              "    <p>\n",
              "        A lo largo de esta actividad, hemos explorado diversas estrategias para mejorar la calidad de los productos y servicios del Instituto Gemológico de América (GIA) mediante el uso de tecnologías avanzadas como la inteligencia artificial, el aprendizaje automático y el procesamiento computarizado de imágenes. Hemos identificado soluciones específicas para la identificación y categorización de diamantes, incluyendo la implementación de sistemas de reconocimiento de imágenes y la integración de sistemas de gestión de datos en la nube. Además, hemos comparado diferentes modelos de redes neuronales y proveedores de servicios en la nube, y hemos proporcionado ejemplos de código en Terraform y CloudFormation. Este ejercicio ha demostrado la importancia de la modernización tecnológica y la digitalización para mantener la competitividad en un mercado en constante evolución. La adopción de estas tecnologías puede reducir costos, mejorar la eficiencia y abrir nuevas oportunidades de mercado para GIA.\n",
              "    </p>\n",
              "    <p>Total de Palabras: 150</p>\n",
              "</body>\n",
              "</html>"
            ],
            "text/plain": [
              "<IPython.core.display.HTML object>"
            ]
          },
          "execution_count": 94,
          "metadata": {},
          "output_type": "execute_result"
        }
      ],
      "source": [
        "final_message = messages_idea1.copy()\n",
        "final_message.extend(messages_idea2)\n",
        "final_message.append(\n",
        "{'role':'user',\n",
        " 'content':\"\"\"\n",
        "Basado en todo los que hemos hecho hasta ahora dame una conclucion sobre el tema y lo que aprendiste en esta actividad\n",
        "El texto debe tener no mas de 150 palabras y no menos de 120\n",
        "Provee tu respuesta en formato HTML para facilitar su lectura\n",
        "Utiliza como titulo 'Conclusion Automatica Generada por el Modelo gpt-3.5-turbo-16k de OpenAI'\n",
        "Dame el numero total de palabra utilizado al final de la respuesta como 'Total de Palabras:'\n",
        "\"\"\"})\n",
        "response = get_completion(final_message)\n",
        "HTML(response)"
      ]
    },
    {
      "cell_type": "code",
      "execution_count": 97,
      "metadata": {
        "colab": {
          "base_uri": "https://localhost:8080/",
          "height": 193
        },
        "id": "Wuu-cqPpZ8kk",
        "outputId": "9707dcdd-1866-4615-f780-4c6372b67a73"
      },
      "outputs": [
        {
          "data": {
            "text/html": [
              "```html\n",
              "<h3 style=\"color: purple;\">Conclusion Automatica Generada por el Modelo gpt-3.5-turbo-16k de OpenAI</h3>\n",
              "<p style=\"color: purple;\">\n",
              "En esta actividad, hemos explorado diversas técnicas y herramientas para mejorar la calidad de los productos y servicios del Instituto Gemológico de América (GIA). Desde la implementación de sistemas de reconocimiento de imágenes basados en IA hasta la integración de sistemas de gestión de datos en la nube, hemos identificado soluciones que pueden modernizar y optimizar los procesos de la empresa. También hemos comparado modelos de reconocimiento de imágenes y discutido las ventajas y desventajas de herramientas de infraestructura como Terraform y CloudFormation. Este ejercicio ha demostrado la importancia de la digitalización y la automatización en la industria de la gemología, y cómo estas tecnologías pueden ayudar a GIA a mantenerse competitivo en un mercado en rápida evolución.\n",
              "</p>\n",
              "<p style=\"color: purple;\">Total de Palabras: 130</p>\n",
              "```"
            ],
            "text/plain": [
              "<IPython.core.display.HTML object>"
            ]
          },
          "execution_count": 97,
          "metadata": {},
          "output_type": "execute_result"
        }
      ],
      "source": [
        "final_message.append(\n",
        "{'role':'user',\n",
        " 'content':\"\"\"\n",
        "reduce el tamaño del titulo\n",
        "y cambia el color de la fuente de todo el texto a purpura\n",
        "\"\"\"})\n",
        "response = get_completion(final_message)\n",
        "HTML(response)"
      ]
    },
    {
      "cell_type": "code",
      "execution_count": null,
      "metadata": {
        "id": "MaB1cTMNFRCc"
      },
      "outputs": [],
      "source": []
    },
    {
      "cell_type": "markdown",
      "metadata": {
        "id": "WsjALxN1bJVQ"
      },
      "source": [
        "\n",
        "Incluye tus conclusiones finales de la actividad."
      ]
    },
    {
      "cell_type": "markdown",
      "metadata": {
        "id": "dtCK-FS6bfD2"
      },
      "source": [
        "### CONCLUSIONES FINALES DE LA ACTIVIDAD ###\n",
        "\n",
        "A través de esta actividad, pudimos reforzar los conocimientos adquiridos durante las clases activas, las sesiones grabadas y las lecturas de las bibliografías asignadas y recomendadas durante este tercer módulo. En particular, esta actividad nos mostró el poder de los modelos LLM, los cuales resultan extremadamente fascinantes y desafiantes. También nos impresionó la velocidad con la que estos modelos han sido desarrollados y el vasto número de modelos y opciones disponibles.\n",
        "\n",
        "Desde el punto de vista del uso de estos modelos a nivel profesional, quedó claro que estas tecnologías son herramientas imprescindibles en nuestro arsenal. Con ellas, se puede alcanzar niveles de productividad inimaginables. Por ejemplo, desarrollar un prototipo de aplicación móvil en el que el modelo genere el código fuente y proporcione los pasos necesarios para personalizarlo e implementarlo en un dispositivo. O, como vimos en este ejercicio, utilizar modelos para establecer una tormenta de ideas, donde si bien algunas respuestas proporsionadas por modelo fueron triviales o  evidentes,  otras fueron extremadamente innovadoras, como el uso de tecnologías biométricas para identificar diamantes.\n",
        "\n",
        "Por otro lado, consideramos que el impacto de los modelos generativos y los LLM será mucho más profundo que la introducción de la computadora personal (PC) e incluso que la Internet. Si bien el PC y la Internet fueron catalizadores y elementos de transformación global, los modelos generativos van a generar una hiper-transformación que impactará a todas las personas, empresas y gobiernos en todos los rincones del planeta en tiempo record.\n",
        "\n",
        "Sin intentar convertir esta conclusión técnica en una conclusión filosófica, considermos que la magnitud y la velocidad de los cambios tecnológicos que se avecinan a raíz de estos avances son monumentales.\n",
        "\n",
        "Consideramos ademas, que será de extrema importancia que las empresas, los gobiernos y las organizaciones pertinentes definan los marcos legales y éticos necesarios para asegurar la utilización de estas poderosas tecnologías para el bienestar y el mejoramiento del individuo, la comunidad y el planeta."
      ]
    }
  ],
  "metadata": {
    "colab": {
      "provenance": []
    },
    "kernelspec": {
      "display_name": "Python 3",
      "name": "python3"
    },
    "language_info": {
      "name": "python"
    }
  },
  "nbformat": 4,
  "nbformat_minor": 0
}
