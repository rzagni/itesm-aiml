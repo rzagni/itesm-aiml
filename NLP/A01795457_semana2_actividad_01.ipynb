{
  "nbformat": 4,
  "nbformat_minor": 0,
  "metadata": {
    "colab": {
      "provenance": [],
      "collapsed_sections": [
        "70StdqAZa9E9"
      ]
    },
    "kernelspec": {
      "name": "python3",
      "display_name": "Python 3"
    },
    "language_info": {
      "name": "python"
    }
  },
  "cells": [
    {
      "cell_type": "markdown",
      "source": [
        "#**Maestría en Inteligencia Artificial Aplicada**\n",
        "##**Curso: Procesamiento de Lenguaje Natural (NLP)**\n",
        "###Tecnológico de Monterrey\n",
        "###Prof Luis Eduardo Falcón Morales\n",
        "\n",
        "## **Adtividad de la Semana 02**\n",
        "###**Introducción al procesamiento de texto.**"
      ],
      "metadata": {
        "id": "759SG4TyfbUn"
      }
    },
    {
      "cell_type": "markdown",
      "source": [
        "En esta actividad deberás utilizar los datos del siguiente archivo que se encuentra en Canvas:\n",
        "\n",
        "MNA_NLP_semana_02_Actividad_datos.txt\n",
        "\n",
        "El archivo contiene comentarios en inglés sobre servicios de comida de la página de Yelp: https://www.yelp.com/ .\n",
        "\n",
        "Son mil comentarios y forman parte del conjunto de datos que se encuentra en el Machine Learning Repository de la UCI, llamado \"Sentiment Labelled Sentences\": https://archive.ics.uci.edu/ml/datasets/Sentiment+Labelled+Sentences#\n"
      ],
      "metadata": {
        "id": "6ue1YAKx3XDo"
      }
    },
    {
      "cell_type": "markdown",
      "source": [
        "#**Parte 1. Cargamos los datos.**   "
      ],
      "metadata": {
        "id": "Zj-h4drXD-X9"
      }
    },
    {
      "cell_type": "markdown",
      "source": [
        "Cargar los datos del archivo indicado y obtener una lista de longitud de 1000 strings/comentarios.\n",
        "\n",
        "Por el momento solamente requerimos las bibliotecas de Numpy y re, para el manejo de los arreglos y de las expresiones regulares en Python.\n",
        "\n",
        "En particular, no necesitarás en esta actividad la biblioteca de Pandas.\n",
        "\n",
        "###**NOTA: En esta actividad no debes importar nada más, con estas dos bibliotecas será *suficiente*.**"
      ],
      "metadata": {
        "id": "BY6yifxscfrx"
      }
    },
    {
      "cell_type": "code",
      "source": [
        "import numpy as np    # importamos Numpy para el manejo de los arreglos.\n",
        "import re             # importamos re para el manejo de las expresiones regulares."
      ],
      "metadata": {
        "id": "OJ26dAfhdFnf"
      },
      "execution_count": 1,
      "outputs": []
    },
    {
      "cell_type": "code",
      "source": [
        "# Ejecuta las siguientes instrucciones para cargar la información del achivo dado:\n",
        "\n",
        "with open('MNA_NLP_semana_02_Actividad_datos.txt',        # puedes actualizar la ruta a tu archivo, en dado caso.\n",
        "          mode='r',     # abrimos el archivo en modo lectura.\n",
        "          ) as f:\n",
        "    docs = f.readlines()    # separamos cada comentario por líneas\n",
        "\n",
        "f.close()  # ya que tenemos la información en la variable docs, cerramos el archivo"
      ],
      "metadata": {
        "id": "QHUmJyjDdGNP"
      },
      "execution_count": 2,
      "outputs": []
    },
    {
      "cell_type": "code",
      "source": [
        "type(docs) == list   # Verifica que tu variable \"docs\" es una lista"
      ],
      "metadata": {
        "id": "L6WzrSrodG-Y",
        "colab": {
          "base_uri": "https://localhost:8080/"
        },
        "outputId": "f5176f55-374b-427e-e9bc-82b9bc8bdfd0"
      },
      "execution_count": 3,
      "outputs": [
        {
          "output_type": "execute_result",
          "data": {
            "text/plain": [
              "True"
            ]
          },
          "metadata": {},
          "execution_count": 3
        }
      ]
    },
    {
      "cell_type": "code",
      "source": [
        "len(docs)==1000  # verifica que la longitud de \"docs\" es de mil comentarios."
      ],
      "metadata": {
        "id": "QIK1u9WS2FtS",
        "colab": {
          "base_uri": "https://localhost:8080/"
        },
        "outputId": "c1cb389f-bec3-4778-fc0d-c660849b07a6"
      },
      "execution_count": 4,
      "outputs": [
        {
          "output_type": "execute_result",
          "data": {
            "text/plain": [
              "True"
            ]
          },
          "metadata": {},
          "execution_count": 4
        }
      ]
    },
    {
      "cell_type": "code",
      "source": [
        "docs[0:10]     # observa algunos de los primeros comentarios"
      ],
      "metadata": {
        "id": "9AMLIfQvJqNZ",
        "colab": {
          "base_uri": "https://localhost:8080/"
        },
        "outputId": "6fe51b5d-d388-413c-e43e-df936896b6ad"
      },
      "execution_count": 5,
      "outputs": [
        {
          "output_type": "execute_result",
          "data": {
            "text/plain": [
              "['Wow... Loved this place.\\n',\n",
              " 'Crust is not good.\\n',\n",
              " 'Not tasty and the texture was just nasty.\\n',\n",
              " 'Stopped by during the late May bank holiday off Rick Steve recommendation and loved it.\\n',\n",
              " 'The selection on the menu was great and so were the prices.\\n',\n",
              " 'Now I am getting angry and I want my damn pho.\\n',\n",
              " \"Honeslty it didn't taste THAT fresh.)\\n\",\n",
              " 'The potatoes were like rubber and you could tell they had been made up ahead of time being kept under a warmer.\\n',\n",
              " 'The fries were great too.\\n',\n",
              " 'A great touch.\\n']"
            ]
          },
          "metadata": {},
          "execution_count": 5
        }
      ]
    },
    {
      "cell_type": "markdown",
      "source": [
        "#**Parte 2: sección de preguntas (regex).**   \n"
      ],
      "metadata": {
        "id": "k_ewoagic5jc"
      }
    },
    {
      "cell_type": "markdown",
      "source": [
        "##**Instrucciones:**\n",
        "\n",
        "###**A continuación deberás contestar cada una de las preguntas que te piden usando expresiones regulares (regex).**\n",
        "\n",
        "###**Por el momento no hay restricción en cuanto al número de líneas de código que agregues, pero trata de incluir las mínimas posibles.**"
      ],
      "metadata": {
        "id": "X-eMJa3DFCIV"
      }
    },
    {
      "cell_type": "markdown",
      "source": [
        "*   **Pregunta 1.**\n",
        "\n",
        "Busca y elimina todos los saltos de línea '\\n' que se encuentran al final de cada comentario.\n",
        "\n",
        "Una vez finalizado, imprime los primeros 10 comentarios del resultado obtenido.\n"
      ],
      "metadata": {
        "id": "78nJMemzn5a5"
      }
    },
    {
      "cell_type": "code",
      "source": [
        "for idx, txt in enumerate(docs):\n",
        "  docs[idx] = re.sub('\\n', '', docs[idx])"
      ],
      "metadata": {
        "id": "PwbYYIuZn8pE"
      },
      "execution_count": 6,
      "outputs": []
    },
    {
      "cell_type": "code",
      "source": [
        "docs[0:10]"
      ],
      "metadata": {
        "id": "j-0qeh2Jn8l1",
        "colab": {
          "base_uri": "https://localhost:8080/"
        },
        "outputId": "695691c9-cc25-4e3c-cf3d-15c23ffae551"
      },
      "execution_count": 7,
      "outputs": [
        {
          "output_type": "execute_result",
          "data": {
            "text/plain": [
              "['Wow... Loved this place.',\n",
              " 'Crust is not good.',\n",
              " 'Not tasty and the texture was just nasty.',\n",
              " 'Stopped by during the late May bank holiday off Rick Steve recommendation and loved it.',\n",
              " 'The selection on the menu was great and so were the prices.',\n",
              " 'Now I am getting angry and I want my damn pho.',\n",
              " \"Honeslty it didn't taste THAT fresh.)\",\n",
              " 'The potatoes were like rubber and you could tell they had been made up ahead of time being kept under a warmer.',\n",
              " 'The fries were great too.',\n",
              " 'A great touch.']"
            ]
          },
          "metadata": {},
          "execution_count": 7
        }
      ]
    },
    {
      "cell_type": "markdown",
      "source": [
        "*   **Pregunta 2.**  \n",
        "\n",
        "Busca e imprime todas las palabras que terminan con dos o más signos de admiración seguidos, por ejemplo \"!!!\".\n",
        "\n",
        "Debes imprimir tanto la palabra como la totalidad de signos de admiración que le siguen.\n",
        "\n",
        "Indica cuántos resultados obtuviste.\n",
        "\n"
      ],
      "metadata": {
        "id": "VWeKQC93ctEo"
      }
    },
    {
      "cell_type": "code",
      "source": [
        "# Nota: Se buscara palabras terminadas estrictamente con 2 o mas signos de admiracion\n",
        "# Se hace esta salvedad ya que durante el analisis se encontro la palabra \"gem\" que esta\n",
        "# terminada con un espacio en blanco seguida por 3 signos de admiracion. Esta ocurrencia no\n",
        "# fue incluida en el codigo. Si se desea extender el codigo para incluir este caso se debera\n",
        "# modificar la expresion regular para incluir el espacio en blanco como se muestra a continuacion\n",
        "# re.findall(r'\\w+ ?!{2,}', onedoc)\n",
        "onedoc = ''.join(docs)\n",
        "results = re.findall(r'[A-Za-z]+!{2,}', onedoc)\n",
        "print(\"Numero de resultados obtenidos: \" + str(len(results)) + \"\\n\")\n",
        "print(\"Palabras encontradas seguidas de mas de dos signos de exclamacion:\")\n",
        "print(\"=================================================================\")\n",
        "for w in results:\n",
        "  print(w)"
      ],
      "metadata": {
        "colab": {
          "base_uri": "https://localhost:8080/"
        },
        "id": "maSsP54qOleB",
        "outputId": "02fb32b7-8be3-4bd2-f25a-ef195c70a5d9"
      },
      "execution_count": 8,
      "outputs": [
        {
          "output_type": "stream",
          "name": "stdout",
          "text": [
            "Numero de resultados obtenidos: 26\n",
            "\n",
            "Palabras encontradas seguidas de mas de dos signos de exclamacion:\n",
            "=================================================================\n",
            "Firehouse!!!!!\n",
            "APPETIZERS!!!\n",
            "amazing!!!\n",
            "buffet!!!\n",
            "good!!\n",
            "it!!!!\n",
            "DELICIOUS!!\n",
            "amazing!!\n",
            "shawarrrrrrma!!!!!!\n",
            "yucky!!!\n",
            "steak!!!!!\n",
            "delicious!!!\n",
            "far!!\n",
            "biscuits!!!\n",
            "dry!!\n",
            "disappointing!!!\n",
            "awesome!!\n",
            "Up!!\n",
            "FLY!!!!!!!!\n",
            "here!!!\n",
            "great!!!!!!!!!!!!!!\n",
            "packed!!\n",
            "otherwise!!\n",
            "amazing!!!!!!!!!!!!!!!!!!!\n",
            "style!!\n",
            "disappointed!!\n"
          ]
        }
      ]
    },
    {
      "cell_type": "markdown",
      "source": [
        "*   **Pregunta 3.**  \n",
        "\n",
        "Busca e imprime todas las palabras que están escritas totalmente en mayúsculas. Cada coincidencia debe ser una sola palabra.\n",
        "\n",
        "Indica cuántas palabras encontraste.\n",
        "\n"
      ],
      "metadata": {
        "id": "-s3okBqL96TT"
      }
    },
    {
      "cell_type": "code",
      "source": [
        "results = re.findall(r'\\b(?:[A-Z]{2,}|A|I)\\b', onedoc)\n",
        "# Presentamos el numero total de ocurrencias incluyen palabras que ocurren mas\n",
        "# de una vez. Se se require contar las ocurrencias unicas se debera cambiar el\n",
        "# codigo siguente a\n",
        "# print(\"Numero de resultados obtenidos: \" + str(len(set(results))) + \"\\n\")\n",
        "print(\"Numero de resultados obtenidos: \" + str(len(results)) + \"\\n\")\n",
        "# Como el numero de ocurrencias es alto, la lista a continuacion muestra una\n",
        "# occurencia de la palabra independiente de si esta palabra aparezca mas de una\n",
        "# vez. Si se require ver la totalidad de los datos cambiar la linea de codigo de\n",
        "# la instruccion for por la siguiente\n",
        "# for w in results:\n",
        "print(\"Set de palabras en mayuscula:\")\n",
        "print(\"============================\")\n",
        "for w in set(results):\n",
        "  print(w)"
      ],
      "metadata": {
        "id": "yKHJkZKo_nW5",
        "colab": {
          "base_uri": "https://localhost:8080/"
        },
        "outputId": "a2c89a65-23b9-446e-cd73-8530d1f12f76"
      },
      "execution_count": 9,
      "outputs": [
        {
          "output_type": "stream",
          "name": "stdout",
          "text": [
            "Numero de resultados obtenidos: 452\n",
            "\n",
            "Set de palabras en mayuscula:\n",
            "============================\n",
            "BBQ\n",
            "BARE\n",
            "A\n",
            "RI\n",
            "BLAND\n",
            "OK\n",
            "TV\n",
            "EXPERIENCE\n",
            "GO\n",
            "HOUR\n",
            "BACK\n",
            "FS\n",
            "HANDS\n",
            "HAVE\n",
            "APPETIZERS\n",
            "NASTY\n",
            "THAT\n",
            "FORWARD\n",
            "HAPPENED\n",
            "AZ\n",
            "AND\n",
            "PERFECT\n",
            "VERY\n",
            "WORST\n",
            "SHOULD\n",
            "FLAVOR\n",
            "SCREAMS\n",
            "ALL\n",
            "GC\n",
            "WILL\n",
            "NOW\n",
            "FLY\n",
            "LEGIT\n",
            "STALE\n",
            "EVER\n",
            "REAL\n",
            "RUDE\n",
            "INCONSIDERATE\n",
            "WHAT\n",
            "OVERPRICED\n",
            "GREAT\n",
            "IT\n",
            "PEOPLE\n",
            "BETTER\n",
            "THIS\n",
            "NEVER\n",
            "ESTABLISHMENT\n",
            "UNREAL\n",
            "NYC\n",
            "IN\n",
            "THE\n",
            "DELICIOUS\n",
            "NOT\n",
            "BARGAIN\n",
            "NONE\n",
            "WEAK\n",
            "AN\n",
            "MANAGEMENT\n",
            "TOTAL\n",
            "OWNERS\n",
            "WAY\n",
            "NO\n",
            "MUST\n",
            "AGAIN\n",
            "LOVED\n",
            "WASTE\n",
            "TOLD\n",
            "CONCLUSION\n",
            "I\n",
            "REALLY\n",
            "AYCE\n",
            "MANY\n",
            "OF\n",
            "MGM\n",
            "STEP\n",
            "TIME\n",
            "BEST\n",
            "OMG\n",
            "AVOID\n",
            "HAD\n",
            "FREEZING\n",
            "FANTASTIC\n",
            "BITCHES\n"
          ]
        }
      ]
    },
    {
      "cell_type": "markdown",
      "source": [
        "*   **Pregunta 4.**  \n",
        "\n",
        "Busca e imprime los comentarios en donde todos los caracteres alfabéticos (letras) están en mayúsculas.\n",
        "\n",
        "Cada coincidencia encontrada debe ser todo el comentario/enunciado.\n",
        "\n",
        "Indica cuántos resultados obtuviste.\n"
      ],
      "metadata": {
        "id": "GX8eYyDoMZma"
      }
    },
    {
      "cell_type": "code",
      "source": [
        "results = []\n",
        "for l in  docs:\n",
        "  if len(re.findall(r'^[A-Z \\W]+$',l)) > 0:\n",
        "    results.append(l)\n",
        "print(\"Numero de enunciados obtenidos: \" + str(len(results)) + \"\\n\")\n",
        "print(\"Comentarios con todos los caracteres alfabeticos en mayusculas:\")\n",
        "print(\"========+=====================================================\")\n",
        "for w in results:\n",
        "  print(w)"
      ],
      "metadata": {
        "colab": {
          "base_uri": "https://localhost:8080/"
        },
        "id": "fhiU01L-wRxY",
        "outputId": "cd8580f5-8899-480a-8c7f-c3d2c6106316"
      },
      "execution_count": 10,
      "outputs": [
        {
          "output_type": "stream",
          "name": "stdout",
          "text": [
            "Numero de enunciados obtenidos: 5\n",
            "\n",
            "Comentarios con todos los caracteres alfabeticos en mayusculas:\n",
            "========+=====================================================\n",
            "DELICIOUS!!\n",
            "RUDE & INCONSIDERATE MANAGEMENT.\n",
            "WILL NEVER EVER GO BACK AND HAVE TOLD MANY PEOPLE WHAT HAD HAPPENED.\n",
            "TOTAL WASTE OF TIME.\n",
            "AVOID THIS ESTABLISHMENT!\n"
          ]
        }
      ]
    },
    {
      "cell_type": "markdown",
      "source": [
        "*   **Pregunta 5.**  \n",
        "\n",
        "Busca e imprime todas las palabras que tengan una vocal acentuada, del tipo á, é, í, ó, ú.\n",
        "\n",
        "Indica cuántos resultados obtuviste."
      ],
      "metadata": {
        "id": "a1i6qv7-McmU"
      }
    },
    {
      "cell_type": "code",
      "source": [
        "results = re.findall(r'\\b[A-Za-z]*[áéíóú][A-Za-z]*\\b', onedoc)\n",
        "print(\"Numero de palabras con vocal accentuada: \" + str(len(results)) + \"\\n\")\n",
        "print(\"Lista de palabras con vocal accentuada:\")\n",
        "print(\"======================================\")\n",
        "for w in results:\n",
        "  print(w)"
      ],
      "metadata": {
        "id": "nZZ5zKUOMeGD",
        "colab": {
          "base_uri": "https://localhost:8080/"
        },
        "outputId": "8470c5a6-a2f1-4fb8-e629-bcf4f43aacbd"
      },
      "execution_count": 11,
      "outputs": [
        {
          "output_type": "stream",
          "name": "stdout",
          "text": [
            "Numero de palabras con vocal accentuada: 3\n",
            "\n",
            "Lista de palabras con vocal accentuada:\n",
            "======================================\n",
            "fiancé\n",
            "Café\n",
            "puréed\n"
          ]
        }
      ]
    },
    {
      "cell_type": "markdown",
      "source": [
        "*   **Pregunta 6.**  \n",
        "\n",
        "Busca e imprime todas las cantidades numéricas monetarias, enteras o con decimales, que inician con el símbolo $\\$$.\n",
        "\n",
        "Indica cuántos resultados obtuviste."
      ],
      "metadata": {
        "id": "ZmPiAI82Mfb3"
      }
    },
    {
      "cell_type": "code",
      "source": [
        "results = re.findall(r'\\$\\d*\\.{0,1}\\d{1,2}', onedoc )\n",
        "print(\"Numero de cantidades monetarias: \" + str(len(results)) + \"\\n\")\n",
        "print(\"Lista de cantidades monetarias:\")\n",
        "print(\"==============================\")\n",
        "for w in results:\n",
        "  print(w)"
      ],
      "metadata": {
        "id": "6vhe9-Y-MhL9",
        "colab": {
          "base_uri": "https://localhost:8080/"
        },
        "outputId": "51daa1bd-e9af-409f-d041-280f0581fb14"
      },
      "execution_count": 12,
      "outputs": [
        {
          "output_type": "stream",
          "name": "stdout",
          "text": [
            "Numero de cantidades monetarias: 8\n",
            "\n",
            "Lista de cantidades monetarias:\n",
            "==============================\n",
            "$20\n",
            "$4.00\n",
            "$17\n",
            "$3\n",
            "$35\n",
            "$7.85\n",
            "$12\n",
            "$11.99\n"
          ]
        }
      ]
    },
    {
      "cell_type": "markdown",
      "source": [
        "*   **Pregunta 7.**  \n",
        "\n",
        "Busca e imprime todas las palabras que sean variantes de la palabra \"love\", sin importar si incluyen mayúsculas o minúsculas, o la manera en que esté conjugada o alguna otra variación que se haga con dicha palabra.\n",
        "\n",
        "Indica cuántos resultados obtuviste."
      ],
      "metadata": {
        "id": "2j-HpvhwMhq2"
      }
    },
    {
      "cell_type": "code",
      "source": [
        "#results = re.findall(r'[A-Za-z]*[lL][oO][vV][eE][A-Za-z]*', onedoc )\n",
        "results = re.findall(r'[a-z]*[l][o][v][e][a-z]*', onedoc , re.IGNORECASE)\n",
        "print('Numero total de palabras variantes de la palabra \"love\": ' + str(len(results)) + '\\n')\n",
        "# La lista a continuacion muestra una occurencia de la palabra\n",
        "# independiente de si esta palabra aparezca mas de una vez\n",
        "print('Lista de palabras encontradas variantes de la palabra \"love\":')\n",
        "print(\"===========================================++++++++++=======\")\n",
        "for w in results:\n",
        "  print(w)"
      ],
      "metadata": {
        "id": "kqqyRChVMjol",
        "colab": {
          "base_uri": "https://localhost:8080/"
        },
        "outputId": "9ddbb4c2-bdce-4421-9649-660b783dbf2a"
      },
      "execution_count": 13,
      "outputs": [
        {
          "output_type": "stream",
          "name": "stdout",
          "text": [
            "Numero total de palabras variantes de la palabra \"love\": 36\n",
            "\n",
            "Lista de palabras encontradas variantes de la palabra \"love\":\n",
            "===========================================++++++++++=======\n",
            "Loved\n",
            "loved\n",
            "Loved\n",
            "love\n",
            "loves\n",
            "LOVED\n",
            "lovers\n",
            "love\n",
            "lovers\n",
            "Love\n",
            "loved\n",
            "loved\n",
            "love\n",
            "love\n",
            "love\n",
            "loved\n",
            "love\n",
            "loved\n",
            "Love\n",
            "LOVED\n",
            "love\n",
            "lovely\n",
            "love\n",
            "lovely\n",
            "love\n",
            "lover\n",
            "loved\n",
            "love\n",
            "love\n",
            "love\n",
            "love\n",
            "gloves\n",
            "love\n",
            "love\n",
            "love\n",
            "love\n"
          ]
        }
      ]
    },
    {
      "cell_type": "markdown",
      "source": [
        "*   **Pregunta 8.**  \n",
        "\n",
        "Busca e imprime todas las palabras, variantes de \"so\" y \"good\", que tengan dos o más \"o\" en \"so\" y 3 o más \"o\" en good.\n",
        "\n",
        "Indica cuántas encontraste.\n"
      ],
      "metadata": {
        "id": "Ctb-NTY3MkYG"
      }
    },
    {
      "cell_type": "code",
      "source": [
        "results = re.findall(r'\\b(so{2,}|go{3,}d)', onedoc, re.IGNORECASE)\n",
        "print('Numero de variantes encontradas: ' + str(len(results)) + '\\n')\n",
        "\n",
        "print(\"Todas la Variantes encontradas:\")\n",
        "print(\"==============================\")\n",
        "for w in results:\n",
        "  print(w)"
      ],
      "metadata": {
        "id": "A8Nf3B_cMlqg",
        "colab": {
          "base_uri": "https://localhost:8080/"
        },
        "outputId": "7740c20f-8a00-4032-b158-dab7428ff838"
      },
      "execution_count": 14,
      "outputs": [
        {
          "output_type": "stream",
          "name": "stdout",
          "text": [
            "Numero de variantes encontradas: 14\n",
            "\n",
            "Todas la Variantes encontradas:\n",
            "==============================\n",
            "Sooooo\n",
            "soo\n",
            "soooo\n",
            "soo\n",
            "soo\n",
            "goood\n",
            "soo\n",
            "soo\n",
            "soooooo\n",
            "soo\n",
            "soo\n",
            "soooo\n",
            "soo\n",
            "soo\n"
          ]
        }
      ]
    },
    {
      "cell_type": "markdown",
      "source": [
        "*   **Pregunta 9.**  \n",
        "\n",
        "Busca e imprime todas las palabras que tengan una longitud mayor estrictamente a 10 caracteres alfabéticos.\n",
        "\n",
        "No se consideran los signos de puntuación o caracteres especiales en la longitud de estas cadenas, solo caracteres alfabéticos en mayúsculas o minúsculas.\n",
        "\n",
        "Indica la cantidad de palabras encontradas.\n"
      ],
      "metadata": {
        "id": "hkak1opjMmlk"
      }
    },
    {
      "cell_type": "code",
      "source": [
        "# Buscamos palabras con numero de caracteres > 10\n",
        "results = re.findall(r'\\b[a-záéíóú]{11,}\\b',onedoc, re.IGNORECASE)\n",
        "print(\"Numero de palabras palabras encontradas: \" + str(len(results)) + '\\n')\n",
        "print(\"Lista palabras encontradas:\")\n",
        "print(\"===========================\")\n",
        "for w in results:\n",
        "  print(w)"
      ],
      "metadata": {
        "id": "PYxdp3uhMoD0",
        "colab": {
          "base_uri": "https://localhost:8080/"
        },
        "outputId": "7d97c0db-20c3-494f-943c-986ab60a7879"
      },
      "execution_count": 15,
      "outputs": [
        {
          "output_type": "stream",
          "name": "stdout",
          "text": [
            "Numero de palabras palabras encontradas: 141\n",
            "\n",
            "Lista palabras encontradas:\n",
            "===========================\n",
            "recommendation\n",
            "recommended\n",
            "overwhelmed\n",
            "inexpensive\n",
            "establishment\n",
            "imaginative\n",
            "opportunity\n",
            "experiencing\n",
            "underwhelming\n",
            "relationship\n",
            "unsatisfying\n",
            "disappointing\n",
            "outrageously\n",
            "disappointing\n",
            "expectations\n",
            "restaurants\n",
            "suggestions\n",
            "disappointed\n",
            "considering\n",
            "Unfortunately\n",
            "immediately\n",
            "ingredients\n",
            "accommodations\n",
            "maintaining\n",
            "Interesting\n",
            "disrespected\n",
            "accordingly\n",
            "unbelievable\n",
            "cheeseburger\n",
            "descriptions\n",
            "inexpensive\n",
            "disappointed\n",
            "Veggitarian\n",
            "outstanding\n",
            "recommendation\n",
            "disappointed\n",
            "disappointed\n",
            "neighborhood\n",
            "disappointed\n",
            "corporation\n",
            "considering\n",
            "exceptional\n",
            "shawarrrrrrma\n",
            "disappointed\n",
            "vinaigrette\n",
            "immediately\n",
            "unbelievably\n",
            "replenished\n",
            "disappointed\n",
            "enthusiastic\n",
            "Outstanding\n",
            "comfortable\n",
            "interesting\n",
            "INCONSIDERATE\n",
            "considering\n",
            "transcendant\n",
            "disappointment\n",
            "disappointed\n",
            "disappointed\n",
            "overwhelmed\n",
            "professional\n",
            "Furthermore\n",
            "combination\n",
            "connoisseur\n",
            "profiterole\n",
            "outstanding\n",
            "acknowledged\n",
            "ventilation\n",
            "beautifully\n",
            "establishment\n",
            "extraordinary\n",
            "disappointed\n",
            "cheesecurds\n",
            "disappointed\n",
            "interesting\n",
            "experienced\n",
            "opportunity\n",
            "disgraceful\n",
            "restaurants\n",
            "ESTABLISHMENT\n",
            "recommended\n",
            "disappointed\n",
            "recommended\n",
            "acknowledged\n",
            "presentation\n",
            "Philadelphia\n",
            "disappointed\n",
            "disappointing\n",
            "grandmother\n",
            "drastically\n",
            "informative\n",
            "Disappointed\n",
            "constructed\n",
            "comfortable\n",
            "Smashburger\n",
            "cheeseburger\n",
            "neighborhood\n",
            "disappointed\n",
            "hospitality\n",
            "recommending\n",
            "disappointed\n",
            "deliciously\n",
            "compliments\n",
            "recommendation\n",
            "establishment\n",
            "calligraphy\n",
            "traditional\n",
            "combination\n",
            "Unfortunately\n",
            "Wienerschnitzel\n",
            "unfortunately\n",
            "considering\n",
            "highlighted\n",
            "Mediterranean\n",
            "unprofessional\n",
            "anticipated\n",
            "disappointing\n",
            "unexperienced\n",
            "disrespected\n",
            "professional\n",
            "restaurants\n",
            "Disappointing\n",
            "WAAAAAAyyyyyyyyyy\n",
            "reservation\n",
            "imagination\n",
            "undercooked\n",
            "disappointed\n",
            "disappointment\n",
            "disappointment\n",
            "deuchebaggery\n",
            "disappointed\n",
            "disappointment\n",
            "immediately\n",
            "Unfortunately\n",
            "disapppointment\n",
            "circumstances\n",
            "undercooked\n",
            "caterpillar\n",
            "presentation\n",
            "disappointed\n",
            "underwhelming\n"
          ]
        }
      ]
    },
    {
      "cell_type": "markdown",
      "source": [
        "*   **Pregunta 10.**  \n",
        "\n",
        "Busca e imprime todas las palabras que inician con una letra mayúscula y terminan con una minúscula, pero que además no sea la primera palabra del comentario/string.\n",
        "\n",
        "Indica la cantidad de resultados obtenidos."
      ],
      "metadata": {
        "id": "ApjTNzSxMpDc"
      }
    },
    {
      "cell_type": "code",
      "source": [
        "results = []\n",
        "for line in docs:\n",
        "  # Identificamos y elminamos caracteres no alfabeticos al inicio del comentario\n",
        "  temp_line = re.sub(r'^[^a-zA-Z]*', '', line)\n",
        "  # Procesamos para encontrar las palabras que inician con una letra mayúscula y\n",
        "  # terminan con una minúscula, pero que además no sea la primera palabra del comentario\n",
        "  results.extend(re.findall(r'(?<!^)\\b[A-Z][A-Za-z]*[a-z]\\b', temp_line ))\n",
        "print(\"Numero de palabras encontradas: \" + str(len(results)) + '\\n')\n",
        "print('Lista de palabras encontradas:')\n",
        "print(\"=============================\")\n",
        "for w in results:\n",
        "  print(w)\n"
      ],
      "metadata": {
        "colab": {
          "base_uri": "https://localhost:8080/"
        },
        "id": "Xuj25CnN0FFS",
        "outputId": "ee5b242e-279c-4375-f9eb-ecde194536dd"
      },
      "execution_count": 16,
      "outputs": [
        {
          "output_type": "stream",
          "name": "stdout",
          "text": [
            "Numero de palabras encontradas: 267\n",
            "\n",
            "Lista de palabras encontradas:\n",
            "=============================\n",
            "Loved\n",
            "May\n",
            "Rick\n",
            "Steve\n",
            "Cape\n",
            "Cod\n",
            "Vegas\n",
            "Burrittos\n",
            "Blah\n",
            "The\n",
            "Mexican\n",
            "Luke\n",
            "Our\n",
            "Hiro\n",
            "Firehouse\n",
            "Greek\n",
            "Greek\n",
            "Heart\n",
            "Attack\n",
            "Grill\n",
            "Vegas\n",
            "Dos\n",
            "Gringos\n",
            "Jeff\n",
            "Excalibur\n",
            "Very\n",
            "Bad\n",
            "Customer\n",
            "Service\n",
            "Vegas\n",
            "Rice\n",
            "Company\n",
            "Pho\n",
            "Hard\n",
            "Rock\n",
            "Casino\n",
            "Buffet\n",
            "Tigerlilly\n",
            "Yama\n",
            "Thai\n",
            "Indian\n",
            "Not\n",
            "Vegas\n",
            "Lox\n",
            "Subway\n",
            "Subway\n",
            "Vegas\n",
            "Vegas\n",
            "Mandalay\n",
            "Bay\n",
            "Great\n",
            "Voodoo\n",
            "Phoenix\n",
            "Vegas\n",
            "Khao\n",
            "Soi\n",
            "Lemon\n",
            "Joey\n",
            "Valley\n",
            "Phoenix\n",
            "Magazine\n",
            "Pho\n",
            "Fridays\n",
            "Tasty\n",
            "Jamaican\n",
            "Bisque\n",
            "Bussell\n",
            "Sprouts\n",
            "Risotto\n",
            "Filet\n",
            "Otto\n",
            "Yeah\n",
            "Honestly\n",
            "Not\n",
            "Also\n",
            "Vegas\n",
            "Greek\n",
            "Vegas\n",
            "Veggitarian\n",
            "Madison\n",
            "Ironman\n",
            "Jenni\n",
            "Pho\n",
            "Bachi\n",
            "Burger\n",
            "Pizza\n",
            "Salads\n",
            "They\n",
            "Yelpers\n",
            "Bachi\n",
            "Service\n",
            "English\n",
            "Pizza\n",
            "Hut\n",
            "Seat\n",
            "Gold\n",
            "Standard\n",
            "Thai\n",
            "Tucson\n",
            "Vegas\n",
            "Chipotle\n",
            "Baseball\n",
            "Gordon\n",
            "Ramsey\n",
            "Steak\n",
            "Vegas\n",
            "Outstanding\n",
            "Best\n",
            "Food\n",
            "Lobster\n",
            "Bisque\n",
            "Vegas\n",
            "Eggplant\n",
            "Green\n",
            "Bean\n",
            "Halibut\n",
            "Vegas\n",
            "Vegas\n",
            "Vegas\n",
            "Crystals\n",
            "Aria\n",
            "Ians\n",
            "Bouchon\n",
            "San\n",
            "Francisco\n",
            "Bay\n",
            "Area\n",
            "Buldogis\n",
            "Gourmet\n",
            "Hot\n",
            "Dog\n",
            "Steiners\n",
            "Carly\n",
            "Vegas\n",
            "Camelback\n",
            "Flower\n",
            "Shop\n",
            "Cartel\n",
            "Coffee\n",
            "Las\n",
            "Vegas\n",
            "Bunch\n",
            "Very\n",
            "Mom\n",
            "Noca\n",
            "Vegas\n",
            "Sat\n",
            "Sun\n",
            "Mexican\n",
            "Frenchman\n",
            "Perfect\n",
            "Vegas\n",
            "Palm\n",
            "Are\n",
            "This\n",
            "Thai\n",
            "Toast\n",
            "Thai\n",
            "Phoenix\n",
            "Crema\n",
            "Philadelphia\n",
            "North\n",
            "Scottsdale\n",
            "Bloody\n",
            "Mary\n",
            "Pho\n",
            "Caesar\n",
            "Macarons\n",
            "Experience\n",
            "Very\n",
            "Disappointed\n",
            "Big\n",
            "Bay\n",
            "Plater\n",
            "Italian\n",
            "Vegas\n",
            "Baba\n",
            "Ganoush\n",
            "Nobu\n",
            "Smashburger\n",
            "Panna\n",
            "Cotta\n",
            "Breeze\n",
            "Mango\n",
            "Magic\n",
            "Pineapple\n",
            "Delight\n",
            "The\n",
            "Strip\n",
            "Steak\n",
            "Paradise\n",
            "Valley\n",
            "Cibo\n",
            "Up\n",
            "Italian\n",
            "Pros\n",
            "Large\n",
            "Nice\n",
            "Great\n",
            "The\n",
            "Elk\n",
            "Filet\n",
            "Dylan\n",
            "All\n",
            "Han\n",
            "Nan\n",
            "Chicken\n",
            "Bar\n",
            "Edinburgh\n",
            "Chinese\n",
            "Indian\n",
            "Chinese\n",
            "Prices\n",
            "Phoenix\n",
            "Hot\n",
            "Sour\n",
            "Egg\n",
            "Flower\n",
            "Soups\n",
            "Stars\n",
            "Sunday\n",
            "Hunan\n",
            "The\n",
            "Pita\n",
            "Wienerschnitzel\n",
            "Maine\n",
            "Lobster\n",
            "Roll\n",
            "Kabuki\n",
            "Maria\n",
            "Caballero\n",
            "Wife\n",
            "Everything\n",
            "Strip\n",
            "Costco\n",
            "To\n",
            "Place\n",
            "Gyros\n",
            "Japanese\n",
            "Albondigas\n",
            "Mediterranean\n",
            "Chicken\n",
            "Salad\n",
            "Mellow\n",
            "Mushroom\n",
            "Thai\n",
            "Vegas\n",
            "Mmmm\n",
            "Buffet\n",
            "Bellagio\n",
            "Vegas\n",
            "Christmas\n",
            "Eve\n",
            "Denny\n",
            "Vegetarian\n",
            "Taco\n",
            "Heimer\n",
            "Ha\n",
            "Long\n",
            "Bay\n",
            "Subway\n",
            "When\n",
            "Brushfire\n",
            "Mirage\n",
            "In\n",
            "Ninja\n",
            "Sushi\n"
          ]
        }
      ]
    },
    {
      "cell_type": "markdown",
      "source": [
        "*   **Pregunta 11.**  \n",
        "\n",
        "Busca e imprime la secuencia de dos o más palabras que están separadas por un guion, \"-\", sin que tengan espacios en blanco entre ellas.\n",
        "\n",
        "Por ejemplo \"Go-Kart\" sería válido, pero \"Go  -Kart\" o \"Go  -  Kart\" no lo serían.\n",
        "\n",
        "Indica la cantidad de resultados obtenidos."
      ],
      "metadata": {
        "id": "u7nfm4KhMrNW"
      }
    },
    {
      "cell_type": "code",
      "source": [
        "results = re.findall(r'\\b\\w+(?:-\\w+)+\\b', onedoc)\n",
        "print(\"Numero de secuencias encontradas: \" + str(len(results)) + '\\n')\n",
        "print('Lista de secuencias encontradas:')\n",
        "print(\"===============================\")\n",
        "for w in results:\n",
        "  print(w)"
      ],
      "metadata": {
        "id": "OwU-a7eGMsub",
        "colab": {
          "base_uri": "https://localhost:8080/"
        },
        "outputId": "e00f78bd-d819-4842-ed70-abd2b547a1c5"
      },
      "execution_count": 17,
      "outputs": [
        {
          "output_type": "stream",
          "name": "stdout",
          "text": [
            "Numero de secuencias encontradas: 19\n",
            "\n",
            "Lista de secuencias encontradas:\n",
            "===============================\n",
            "flat-lined\n",
            "hands-down\n",
            "must-stop\n",
            "sub-par\n",
            "Service-check\n",
            "in-house\n",
            "been-stepped-in-and-tracked-everywhere\n",
            "multi-grain\n",
            "to-go\n",
            "non-customer\n",
            "High-quality\n",
            "sit-down\n",
            "over-whelm\n",
            "low-key\n",
            "non-fancy\n",
            "golden-crispy\n",
            "over-priced\n",
            "over-hip\n",
            "under-services\n"
          ]
        }
      ]
    },
    {
      "cell_type": "markdown",
      "source": [
        "*   **Pregunta 12.**  \n",
        "\n",
        "Busca e imprime todas las palabras que terminan en \"ing\" o \"ed\".\n",
        "\n",
        "Indica la cantidad de palabras que encontraste de cada una."
      ],
      "metadata": {
        "id": "DEIgl79HMthr"
      }
    },
    {
      "cell_type": "code",
      "source": [
        "results_ing = re.findall(r'\\b[a-z]*ing\\b|\\b$', onedoc, re.IGNORECASE)\n",
        "results_ed = re.findall(r'\\b\\w*(?:ed)\\b|\\b$', onedoc, re.IGNORECASE)\n",
        "\n",
        "print('Numero de palabras que terminan en \"ing\": ' + str(len(results_ing)))\n",
        "print('Numero de palabras que terminan en \"ing\": ' + str(len(results_ed)) + '\\n')\n",
        "print('Lista de palabras que terminan en \"ing\" o \"ed: \"')\n",
        "print(\"=============================================\")\n",
        "for w in results_ing + results_ed:\n",
        "  print(w)"
      ],
      "metadata": {
        "id": "I4TSofBMMv9y",
        "colab": {
          "base_uri": "https://localhost:8080/"
        },
        "outputId": "c5837a6c-fe0c-4dd7-cb4c-a0b75e672cfb"
      },
      "execution_count": 18,
      "outputs": [
        {
          "output_type": "stream",
          "name": "stdout",
          "text": [
            "Numero de palabras que terminan en \"ing\": 280\n",
            "Numero de palabras que terminan en \"ing\": 339\n",
            "\n",
            "Lista de palabras que terminan en \"ing\" o \"ed: \"\n",
            "=============================================\n",
            "during\n",
            "getting\n",
            "being\n",
            "being\n",
            "amazing\n",
            "running\n",
            "redeeming\n",
            "getting\n",
            "thing\n",
            "dressing\n",
            "refreshing\n",
            "running\n",
            "amazing\n",
            "nothing\n",
            "appalling\n",
            "wasting\n",
            "eating\n",
            "going\n",
            "Coming\n",
            "experiencing\n",
            "underwhelming\n",
            "eating\n",
            "raving\n",
            "spring\n",
            "unsatisfying\n",
            "amazing\n",
            "Everything\n",
            "disappointing\n",
            "dining\n",
            "flirting\n",
            "thing\n",
            "coming\n",
            "playing\n",
            "ordering\n",
            "arriving\n",
            "disappointing\n",
            "preparing\n",
            "loving\n",
            "liking\n",
            "reviewing\n",
            "venturing\n",
            "including\n",
            "during\n",
            "changing\n",
            "going\n",
            "considering\n",
            "coming\n",
            "going\n",
            "everything\n",
            "looking\n",
            "dressing\n",
            "dining\n",
            "Everything\n",
            "amazing\n",
            "judging\n",
            "maintaining\n",
            "asking\n",
            "having\n",
            "something\n",
            "lacking\n",
            "Interesting\n",
            "preparing\n",
            "missing\n",
            "feeling\n",
            "exceeding\n",
            "inviting\n",
            "climbing\n",
            "waiting\n",
            "coming\n",
            "being\n",
            "lacking\n",
            "going\n",
            "amazing\n",
            "dealing\n",
            "annoying\n",
            "falling\n",
            "sporting\n",
            "amazing\n",
            "providing\n",
            "building\n",
            "FREEZING\n",
            "lighting\n",
            "going\n",
            "nothing\n",
            "working\n",
            "eating\n",
            "dressing\n",
            "being\n",
            "outstanding\n",
            "getting\n",
            "amazing\n",
            "rating\n",
            "eating\n",
            "writing\n",
            "everything\n",
            "dining\n",
            "boring\n",
            "charming\n",
            "going\n",
            "making\n",
            "pricing\n",
            "considering\n",
            "amazing\n",
            "Everything\n",
            "nothing\n",
            "nothing\n",
            "driving\n",
            "during\n",
            "evening\n",
            "Outstanding\n",
            "buying\n",
            "handling\n",
            "wasting\n",
            "craving\n",
            "dining\n",
            "interesting\n",
            "amazing\n",
            "being\n",
            "outshining\n",
            "starving\n",
            "coming\n",
            "considering\n",
            "shopping\n",
            "nothing\n",
            "getting\n",
            "trying\n",
            "eating\n",
            "going\n",
            "everything\n",
            "Nothing\n",
            "going\n",
            "outstanding\n",
            "running\n",
            "forgetting\n",
            "upgrading\n",
            "eating\n",
            "bring\n",
            "hoping\n",
            "living\n",
            "dining\n",
            "filling\n",
            "amazing\n",
            "Everything\n",
            "thing\n",
            "amazing\n",
            "Everything\n",
            "interesting\n",
            "amazing\n",
            "amazing\n",
            "waiting\n",
            "going\n",
            "going\n",
            "dining\n",
            "saving\n",
            "something\n",
            "trying\n",
            "disgusting\n",
            "hankering\n",
            "being\n",
            "being\n",
            "being\n",
            "setting\n",
            "sitting\n",
            "waiting\n",
            "satisfying\n",
            "eating\n",
            "being\n",
            "freaking\n",
            "getting\n",
            "amazing\n",
            "disappointing\n",
            "seasoning\n",
            "going\n",
            "being\n",
            "bring\n",
            "letting\n",
            "evening\n",
            "waiting\n",
            "being\n",
            "eating\n",
            "going\n",
            "seating\n",
            "playing\n",
            "amazing\n",
            "staying\n",
            "giving\n",
            "talking\n",
            "amazing\n",
            "amazing\n",
            "amazing\n",
            "amazing\n",
            "filling\n",
            "dripping\n",
            "going\n",
            "serving\n",
            "recommending\n",
            "thing\n",
            "reading\n",
            "seating\n",
            "going\n",
            "everything\n",
            "thing\n",
            "sitting\n",
            "waiting\n",
            "bring\n",
            "revisiting\n",
            "coming\n",
            "anything\n",
            "feeling\n",
            "during\n",
            "thing\n",
            "being\n",
            "amazing\n",
            "being\n",
            "amazing\n",
            "satifying\n",
            "describing\n",
            "coming\n",
            "everything\n",
            "Paying\n",
            "going\n",
            "thing\n",
            "amazing\n",
            "getting\n",
            "cramming\n",
            "considering\n",
            "fucking\n",
            "going\n",
            "appealing\n",
            "getting\n",
            "coming\n",
            "Everything\n",
            "dealing\n",
            "everything\n",
            "something\n",
            "during\n",
            "dining\n",
            "cooking\n",
            "dining\n",
            "editing\n",
            "setting\n",
            "amazing\n",
            "rotating\n",
            "Pricing\n",
            "satisfying\n",
            "disappointing\n",
            "amazing\n",
            "returning\n",
            "running\n",
            "being\n",
            "thing\n",
            "nothing\n",
            "poisoning\n",
            "thinking\n",
            "something\n",
            "going\n",
            "disgusting\n",
            "caring\n",
            "bring\n",
            "Disappointing\n",
            "saying\n",
            "going\n",
            "coming\n",
            "building\n",
            "seating\n",
            "dipping\n",
            "setting\n",
            "anything\n",
            "drinking\n",
            "serving\n",
            "doing\n",
            "putting\n",
            "getting\n",
            "looking\n",
            "coming\n",
            "staying\n",
            "lacking\n",
            "underwhelming\n",
            "drawing\n",
            "bring\n",
            "Loved\n",
            "Stopped\n",
            "loved\n",
            "ended\n",
            "overpriced\n",
            "tried\n",
            "disgusted\n",
            "shocked\n",
            "recommended\n",
            "performed\n",
            "red\n",
            "asked\n",
            "overwhelmed\n",
            "grossed\n",
            "melted\n",
            "provided\n",
            "cooked\n",
            "ordered\n",
            "realized\n",
            "Loved\n",
            "lined\n",
            "cooked\n",
            "ripped\n",
            "ripped\n",
            "petrified\n",
            "included\n",
            "expected\n",
            "seasoned\n",
            "cheated\n",
            "walked\n",
            "smelled\n",
            "tailored\n",
            "arrived\n",
            "roasted\n",
            "added\n",
            "LOVED\n",
            "cooked\n",
            "passed\n",
            "liked\n",
            "managed\n",
            "served\n",
            "overpriced\n",
            "checked\n",
            "disappointed\n",
            "red\n",
            "decorated\n",
            "served\n",
            "watched\n",
            "greeted\n",
            "seated\n",
            "waited\n",
            "flavored\n",
            "ordered\n",
            "ordered\n",
            "relocated\n",
            "impressed\n",
            "seated\n",
            "priced\n",
            "treated\n",
            "ordered\n",
            "used\n",
            "handed\n",
            "listed\n",
            "missed\n",
            "thrilled\n",
            "inspired\n",
            "desired\n",
            "overcooked\n",
            "decided\n",
            "looked\n",
            "dressed\n",
            "treated\n",
            "ordered\n",
            "sucked\n",
            "expected\n",
            "sucked\n",
            "imagined\n",
            "served\n",
            "arrived\n",
            "satisfied\n",
            "voted\n",
            "insulted\n",
            "disrespected\n",
            "dreamed\n",
            "lived\n",
            "stepped\n",
            "mixed\n",
            "showed\n",
            "realized\n",
            "loved\n",
            "needed\n",
            "loved\n",
            "wrapped\n",
            "uninspired\n",
            "Ordered\n",
            "uploaded\n",
            "covered\n",
            "supposed\n",
            "rolled\n",
            "stayed\n",
            "Based\n",
            "received\n",
            "privileged\n",
            "charged\n",
            "visited\n",
            "proclaimed\n",
            "disappointed\n",
            "Stopped\n",
            "dedicated\n",
            "liked\n",
            "disappointed\n",
            "waited\n",
            "waited\n",
            "burned\n",
            "waited\n",
            "disappointed\n",
            "Waited\n",
            "disappointed\n",
            "pulled\n",
            "prepared\n",
            "fried\n",
            "passed\n",
            "ordered\n",
            "toasted\n",
            "untoasted\n",
            "figured\n",
            "returned\n",
            "eyed\n",
            "disappointed\n",
            "pleased\n",
            "replenished\n",
            "disappointed\n",
            "treated\n",
            "offered\n",
            "tasted\n",
            "dropped\n",
            "decorated\n",
            "served\n",
            "HAPPENED\n",
            "walked\n",
            "stuffed\n",
            "located\n",
            "Cooked\n",
            "disappointed\n",
            "screwed\n",
            "frustrated\n",
            "iced\n",
            "stuffed\n",
            "disappointed\n",
            "grossed\n",
            "enjoyed\n",
            "looked\n",
            "overwhelmed\n",
            "stayed\n",
            "smeared\n",
            "stepped\n",
            "tracked\n",
            "tried\n",
            "rushed\n",
            "loved\n",
            "Ordered\n",
            "cooked\n",
            "insulted\n",
            "contained\n",
            "enjoyed\n",
            "relaxed\n",
            "loved\n",
            "acknowledged\n",
            "trimmed\n",
            "cooked\n",
            "claimed\n",
            "handled\n",
            "LOVED\n",
            "asked\n",
            "limited\n",
            "boiled\n",
            "liked\n",
            "sliced\n",
            "attached\n",
            "humiliated\n",
            "fried\n",
            "impressed\n",
            "disappointed\n",
            "priced\n",
            "disappointed\n",
            "need\n",
            "need\n",
            "experienced\n",
            "waited\n",
            "seated\n",
            "decided\n",
            "pleased\n",
            "recommended\n",
            "helped\n",
            "witnessed\n",
            "Waited\n",
            "waited\n",
            "waited\n",
            "checked\n",
            "tasted\n",
            "disappointed\n",
            "served\n",
            "rated\n",
            "recommended\n",
            "pulled\n",
            "waited\n",
            "acknowledged\n",
            "perpared\n",
            "dusted\n",
            "powdered\n",
            "enjoyed\n",
            "expanded\n",
            "ended\n",
            "arrived\n",
            "wanted\n",
            "disappointed\n",
            "need\n",
            "checked\n",
            "impressed\n",
            "reheated\n",
            "tasted\n",
            "grilled\n",
            "focused\n",
            "roasted\n",
            "asked\n",
            "ignored\n",
            "tasted\n",
            "Ordered\n",
            "greeted\n",
            "seated\n",
            "Tried\n",
            "seated\n",
            "Disappointed\n",
            "ordered\n",
            "constructed\n",
            "fried\n",
            "requested\n",
            "used\n",
            "tasted\n",
            "drenched\n",
            "tried\n",
            "walked\n",
            "expected\n",
            "disappointed\n",
            "mortified\n",
            "impressed\n",
            "refrained\n",
            "pleased\n",
            "loved\n",
            "grilled\n",
            "reminded\n",
            "sucked\n",
            "hooked\n",
            "ordered\n",
            "disappointed\n",
            "seasoned\n",
            "added\n",
            "touched\n",
            "fried\n",
            "opened\n",
            "impressed\n",
            "watched\n",
            "Tasted\n",
            "ordered\n",
            "received\n",
            "impressed\n",
            "overcooked\n",
            "cooked\n",
            "needed\n",
            "served\n",
            "ordered\n",
            "overpriced\n",
            "OVERPRICED\n",
            "packed\n",
            "opposed\n",
            "priced\n",
            "surprised\n",
            "focused\n",
            "overpriced\n",
            "tried\n",
            "enjoyed\n",
            "qualified\n",
            "tasted\n",
            "hated\n",
            "watched\n",
            "fried\n",
            "tried\n",
            "helped\n",
            "started\n",
            "highlighted\n",
            "used\n",
            "enjoyed\n",
            "ordered\n",
            "tasted\n",
            "asked\n",
            "refused\n",
            "tried\n",
            "toasted\n",
            "anticipated\n",
            "unexperienced\n",
            "insulted\n",
            "disrespected\n",
            "impressed\n",
            "puréed\n",
            "asked\n",
            "rated\n",
            "lacked\n",
            "sliced\n",
            "pulled\n",
            "undercooked\n",
            "seemed\n",
            "watered\n",
            "lacked\n",
            "disappointed\n",
            "overpriced\n",
            "ensued\n",
            "disappointed\n",
            "placed\n",
            "avoided\n",
            "received\n",
            "wanted\n",
            "sucked\n",
            "happened\n",
            "owned\n",
            "wanted\n",
            "Overpriced\n",
            "vomited\n",
            "started\n",
            "unwrapped\n",
            "lacked\n",
            "seemed\n",
            "undercooked\n",
            "closed\n",
            "refried\n",
            "dried\n",
            "disappointed\n",
            "impressed\n",
            "wasted\n",
            "poured\n"
          ]
        }
      ]
    },
    {
      "cell_type": "markdown",
      "source": [
        "#**Parte 3. Proceso de limpieza.**"
      ],
      "metadata": {
        "id": "70StdqAZa9E9"
      }
    },
    {
      "cell_type": "markdown",
      "source": [
        "*   **Pregunta 13.**  \n",
        "\n",
        "Ahora realiza un proceso de limpieza del corpus que incluya los siguientes procesos:\n",
        "\n",
        "*   Solo se deben considerar caracteres alfabéticos. Es decir, se eliminan todos los signos de puntuación y caracteres especiales.\n",
        "*   Todos los caracteres alfabéticos se transforman a minúsculas.\n",
        "*   Se deben eliminar todos los espacios en blanco adicionales que se puedan encontrar en cada comentario.\n",
        "\n",
        "Al finalizar dicho proceso de limpieza, imprime el resultado de los primeros 10 comentarios resultantes.\n",
        "   \n",
        "\n",
        "\n"
      ],
      "metadata": {
        "id": "xaDUFXHrMvX2"
      }
    },
    {
      "cell_type": "code",
      "source": [
        "for idx, txt in enumerate(docs):\n",
        "  # Eliminamos caracteres no alfabeticos con excepcion del los espacios en blanco\n",
        "  # los que eliminaremos posteriormente\n",
        "  docs[idx] = re.sub(r'[^A-Za-z]{1,}',' ', docs[idx])\n",
        "  # Eliminamos espacios en blanco repetidos y convertimos el texto a minusculas\n",
        "  docs[idx] = re.sub(r'[ ]{1,}',' ',docs[idx])\n",
        "  docs[idx] = re.sub(r'^[ ]|[ ]$', '', docs[idx]).lower()\n",
        "\n",
        "# Nota: Si se requiere hacer la conversion de mayusculas a minuscular utilizando\n",
        "# expresiones regulares esta se podria realizar definiendo una function o\n",
        "# utilizando funciones lambda como\n",
        "# re.sub(r'[A-Z]', lambda x: x.group(0).lower(), cleandoc)\n",
        "# Por simplicidad utilize la function lower() aplicada directamente a la cadena\n",
        "# de caracteres (string) resultante"
      ],
      "metadata": {
        "id": "K3kQzPOPMx0w"
      },
      "execution_count": 19,
      "outputs": []
    },
    {
      "cell_type": "code",
      "source": [
        "docs[:10]"
      ],
      "metadata": {
        "id": "mYEDlHSFMyJN",
        "colab": {
          "base_uri": "https://localhost:8080/"
        },
        "outputId": "e19cf30b-893c-447a-d290-26f9726ccc84"
      },
      "execution_count": 20,
      "outputs": [
        {
          "output_type": "execute_result",
          "data": {
            "text/plain": [
              "['wow loved this place',\n",
              " 'crust is not good',\n",
              " 'not tasty and the texture was just nasty',\n",
              " 'stopped by during the late may bank holiday off rick steve recommendation and loved it',\n",
              " 'the selection on the menu was great and so were the prices',\n",
              " 'now i am getting angry and i want my damn pho',\n",
              " 'honeslty it didn t taste that fresh',\n",
              " 'the potatoes were like rubber and you could tell they had been made up ahead of time being kept under a warmer',\n",
              " 'the fries were great too',\n",
              " 'a great touch']"
            ]
          },
          "metadata": {},
          "execution_count": 20
        }
      ]
    },
    {
      "cell_type": "markdown",
      "source": [
        "*   **Pregunta 14.**  \n",
        "\n",
        "Con el resultado de la limpieza obtenido en la pregunta anterior, realiza ahora un proceso de tokenización por palabras del corpus.\n",
        "\n",
        "Es decir, al final de este proceso de tokenización, debes tener como resultado una lista de listas, donde cada comentario estará tokenizado por palabras.\n",
        "\n",
        "Al terminar calcula el total de tokens obtenido en todo el corpus."
      ],
      "metadata": {
        "id": "WZwEhg2lUSAX"
      }
    },
    {
      "cell_type": "code",
      "source": [
        "token_cnt = 0\n",
        "for idx, txt in enumerate(docs):\n",
        "  docs[idx] = re.split('\\s', txt)\n",
        "  token_cnt = token_cnt + len(docs[idx])\n",
        "\n",
        "print(\"Numero total de tokens: \" + str(token_cnt))"
      ],
      "metadata": {
        "id": "kbAL9-v0V-jx",
        "colab": {
          "base_uri": "https://localhost:8080/"
        },
        "outputId": "685322f5-5e6f-46bc-bcf2-6c23fcdda086"
      },
      "execution_count": 21,
      "outputs": [
        {
          "output_type": "stream",
          "name": "stdout",
          "text": [
            "Numero total de tokens: 11041\n"
          ]
        }
      ]
    },
    {
      "cell_type": "markdown",
      "source": [
        "*   **Pregunta 15.**  \n",
        "\n",
        "Finalmente, en este ejercicio definiremos nuestro conjunto de palabras \"stopwords\", las cuales deberás eliminar de todo el corpus.\n",
        "\n",
        "Recuerda que ejemplos de stopwords son artículos, adverbios, conectivos, etcétera, que tienen frecuencias de aparición muy altas en cualquier documento, pero que no brindan mucho significado en cuanto al significado de un enunciado.\n",
        "\n",
        "Con base a la lista de stopwords que se te proporciona, realiza un proceso de limpieza eliminando todas estas palabras del corpus obtenido en el ejercicio anterior.\n",
        "\n",
        "Obtener cuántos tokens/palabras quedan finalmente en todo el corpus.\n",
        "\n",
        "Obtener cuántos de estos tokens/palabras son diferentes, es decir, cuántos tokens únicos tendrá lo que llamaremos más adelante nuestro vocabulario."
      ],
      "metadata": {
        "id": "EFeu0OJ7WDPD"
      }
    },
    {
      "cell_type": "code",
      "source": [
        "# Considera la siguiente lista como tu conjunto de stopwords:\n",
        "mis_stopwords = ['i', 'me', 'my', 'myself', 'we', 'our', 'ours', 'ourselves', 'you', 'your', 'yours', 'he', 'him', 'his', 'himself', 'she', 'her', 'hers', 'herself', 'it', 'its', 'itself', 'they', 'them', 'their', 'theirs', 'themselves', 'what', 'which', 'who', 'whom', 'this', 'that', 'these', 'those', 'am', 'is', 'are', 'was', 'were', 'be', 'been', 'being', 'have', 'has', 'had', 'having', 'do', 'does', 'did', 'doing', 'a', 'an', 'the', 'and', 'but', 'if', 'or', 'because', 'as', 'until', 'while', 'of', 'at', 'by', 'for', 'with', 'about', 'against', 'between', 'into', 'through', 'during', 'before', 'after', 'above', 'below', 'to', 'from', 'up', 'down', 'in', 'out', 'on', 'over', 'under', 'again', 'further', 'then', 'once', 'here', 'there', 'when', 'where', 'why', 'how', 'all', 'any', 'both', 'each', 'few', 'more', 'most', 'other', 'some', 'such', 'only', 'own', 'same', 'so', 'than', 'too', 'very', 's', 't', 'can', 'will', 'just', 'should', 'now', 'll']"
      ],
      "metadata": {
        "id": "6FP4FF3KXGxm"
      },
      "execution_count": 22,
      "outputs": []
    },
    {
      "cell_type": "code",
      "source": [
        "total_tokens = 0\n",
        "unique_tokens = set()\n",
        "for idx, lista in enumerate(docs):\n",
        "  # Eliminamos stopwords de cada una de las listas\n",
        "  docs[idx] = list(set(lista) - set(mis_stopwords))\n",
        "  # contamos el numero total de tokens\n",
        "  total_tokens = total_tokens + len(docs[idx])\n",
        "  # guardamos los tokens diferentes\n",
        "  unique_tokens.update(docs[idx])"
      ],
      "metadata": {
        "id": "CD8yjyq1ZrwY"
      },
      "execution_count": 23,
      "outputs": []
    },
    {
      "cell_type": "code",
      "source": [
        "print(\"Numero total de tokens: \" + str(total_tokens))\n",
        "print(\"Numero de tokens diferentes: \" + str(len(unique_tokens)))"
      ],
      "metadata": {
        "id": "4ZPi5prKZro5",
        "colab": {
          "base_uri": "https://localhost:8080/"
        },
        "outputId": "aa1f7e9e-875e-4699-d40e-f6f614b62ed0"
      },
      "execution_count": 24,
      "outputs": [
        {
          "output_type": "stream",
          "name": "stdout",
          "text": [
            "Numero total de tokens: 5682\n",
            "Numero de tokens diferentes: 1911\n"
          ]
        }
      ]
    },
    {
      "cell_type": "markdown",
      "source": [
        "*   **Comentarios**\n",
        "\n",
        "Incluye finalmente tus comentarios de la actividad."
      ],
      "metadata": {
        "id": "NDbKkuxRbLoX"
      }
    },
    {
      "cell_type": "markdown",
      "source": [
        "Esta actividad introductoria al campo de Procesamiento de Lenguaje Natural demuestra la necesidad de dominar la expresiones regulares. Si bien en el pasado tuve la necesidad de utilizar expresiones regulares, los enunciandos eran sensillos y los patrones simples. Al terminar esta asignacion coinsidero que he aprendido mas de las expresiones regulares pero que necesito invertir mas tiempo en su estudio para mejorar mis abilidades en el manejo de estas.\n",
        "\n",
        "Por otro lado, esta asignacion resalta las partes importantes en la preparacion del corpus lingüistico necesario para los procesos subsequentes."
      ],
      "metadata": {
        "id": "o7fzbvqVbUGr"
      }
    },
    {
      "cell_type": "markdown",
      "source": [
        "##**Fin de la Actividad de la semana 2.**"
      ],
      "metadata": {
        "id": "PHaKw_6Ldbaf"
      }
    }
  ]
}